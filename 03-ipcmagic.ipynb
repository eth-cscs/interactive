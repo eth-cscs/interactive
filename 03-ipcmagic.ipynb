{
 "cells": [
  {
   "cell_type": "markdown",
   "metadata": {},
   "source": [
    "# ipcmagic"
   ]
  },
  {
   "cell_type": "markdown",
   "metadata": {},
   "source": [
    "To automate the starting and stopping of an ipyparallel clusters we recommend using our magic commands. \n",
    "\n",
    "To get access to this, you need to have `module load ipcmagic` in your `.jupyterhub.env` file.\n",
    "\n",
    "To make the `%ipcluster` magic available, first import `ipcmagic`."
   ]
  },
  {
   "cell_type": "markdown",
   "metadata": {},
   "source": [
    "Points to look at:\n",
    " * `%ipcluster start -n 12 --mpi` starts the cluster. In a terminal you should see processes like:\n",
    "    ```bash\n",
    "    > ps -u $USER | grep ip\n",
    "    1270 pts/8    00:00:01 ipcontroller\n",
    "    1278 pts/8    00:00:00 ipcontroller\n",
    "    1279 pts/8    00:00:00 ipcontroller\n",
    "    1282 pts/8    00:00:00 ipcontroller\n",
    "    1285 pts/8    00:00:00 ipcontroller\n",
    "    1334 ?        00:00:01 ipengine\n",
    "    1335 ?        00:00:01 ipengine\n",
    "    1336 ?        00:00:00 ipengine\n",
    "    1337 ?        00:00:00 ipengine\n",
    "    1338 ?        00:00:00 ipengine\n",
    "    1339 ?        00:00:00 ipengine\n",
    "    1340 ?        00:00:00 ipengine\n",
    "    1341 ?        00:00:00 ipengine\n",
    "    1342 ?        00:00:00 ipengine\n",
    "    1343 ?        00:00:00 ipengine\n",
    "    1344 ?        00:00:00 ipengine\n",
    "    1345 ?        00:00:00 ipengine\n",
    "    31037 ?       00:00:00 slurm_script\n",
    "    ```\n",
    " * `%ipcluster stop` stops the cluster. Check with the same command that all the process shown above no longer exist.\n",
    " * After stopping the cluster, it can be restarted by running `%ipcluster start -n 12 --mpi` again.\n",
    " * Running `%ipcluster start <...>` while the cluster is active, should give `IPCluster is already running`.\n",
    " * Running `%ipcluster stop` whould give `IPCluster not running`.\n",
    " * Restarting the kernel kills all the process mentioned above."
   ]
  },
  {
   "cell_type": "code",
   "execution_count": null,
   "metadata": {},
   "outputs": [],
   "source": [
    "import numpy as np\n",
    "import ipcmagic\n",
    "import ipyparallel as ipp"
   ]
  },
  {
   "cell_type": "code",
   "execution_count": null,
   "metadata": {},
   "outputs": [],
   "source": [
    "%ipcluster --help"
   ]
  },
  {
   "cell_type": "code",
   "execution_count": null,
   "metadata": {},
   "outputs": [],
   "source": [
    "%ipcluster --version"
   ]
  },
  {
   "cell_type": "code",
   "execution_count": null,
   "metadata": {},
   "outputs": [],
   "source": [
    "# start a cluster of 12 engines without mpi\n",
    "%ipcluster start -n 12 "
   ]
  },
  {
   "cell_type": "code",
   "execution_count": null,
   "metadata": {},
   "outputs": [],
   "source": [
    "c = ipp.Client()"
   ]
  },
  {
   "cell_type": "code",
   "execution_count": null,
   "metadata": {},
   "outputs": [],
   "source": [
    "c.ids"
   ]
  },
  {
   "cell_type": "code",
   "execution_count": null,
   "metadata": {},
   "outputs": [],
   "source": [
    "%px print(\"hosts:\", socket.gethostname())"
   ]
  },
  {
   "cell_type": "code",
   "execution_count": null,
   "metadata": {},
   "outputs": [],
   "source": [
    "variable = 2"
   ]
  },
  {
   "cell_type": "code",
   "execution_count": null,
   "metadata": {},
   "outputs": [],
   "source": [
    "%px variable"
   ]
  },
  {
   "cell_type": "code",
   "execution_count": null,
   "metadata": {},
   "outputs": [],
   "source": [
    "%px variable = 2"
   ]
  },
  {
   "cell_type": "code",
   "execution_count": null,
   "metadata": {},
   "outputs": [],
   "source": [
    "%px variable"
   ]
  },
  {
   "cell_type": "code",
   "execution_count": null,
   "metadata": {},
   "outputs": [],
   "source": [
    "# stop the cluster\n",
    "%ipcluster stop \n"
   ]
  },
  {
   "cell_type": "code",
   "execution_count": null,
   "metadata": {},
   "outputs": [],
   "source": [
    "# start a cluster of 12 engines WITH mpi\n",
    "%ipcluster start -n 12 --mpi"
   ]
  },
  {
   "cell_type": "code",
   "execution_count": null,
   "metadata": {},
   "outputs": [],
   "source": [
    "%%px\n",
    "import socket\n",
    "from mpi4py import MPI"
   ]
  },
  {
   "cell_type": "code",
   "execution_count": null,
   "metadata": {},
   "outputs": [],
   "source": [
    "%%px\n",
    "print(\"Hello World from rank %s of %s on nid %s\" % (MPI.COMM_WORLD.rank,\n",
    "                                                    MPI.COMM_WORLD.size,\n",
    "                                                    socket.gethostname()))"
   ]
  },
  {
   "cell_type": "code",
   "execution_count": null,
   "metadata": {},
   "outputs": [],
   "source": [
    "# stop the cluster\n",
    "%ipcluster stop "
   ]
  },
  {
   "cell_type": "code",
   "execution_count": null,
   "metadata": {},
   "outputs": [],
   "source": []
  }
 ],
 "metadata": {
  "kernelspec": {
   "display_name": "Python 3",
   "language": "python",
   "name": "python3"
  },
  "language_info": {
   "codemirror_mode": {
    "name": "ipython",
    "version": 3
   },
   "file_extension": ".py",
   "mimetype": "text/x-python",
   "name": "python",
   "nbconvert_exporter": "python",
   "pygments_lexer": "ipython3",
   "version": "3.8.5"
  }
 },
 "nbformat": 4,
 "nbformat_minor": 4
}
