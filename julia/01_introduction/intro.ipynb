{
 "cells": [
  {
   "cell_type": "markdown",
   "metadata": {},
   "source": [
    "# Interactive computing with Julia on Piz Daint"
   ]
  },
  {
   "cell_type": "markdown",
   "metadata": {},
   "source": [
    "Julia is already over a decade old with the first stable 1.0.0 version released August 2018. Currently we are at version 1.6.0 and considering the release notes of this release, much work is going into improving the user experience, as if most major features are more or less complete.\n",
    "\n",
    "![old_commit.png](old_commit.png)\n",
    "\n",
    "The goal of these notebooks will be to show you how you can use Julia on Piz Daint, and hopefully leaves you with the impression that Julia can be considered as a language in which you can prototype quickly without sacrificing performance.\n",
    "\n",
    "Note: I will not really go into distributed computing. For that I'd refer you to Samuel Omlin's work on https://github.com/eth-cscs/ImplicitGlobalGrid.jl which he presented at JuliaCon too: https://www.youtube.com/watch?v=vPsfZUqI4_0 the video has zero downvotes, so clearly it must be good!\n",
    "\n",
    "What I will show is Julia's language features & CPU and GPU programming, all interactively in notebooks, so you can follow along!"
   ]
  },
  {
   "cell_type": "markdown",
   "metadata": {},
   "source": [
    "## First steps\n",
    "\n",
    "Some basic julia commands to get started"
   ]
  },
  {
   "cell_type": "code",
   "execution_count": 1,
   "metadata": {},
   "outputs": [
    {
     "data": {
      "text/plain": [
       "2"
      ]
     },
     "execution_count": 1,
     "metadata": {},
     "output_type": "execute_result"
    }
   ],
   "source": [
    "1 + 1"
   ]
  },
  {
   "cell_type": "code",
   "execution_count": 2,
   "metadata": {},
   "outputs": [
    {
     "data": {
      "text/plain": [
       "true"
      ]
     },
     "execution_count": 2,
     "metadata": {},
     "output_type": "execute_result"
    }
   ],
   "source": [
    "1 + 1 == 2"
   ]
  },
  {
   "cell_type": "code",
   "execution_count": 3,
   "metadata": {},
   "outputs": [
    {
     "data": {
      "text/plain": [
       "Int64"
      ]
     },
     "execution_count": 3,
     "metadata": {},
     "output_type": "execute_result"
    }
   ],
   "source": [
    "typeof(1)"
   ]
  },
  {
   "cell_type": "code",
   "execution_count": 4,
   "metadata": {},
   "outputs": [
    {
     "data": {
      "text/plain": [
       "false"
      ]
     },
     "execution_count": 4,
     "metadata": {},
     "output_type": "execute_result"
    }
   ],
   "source": [
    "0.1 + 0.2 == 0.3"
   ]
  },
  {
   "cell_type": "code",
   "execution_count": 5,
   "metadata": {},
   "outputs": [
    {
     "data": {
      "text/plain": [
       "true"
      ]
     },
     "execution_count": 5,
     "metadata": {},
     "output_type": "execute_result"
    }
   ],
   "source": [
    "0.1 + 0.2 ≈ 0.3"
   ]
  },
  {
   "cell_type": "code",
   "execution_count": 6,
   "metadata": {},
   "outputs": [
    {
     "data": {
      "text/plain": [
       "Float64"
      ]
     },
     "execution_count": 6,
     "metadata": {},
     "output_type": "execute_result"
    }
   ],
   "source": [
    "typeof(0.1)"
   ]
  },
  {
   "cell_type": "markdown",
   "metadata": {},
   "source": [
    "## Using standard libraries\n",
    "\n",
    "Julia comes with a few standard libraries, which can be made available in the current scope through `using`"
   ]
  },
  {
   "cell_type": "code",
   "execution_count": 7,
   "metadata": {},
   "outputs": [],
   "source": [
    "using LinearAlgebra"
   ]
  },
  {
   "cell_type": "code",
   "execution_count": 8,
   "metadata": {},
   "outputs": [
    {
     "data": {
      "text/plain": [
       "10×10 Diagonal{Int64, UnitRange{Int64}}:\n",
       " 1  ⋅  ⋅  ⋅  ⋅  ⋅  ⋅  ⋅  ⋅   ⋅\n",
       " ⋅  2  ⋅  ⋅  ⋅  ⋅  ⋅  ⋅  ⋅   ⋅\n",
       " ⋅  ⋅  3  ⋅  ⋅  ⋅  ⋅  ⋅  ⋅   ⋅\n",
       " ⋅  ⋅  ⋅  4  ⋅  ⋅  ⋅  ⋅  ⋅   ⋅\n",
       " ⋅  ⋅  ⋅  ⋅  5  ⋅  ⋅  ⋅  ⋅   ⋅\n",
       " ⋅  ⋅  ⋅  ⋅  ⋅  6  ⋅  ⋅  ⋅   ⋅\n",
       " ⋅  ⋅  ⋅  ⋅  ⋅  ⋅  7  ⋅  ⋅   ⋅\n",
       " ⋅  ⋅  ⋅  ⋅  ⋅  ⋅  ⋅  8  ⋅   ⋅\n",
       " ⋅  ⋅  ⋅  ⋅  ⋅  ⋅  ⋅  ⋅  9   ⋅\n",
       " ⋅  ⋅  ⋅  ⋅  ⋅  ⋅  ⋅  ⋅  ⋅  10"
      ]
     },
     "execution_count": 8,
     "metadata": {},
     "output_type": "execute_result"
    }
   ],
   "source": [
    "A = Diagonal(1:10)"
   ]
  },
  {
   "cell_type": "code",
   "execution_count": 9,
   "metadata": {},
   "outputs": [
    {
     "data": {
      "text/plain": [
       "1:10"
      ]
     },
     "execution_count": 9,
     "metadata": {},
     "output_type": "execute_result"
    }
   ],
   "source": [
    "eigvals(A)"
   ]
  },
  {
   "cell_type": "code",
   "execution_count": 10,
   "metadata": {},
   "outputs": [
    {
     "data": {
      "text/plain": [
       "10×10 Matrix{Float64}:\n",
       " 5.17445    0.0565878  0.768612  0.49028    …  0.588398  0.227059   0.112751\n",
       " 0.361142   5.90662    0.683257  0.711889      0.837828  0.919946   0.370709\n",
       " 0.337357   0.91847    5.24899   0.0314777     0.238267  0.0578592  0.716263\n",
       " 0.697695   0.320546   0.722656  5.71448       0.218815  0.659964   0.760069\n",
       " 0.0451758  0.293261   0.557176  0.652809      0.582713  0.512084   0.176921\n",
       " 0.488666   0.0282614  0.672091  0.0989394  …  0.403714  0.0956991  0.641458\n",
       " 0.454971   0.936158   0.215611  0.776291      0.93223   0.0805882  0.819934\n",
       " 0.783897   0.637117   0.174138  0.219187      5.13362   0.540986   0.314249\n",
       " 0.411182   0.588639   0.440068  0.845902      0.881879  5.77491    0.970982\n",
       " 0.453765   0.247235   0.981043  0.729701      0.621563  0.873831   5.62427"
      ]
     },
     "execution_count": 10,
     "metadata": {},
     "output_type": "execute_result"
    }
   ],
   "source": [
    "B = rand(10, 10) + 5I"
   ]
  },
  {
   "cell_type": "code",
   "execution_count": 11,
   "metadata": {},
   "outputs": [
    {
     "data": {
      "text/plain": [
       "Matrix{Float64} (alias for Array{Float64, 2})"
      ]
     },
     "execution_count": 11,
     "metadata": {},
     "output_type": "execute_result"
    }
   ],
   "source": [
    "typeof(B)"
   ]
  },
  {
   "cell_type": "code",
   "execution_count": 12,
   "metadata": {},
   "outputs": [
    {
     "data": {
      "text/plain": [
       "10-element Vector{ComplexF64}:\n",
       "  4.195679624249867 + 0.0im\n",
       "  4.290202866284265 - 0.17358033694116112im\n",
       "  4.290202866284265 + 0.17358033694116112im\n",
       "  4.910378142016265 - 0.22643088322870217im\n",
       "  4.910378142016265 + 0.22643088322870217im\n",
       "  5.413238859626805 - 0.26049958210751645im\n",
       "  5.413238859626805 + 0.26049958210751645im\n",
       "  5.840002796174662 - 0.16716688735074997im\n",
       "  5.840002796174662 + 0.16716688735074997im\n",
       " 10.164862367168405 + 0.0im"
      ]
     },
     "execution_count": 12,
     "metadata": {},
     "output_type": "execute_result"
    }
   ],
   "source": [
    "eigvals(B)"
   ]
  },
  {
   "cell_type": "code",
   "execution_count": 13,
   "metadata": {},
   "outputs": [
    {
     "data": {
      "text/plain": [
       "10-element Vector{Float64}:\n",
       "  5.0\n",
       "  5.0\n",
       "  5.0\n",
       "  5.0\n",
       "  5.0\n",
       "  5.0\n",
       "  5.0\n",
       "  5.0\n",
       "  5.0\n",
       " 10.0"
      ]
     },
     "execution_count": 13,
     "metadata": {},
     "output_type": "execute_result"
    }
   ],
   "source": [
    "# the expected value of rand(10, 10) + 5I is a matrix filled with .5 on the off-diagonals and 5.5 on the diagonals:\n",
    "eigvals(fill(0.5, 10, 10) + 5I)"
   ]
  },
  {
   "cell_type": "code",
   "execution_count": 14,
   "metadata": {},
   "outputs": [],
   "source": [
    "using SparseArrays"
   ]
  },
  {
   "cell_type": "code",
   "execution_count": 15,
   "metadata": {},
   "outputs": [
    {
     "data": {
      "text/plain": [
       "1000×1000 SparseMatrixCSC{Float64, Int64} with 2005 stored entries:\n",
       "⠑⢄⢠⢀⡀⠀⠀⠕⡐⢠⠂⡲⠠⠀⠀⢀⠄⠀⠀⡠⠀⠐⠑⠀⠀⠀⠐⠨⠀⠒⠨⠀⠀⠄⠈⢄⢒⠐⠠⠠\n",
       "⠃⠠⠝⢄⠤⡂⠈⡀⢔⠈⠐⢀⠲⠌⡠⠀⠀⠁⠀⠀⡨⠠⠀⠀⠀⡈⠀⠀⠀⠀⠥⠌⠆⠐⠁⠔⢘⠔⠡⠀\n",
       "⠀⠄⡀⡺⠙⢄⠁⢀⠀⡀⡄⠂⢀⠁⢀⠀⢀⠠⠀⠄⠄⠀⢀⠈⢔⢀⢀⣄⡀⢠⠄⠀⡒⡁⢀⠠⠀⠀⠂⠄\n",
       "⠀⠀⠃⠂⠐⠀⠓⢬⡜⢄⠀⠂⠀⢠⡀⠏⠂⠠⢀⠐⠂⠠⠀⡀⠠⠀⡂⡈⠘⠀⠀⠠⠂⠀⠡⠀⠈⡀⠠⡀\n",
       "⡠⠠⡄⣈⡀⢄⠀⡣⠑⢼⠀⠀⠀⠀⠀⠀⠄⠆⡄⠀⡊⠀⠤⠐⢀⠁⠀⠡⢈⠀⠥⢀⠀⠈⠄⣂⠊⠀⡄⠄\n",
       "⡀⠉⠁⠂⡀⠁⡀⡀⢀⠀⢗⢬⠀⠀⠸⢁⠀⠁⠓⢀⣜⠐⠐⠀⠂⠁⠀⠑⠀⢍⠢⠀⡁⠐⠠⠀⠄⠀⠤⠀\n",
       "⠀⠡⢨⠄⡈⠂⢈⠊⠂⠠⢉⠄⡑⢔⠀⠁⠀⠈⠀⡀⠁⢓⠜⢒⠀⢢⠐⠈⠀⡀⠐⠡⠀⣢⢠⠠⠀⡀⢔⠀\n",
       "⠐⠉⠐⠠⢁⠀⠨⠀⠀⠄⡦⠒⠀⠀⡑⣜⠄⣄⠡⠀⡀⡋⠚⠀⠄⠂⠀⠄⠂⠂⡀⠀⢀⠄⠂⢆⣘⠂⠄⠀\n",
       "⠀⠑⠀⡁⠉⠠⠀⡂⠀⠈⠂⢄⠪⢀⢀⠐⠳⢌⠐⠠⡰⠁⠀⠀⠂⠄⠐⠐⠀⠀⠂⢀⠩⠠⢊⢀⢀⠀⠀⠈\n",
       "⠀⠀⠀⡀⠀⠗⢐⠁⠡⠀⠀⢈⠊⠀⠐⠄⢀⠈⢕⢌⠀⠀⠄⡄⡂⡃⠈⠡⠀⠈⠀⠀⢀⠂⡀⢐⠐⠚⠐⠩\n",
       "⠄⠀⡈⠀⠐⠀⠀⠄⠄⠀⠒⠀⢀⠈⠂⡀⣠⣠⡀⠍⡑⢄⠘⠀⠀⢑⠄⡀⠈⠁⠑⡀⢂⡈⠄⠀⡠⡀⠬⠀\n",
       "⠁⢀⠂⠀⠐⠂⠀⠤⣈⢈⠀⠀⢐⡀⡰⢠⠀⡄⠀⢀⠀⠀⠕⢄⠑⢜⢂⠊⠢⠌⡀⠀⠡⠐⢈⢐⠀⠂⠠⢒\n",
       "⠠⠂⠈⠠⠀⡀⠂⡁⠠⠀⠊⢀⠈⠅⠈⠀⠀⠠⠂⠤⠄⠁⢀⠠⠑⢄⠄⠀⢂⠐⡁⠄⠀⠖⠀⠂⡦⠈⢕⢀\n",
       "⠠⠆⡠⠀⣡⠀⢀⠀⠐⠁⡐⠁⠀⠰⠠⠈⠀⠱⢃⢄⢑⢁⠠⠀⢠⠀⠑⢄⠀⠀⠀⢆⠨⢂⠀⠆⠂⡀⠰⠀\n",
       "⠀⠤⠄⢐⢄⡢⠈⠀⠄⠐⠀⢄⢠⠀⠀⠂⠱⠀⠔⠀⠄⡂⠀⠈⡀⠀⠂⠉⠑⢔⠀⠁⣄⡈⠀⠁⠰⠈⠤⠄\n",
       "⠈⠀⠀⠀⠒⠤⠀⠢⢠⠀⠀⠂⠀⠨⠐⡐⠄⠀⡊⠨⠀⠸⠈⠐⠂⠠⠀⠀⠈⠀⠑⢜⡀⠀⠀⡀⠀⠌⡤⠁\n",
       "⠁⠠⠀⠢⢀⡀⠄⠰⠤⠀⠀⡐⠘⡀⠔⢂⠀⢈⠂⡀⠀⠰⠐⠁⠠⠈⠀⠘⠁⠄⠁⠀⠑⢆⠀⢰⠀⠈⠈⡒\n",
       "⠀⠀⠠⠄⠰⠀⠂⣀⠂⠰⠂⡀⠀⠤⠐⠀⠀⠁⡀⠀⠲⡈⠐⠂⠀⠀⠀⢀⡀⠀⠀⠄⠀⠠⠵⢴⠀⢄⠁⠀\n",
       "⠈⠀⢀⠠⠈⠑⠁⠀⠂⠀⠄⠰⢀⡐⠂⢠⠀⠐⡡⠠⠓⢈⢐⠁⠅⡎⠠⠉⡀⠖⠄⠐⠩⠀⠢⢀⠕⢤⠑⠀\n",
       "⡀⠀⠐⠀⡀⠣⢠⠀⠈⠑⠂⠈⠈⠔⠀⢐⠀⢒⠒⠌⠄⡂⢀⢀⠠⠂⠀⠈⠁⠄⠁⠁⠰⠄⠀⠀⠰⠆⠕⢌"
      ]
     },
     "execution_count": 15,
     "metadata": {},
     "output_type": "execute_result"
    }
   ],
   "source": [
    "A_sparse = sprand(1000, 1000, 1 / 1000) + 10I"
   ]
  },
  {
   "cell_type": "code",
   "execution_count": 16,
   "metadata": {},
   "outputs": [
    {
     "data": {
      "text/plain": [
       "1000-element Vector{Float64}:\n",
       " 2.9385247542078083\n",
       " 0.48594363720573464\n",
       " 6.138050062254244\n",
       " 2.4083624086583955\n",
       " 1.4876286998296215\n",
       " 6.608012725204055\n",
       " 6.86949316394347\n",
       " 4.1365746304881545\n",
       " 9.766379992589348\n",
       " 4.917861260630062\n",
       " 3.371593275201896\n",
       " 7.08714706607816\n",
       " 2.8974144436299327\n",
       " ⋮\n",
       " 6.060395090991673\n",
       " 6.191962478117563\n",
       " 4.870910160375369\n",
       " 7.657550441077634\n",
       " 8.536259803581736\n",
       " 0.5546443853595124\n",
       " 7.121487986038009\n",
       " 6.4077117529451355\n",
       " 4.8124286738176165\n",
       " 4.539160937266617\n",
       " 4.680368281983247\n",
       " 6.125577997748812"
      ]
     },
     "execution_count": 16,
     "metadata": {},
     "output_type": "execute_result"
    }
   ],
   "source": [
    "A_sparse * rand(1000)"
   ]
  },
  {
   "cell_type": "markdown",
   "metadata": {},
   "source": [
    "But not everything is implemented in Julia's base libraries! You might need external packages too"
   ]
  },
  {
   "cell_type": "code",
   "execution_count": 17,
   "metadata": {},
   "outputs": [
    {
     "ename": "LoadError",
     "evalue": "MethodError: no method matching eigvals!(::SparseMatrixCSC{Float64, Int64})\n\u001b[0mClosest candidates are:\n\u001b[0m  eigvals!(\u001b[91m::SymTridiagonal{var\"#s832\", V} where {var\"#s832\"<:Union{Float32, Float64}, V<:AbstractVector{var\"#s832\"}}\u001b[39m) at /buildworker/worker/package_linux64/build/usr/share/julia/stdlib/v1.6/LinearAlgebra/src/tridiag.jl:293\n\u001b[0m  eigvals!(\u001b[91m::SymTridiagonal{var\"#s832\", V} where {var\"#s832\"<:Union{Float32, Float64}, V<:AbstractVector{var\"#s832\"}}\u001b[39m, \u001b[91m::UnitRange\u001b[39m) at /buildworker/worker/package_linux64/build/usr/share/julia/stdlib/v1.6/LinearAlgebra/src/tridiag.jl:296\n\u001b[0m  eigvals!(\u001b[91m::SymTridiagonal{var\"#s832\", V} where {var\"#s832\"<:Union{Float32, Float64}, V<:AbstractVector{var\"#s832\"}}\u001b[39m, \u001b[91m::Real\u001b[39m, \u001b[91m::Real\u001b[39m) at /buildworker/worker/package_linux64/build/usr/share/julia/stdlib/v1.6/LinearAlgebra/src/tridiag.jl:301\n\u001b[0m  ...",
     "output_type": "error",
     "traceback": [
      "MethodError: no method matching eigvals!(::SparseMatrixCSC{Float64, Int64})\n\u001b[0mClosest candidates are:\n\u001b[0m  eigvals!(\u001b[91m::SymTridiagonal{var\"#s832\", V} where {var\"#s832\"<:Union{Float32, Float64}, V<:AbstractVector{var\"#s832\"}}\u001b[39m) at /buildworker/worker/package_linux64/build/usr/share/julia/stdlib/v1.6/LinearAlgebra/src/tridiag.jl:293\n\u001b[0m  eigvals!(\u001b[91m::SymTridiagonal{var\"#s832\", V} where {var\"#s832\"<:Union{Float32, Float64}, V<:AbstractVector{var\"#s832\"}}\u001b[39m, \u001b[91m::UnitRange\u001b[39m) at /buildworker/worker/package_linux64/build/usr/share/julia/stdlib/v1.6/LinearAlgebra/src/tridiag.jl:296\n\u001b[0m  eigvals!(\u001b[91m::SymTridiagonal{var\"#s832\", V} where {var\"#s832\"<:Union{Float32, Float64}, V<:AbstractVector{var\"#s832\"}}\u001b[39m, \u001b[91m::Real\u001b[39m, \u001b[91m::Real\u001b[39m) at /buildworker/worker/package_linux64/build/usr/share/julia/stdlib/v1.6/LinearAlgebra/src/tridiag.jl:301\n\u001b[0m  ...",
      "",
      "Stacktrace:",
      " [1] eigvals(A::SparseMatrixCSC{Float64, Int64}; kws::Base.Iterators.Pairs{Union{}, Union{}, Tuple{}, NamedTuple{(), Tuple{}}})",
      "   @ LinearAlgebra /buildworker/worker/package_linux64/build/usr/share/julia/stdlib/v1.6/LinearAlgebra/src/eigen.jl:326",
      " [2] eigvals(A::SparseMatrixCSC{Float64, Int64})",
      "   @ LinearAlgebra /buildworker/worker/package_linux64/build/usr/share/julia/stdlib/v1.6/LinearAlgebra/src/eigen.jl:326",
      " [3] top-level scope",
      "   @ In[17]:1",
      " [4] eval",
      "   @ ./boot.jl:360 [inlined]",
      " [5] include_string(mapexpr::typeof(REPL.softscope), mod::Module, code::String, filename::String)",
      "   @ Base ./loading.jl:1094"
     ]
    }
   ],
   "source": [
    "eigvals(A_sparse)"
   ]
  },
  {
   "cell_type": "markdown",
   "metadata": {},
   "source": [
    "# Installing more packages\n",
    "\n",
    "Julia has a builtin package manager called `Pkg` which has the unique feature that it works almost surely"
   ]
  },
  {
   "cell_type": "code",
   "execution_count": 18,
   "metadata": {},
   "outputs": [],
   "source": [
    "using Pkg"
   ]
  },
  {
   "cell_type": "code",
   "execution_count": 19,
   "metadata": {},
   "outputs": [
    {
     "name": "stderr",
     "output_type": "stream",
     "text": [
      "\u001b[32m\u001b[1m   Resolving\u001b[22m\u001b[39m package versions...\n",
      "\u001b[32m\u001b[1m  No Changes\u001b[22m\u001b[39m to `~/.julia/1.6.0/daint-gpu/environments/1.6.0-daint-gpu/Project.toml`\n",
      "\u001b[32m\u001b[1m  No Changes\u001b[22m\u001b[39m to `~/.julia/1.6.0/daint-gpu/environments/1.6.0-daint-gpu/Manifest.toml`\n"
     ]
    }
   ],
   "source": [
    "Pkg.add(\"ArnoldiMethod\") # written by Lauri Nymann (Aalto university master student then) and me (Harmen Stoppels)"
   ]
  },
  {
   "cell_type": "code",
   "execution_count": 20,
   "metadata": {},
   "outputs": [],
   "source": [
    "using ArnoldiMethod: partialschur, partialeigen"
   ]
  },
  {
   "cell_type": "code",
   "execution_count": 21,
   "metadata": {},
   "outputs": [
    {
     "data": {
      "text/plain": [
       "\u001b[32mConverged\u001b[39m: 5 of 5 eigenvalues in 64 matrix-vector products"
      ]
     },
     "execution_count": 21,
     "metadata": {},
     "output_type": "execute_result"
    }
   ],
   "source": [
    "# Compute the schur decomposition for the eigenspace with the 5 eigenvalues of largest magnitude; this is eigs from Matlab but everything\n",
    "# is written from scratch in Julia (except BLAS routines)\n",
    "schur, history = partialschur(A_sparse, nev=5);\n",
    "history"
   ]
  },
  {
   "cell_type": "code",
   "execution_count": 22,
   "metadata": {},
   "outputs": [
    {
     "data": {
      "text/plain": [
       "(1.2619053693804693e-5, 6.1337236670035536e-15)"
      ]
     },
     "execution_count": 22,
     "metadata": {},
     "output_type": "execute_result"
    }
   ],
   "source": [
    "# Check if AQ = QR and Q'Q = I:\n",
    "norm(A_sparse * schur.Q - schur.Q * schur.R), norm(schur.Q' * schur.Q - I)"
   ]
  },
  {
   "cell_type": "markdown",
   "metadata": {},
   "source": [
    "But enough with the Julia-in-Jupyter-as-a-Matlab-alternative examples! Let's take a look at some fun packages.\n",
    "\n",
    "Another way to use the package manager (which is a REPL / Jupyter specific syntax) is `]`"
   ]
  },
  {
   "cell_type": "code",
   "execution_count": 23,
   "metadata": {},
   "outputs": [
    {
     "name": "stderr",
     "output_type": "stream",
     "text": [
      "\u001b[32m\u001b[1m   Resolving\u001b[22m\u001b[39m package versions...\n",
      "\u001b[32m\u001b[1m  No Changes\u001b[22m\u001b[39m to `~/.julia/1.6.0/daint-gpu/environments/1.6.0-daint-gpu/Project.toml`\n",
      "\u001b[32m\u001b[1m  No Changes\u001b[22m\u001b[39m to `~/.julia/1.6.0/daint-gpu/environments/1.6.0-daint-gpu/Manifest.toml`\n"
     ]
    }
   ],
   "source": [
    "] add UnicodePlots Distributions"
   ]
  },
  {
   "cell_type": "code",
   "execution_count": 24,
   "metadata": {},
   "outputs": [],
   "source": [
    "using UnicodePlots, Distributions"
   ]
  },
  {
   "cell_type": "code",
   "execution_count": 25,
   "metadata": {},
   "outputs": [
    {
     "data": {
      "text/plain": [
       "\u001b[1m                 My first barplot\u001b[22m\n",
       "\u001b[90m     ┌                                        ┐\u001b[39m \n",
       "   \u001b[0mx\u001b[90m ┤\u001b[39m\u001b[32m■■■■■■■■■■■■■■■■■■■■■■■■■■■■■■■■■■\u001b[39m\u001b[0m 10.0 \u001b[90m \u001b[39m \n",
       "   \u001b[0my\u001b[90m ┤\u001b[39m\u001b[32m■■■■■\u001b[39m\u001b[0m 1.5                               \u001b[90m \u001b[39m \n",
       "   \u001b[0mz\u001b[90m ┤\u001b[39m\u001b[32m■■■■■■■■■■\u001b[39m\u001b[0m 3.0                          \u001b[90m \u001b[39m \n",
       "\u001b[90m     └                                        ┘\u001b[39m "
      ]
     },
     "execution_count": 25,
     "metadata": {},
     "output_type": "execute_result"
    }
   ],
   "source": [
    "barplot([\"x\", \"y\", \"z\"], [10.0, 1.5, 3.0], title=\"My first barplot\")"
   ]
  },
  {
   "cell_type": "code",
   "execution_count": 26,
   "metadata": {},
   "outputs": [
    {
     "data": {
      "text/plain": [
       "\u001b[90m      ┌────────────────────┐\u001b[39m \n",
       "   \u001b[90m20\u001b[39m\u001b[90m │\u001b[39m\u001b[38;5;229;48;5;229m▄\u001b[38;5;227;48;5;227m▄\u001b[38;5;221;48;5;221m▄\u001b[38;5;214;48;5;214m▄\u001b[38;5;214;48;5;214m▄\u001b[38;5;208;48;5;208m▄\u001b[38;5;208;48;5;202m▄\u001b[38;5;166;48;5;167m▄\u001b[38;5;167;48;5;167m▄\u001b[38;5;167;48;5;167m▄\u001b[38;5;131;48;5;131m▄\u001b[38;5;125;48;5;89m▄\u001b[38;5;89;48;5;89m▄\u001b[38;5;89;48;5;53m▄\u001b[38;5;53;48;5;53m▄\u001b[38;5;53;48;5;53m▄\u001b[38;5;53;48;5;17m▄\u001b[38;5;17;48;5;17m▄\u001b[38;5;17;48;5;16m▄\u001b[38;5;16;48;5;16m▄\u001b[0m\u001b[90m│\u001b[39m  \u001b[90m┌\u001b[39m\u001b[90m─\u001b[39m\u001b[90m─\u001b[39m\u001b[90m┐\u001b[39m \u001b[90m1.0\u001b[39m\n",
       "     \u001b[90m │\u001b[39m\u001b[38;5;229;48;5;229m▄\u001b[38;5;228;48;5;228m▄\u001b[38;5;221;48;5;221m▄\u001b[38;5;220;48;5;214m▄\u001b[38;5;214;48;5;214m▄\u001b[38;5;208;48;5;208m▄\u001b[38;5;208;48;5;208m▄\u001b[38;5;202;48;5;202m▄\u001b[38;5;166;48;5;167m▄\u001b[38;5;167;48;5;167m▄\u001b[38;5;167;48;5;167m▄\u001b[38;5;131;48;5;131m▄\u001b[38;5;131;48;5;125m▄\u001b[38;5;125;48;5;89m▄\u001b[38;5;89;48;5;89m▄\u001b[38;5;89;48;5;53m▄\u001b[38;5;53;48;5;53m▄\u001b[38;5;53;48;5;53m▄\u001b[38;5;53;48;5;17m▄\u001b[38;5;17;48;5;17m▄\u001b[0m\u001b[90m│\u001b[39m  \u001b[90m│\u001b[39m\u001b[38;5;221;48;5;229m▄▄\u001b[0m\u001b[90m│\u001b[39m\n",
       "     \u001b[90m │\u001b[39m\u001b[38;5;229;48;5;229m▄\u001b[38;5;228;48;5;228m▄\u001b[38;5;221;48;5;221m▄\u001b[38;5;221;48;5;221m▄\u001b[38;5;214;48;5;214m▄\u001b[38;5;214;48;5;214m▄\u001b[38;5;208;48;5;208m▄\u001b[38;5;208;48;5;208m▄\u001b[38;5;202;48;5;202m▄\u001b[38;5;166;48;5;167m▄\u001b[38;5;167;48;5;167m▄\u001b[38;5;167;48;5;167m▄\u001b[38;5;167;48;5;131m▄\u001b[38;5;131;48;5;125m▄\u001b[38;5;125;48;5;89m▄\u001b[38;5;89;48;5;89m▄\u001b[38;5;89;48;5;89m▄\u001b[38;5;89;48;5;53m▄\u001b[38;5;53;48;5;53m▄\u001b[38;5;53;48;5;53m▄\u001b[0m\u001b[90m│\u001b[39m  \u001b[90m│\u001b[39m\u001b[38;5;214;48;5;220m▄▄\u001b[0m\u001b[90m│\u001b[39m\n",
       "     \u001b[90m │\u001b[39m\u001b[38;5;229;48;5;229m▄\u001b[38;5;228;48;5;228m▄\u001b[38;5;221;48;5;221m▄\u001b[38;5;221;48;5;221m▄\u001b[38;5;220;48;5;214m▄\u001b[38;5;214;48;5;214m▄\u001b[38;5;214;48;5;214m▄\u001b[38;5;208;48;5;208m▄\u001b[38;5;208;48;5;208m▄\u001b[38;5;208;48;5;202m▄\u001b[38;5;202;48;5;166m▄\u001b[38;5;167;48;5;167m▄\u001b[38;5;167;48;5;167m▄\u001b[38;5;167;48;5;167m▄\u001b[38;5;167;48;5;131m▄\u001b[38;5;131;48;5;125m▄\u001b[38;5;131;48;5;125m▄\u001b[38;5;125;48;5;89m▄\u001b[38;5;89;48;5;89m▄\u001b[38;5;89;48;5;53m▄\u001b[0m\u001b[90m│\u001b[39m  \u001b[90m│\u001b[39m\u001b[38;5;202;48;5;208m▄▄\u001b[0m\u001b[90m│\u001b[39m\n",
       "     \u001b[90m │\u001b[39m\u001b[38;5;229;48;5;229m▄\u001b[38;5;228;48;5;228m▄\u001b[38;5;227;48;5;221m▄\u001b[38;5;221;48;5;221m▄\u001b[38;5;221;48;5;221m▄\u001b[38;5;220;48;5;214m▄\u001b[38;5;214;48;5;214m▄\u001b[38;5;214;48;5;214m▄\u001b[38;5;208;48;5;208m▄\u001b[38;5;208;48;5;208m▄\u001b[38;5;208;48;5;208m▄\u001b[38;5;208;48;5;202m▄\u001b[38;5;202;48;5;167m▄\u001b[38;5;166;48;5;167m▄\u001b[38;5;167;48;5;167m▄\u001b[38;5;167;48;5;167m▄\u001b[38;5;167;48;5;131m▄\u001b[38;5;167;48;5;131m▄\u001b[38;5;131;48;5;125m▄\u001b[38;5;131;48;5;89m▄\u001b[0m\u001b[90m│\u001b[39m  \u001b[90m│\u001b[39m\u001b[38;5;167;48;5;167m▄▄\u001b[0m\u001b[90m│\u001b[39m\n",
       "     \u001b[90m │\u001b[39m\u001b[38;5;229;48;5;229m▄\u001b[38;5;228;48;5;228m▄\u001b[38;5;228;48;5;227m▄\u001b[38;5;221;48;5;221m▄\u001b[38;5;221;48;5;221m▄\u001b[38;5;221;48;5;221m▄\u001b[38;5;220;48;5;214m▄\u001b[38;5;214;48;5;214m▄\u001b[38;5;214;48;5;214m▄\u001b[38;5;214;48;5;208m▄\u001b[38;5;208;48;5;208m▄\u001b[38;5;208;48;5;208m▄\u001b[38;5;208;48;5;208m▄\u001b[38;5;208;48;5;202m▄\u001b[38;5;202;48;5;166m▄\u001b[38;5;202;48;5;167m▄\u001b[38;5;166;48;5;167m▄\u001b[38;5;167;48;5;167m▄\u001b[38;5;167;48;5;167m▄\u001b[38;5;167;48;5;167m▄\u001b[0m\u001b[90m│\u001b[39m  \u001b[90m│\u001b[39m\u001b[38;5;89;48;5;131m▄▄\u001b[0m\u001b[90m│\u001b[39m \n",
       "     \u001b[90m │\u001b[39m\u001b[38;5;229;48;5;229m▄\u001b[38;5;228;48;5;228m▄\u001b[38;5;228;48;5;228m▄\u001b[38;5;227;48;5;221m▄\u001b[38;5;221;48;5;221m▄\u001b[38;5;221;48;5;221m▄\u001b[38;5;221;48;5;221m▄\u001b[38;5;221;48;5;220m▄\u001b[38;5;220;48;5;214m▄\u001b[38;5;214;48;5;214m▄\u001b[38;5;214;48;5;214m▄\u001b[38;5;214;48;5;214m▄\u001b[38;5;214;48;5;208m▄\u001b[38;5;214;48;5;208m▄\u001b[38;5;208;48;5;208m▄\u001b[38;5;208;48;5;208m▄\u001b[38;5;208;48;5;202m▄\u001b[38;5;208;48;5;202m▄\u001b[38;5;208;48;5;166m▄\u001b[38;5;202;48;5;167m▄\u001b[0m\u001b[90m│\u001b[39m  \u001b[90m│\u001b[39m\u001b[38;5;53;48;5;89m▄▄\u001b[0m\u001b[90m│\u001b[39m\n",
       "     \u001b[90m │\u001b[39m\u001b[38;5;229;48;5;229m▄\u001b[38;5;228;48;5;228m▄\u001b[38;5;228;48;5;228m▄\u001b[38;5;228;48;5;228m▄\u001b[38;5;228;48;5;227m▄\u001b[38;5;227;48;5;221m▄\u001b[38;5;221;48;5;221m▄\u001b[38;5;221;48;5;221m▄\u001b[38;5;221;48;5;221m▄\u001b[38;5;221;48;5;221m▄\u001b[38;5;221;48;5;220m▄\u001b[38;5;221;48;5;214m▄\u001b[38;5;220;48;5;214m▄\u001b[38;5;214;48;5;214m▄\u001b[38;5;214;48;5;214m▄\u001b[38;5;214;48;5;214m▄\u001b[38;5;214;48;5;208m▄\u001b[38;5;214;48;5;208m▄\u001b[38;5;214;48;5;208m▄\u001b[38;5;214;48;5;208m▄\u001b[0m\u001b[90m│\u001b[39m  \u001b[90m│\u001b[39m\u001b[38;5;17;48;5;53m▄▄\u001b[0m\u001b[90m│\u001b[39m\n",
       "     \u001b[90m │\u001b[39m\u001b[38;5;229;48;5;229m▄\u001b[38;5;229;48;5;229m▄\u001b[38;5;228;48;5;228m▄\u001b[38;5;228;48;5;228m▄\u001b[38;5;228;48;5;228m▄\u001b[38;5;228;48;5;228m▄\u001b[38;5;228;48;5;227m▄\u001b[38;5;228;48;5;221m▄\u001b[38;5;228;48;5;221m▄\u001b[38;5;227;48;5;221m▄\u001b[38;5;227;48;5;221m▄\u001b[38;5;221;48;5;221m▄\u001b[38;5;221;48;5;221m▄\u001b[38;5;221;48;5;221m▄\u001b[38;5;221;48;5;221m▄\u001b[38;5;221;48;5;221m▄\u001b[38;5;221;48;5;220m▄\u001b[38;5;221;48;5;214m▄\u001b[38;5;221;48;5;214m▄\u001b[38;5;221;48;5;214m▄\u001b[0m\u001b[90m│\u001b[39m  \u001b[90m│\u001b[39m\u001b[38;5;16;48;5;16m▄▄\u001b[0m\u001b[90m│\u001b[39m\n",
       "    \u001b[90m1\u001b[39m\u001b[90m │\u001b[39m\u001b[38;5;229;48;5;229m▄\u001b[38;5;229;48;5;229m▄\u001b[38;5;229;48;5;229m▄\u001b[38;5;229;48;5;229m▄\u001b[38;5;229;48;5;228m▄\u001b[38;5;229;48;5;228m▄\u001b[38;5;229;48;5;228m▄\u001b[38;5;229;48;5;228m▄\u001b[38;5;229;48;5;228m▄\u001b[38;5;229;48;5;228m▄\u001b[38;5;229;48;5;228m▄\u001b[38;5;229;48;5;228m▄\u001b[38;5;229;48;5;228m▄\u001b[38;5;229;48;5;228m▄\u001b[38;5;229;48;5;228m▄\u001b[38;5;229;48;5;228m▄\u001b[38;5;229;48;5;228m▄\u001b[38;5;229;48;5;228m▄\u001b[38;5;229;48;5;227m▄\u001b[38;5;229;48;5;227m▄\u001b[0m\u001b[90m│\u001b[39m  \u001b[90m└\u001b[39m\u001b[90m─\u001b[39m\u001b[90m─\u001b[39m\u001b[90m┘\u001b[39m \u001b[90m1.0\u001b[39m\n",
       "\u001b[90m      └────────────────────┘\u001b[39m \n",
       "\u001b[90m      1\u001b[39m\u001b[90m         \u001b[39m\u001b[90m          20\u001b[39m"
      ]
     },
     "execution_count": 26,
     "metadata": {},
     "output_type": "execute_result"
    }
   ],
   "source": [
    "heatmap(exp.(-range(0, 1, length=20) * range(0, 1, length=20)' ./ 100), colormap=:inferno)"
   ]
  },
  {
   "cell_type": "code",
   "execution_count": 27,
   "metadata": {},
   "outputs": [
    {
     "data": {
      "text/plain": [
       "\u001b[90m                ┌                                        ┐\u001b[39m \n",
       "   \u001b[0m\u001b[90m[\u001b[0m 5.5\u001b[90m, \u001b[0m 6.0\u001b[90m)\u001b[0m\u001b[90m ┤\u001b[39m\u001b[0m 1                                      \u001b[90m \u001b[39m \n",
       "   \u001b[0m\u001b[90m[\u001b[0m 6.0\u001b[90m, \u001b[0m 6.5\u001b[90m)\u001b[0m\u001b[90m ┤\u001b[39m\u001b[0m 1                                      \u001b[90m \u001b[39m \n",
       "   \u001b[0m\u001b[90m[\u001b[0m 6.5\u001b[90m, \u001b[0m 7.0\u001b[90m)\u001b[0m\u001b[90m ┤\u001b[39m\u001b[0m 2                                      \u001b[90m \u001b[39m \n",
       "   \u001b[0m\u001b[90m[\u001b[0m 7.0\u001b[90m, \u001b[0m 7.5\u001b[90m)\u001b[0m\u001b[90m ┤\u001b[39m\u001b[32m▇\u001b[39m\u001b[0m 4                                     \u001b[90m \u001b[39m \n",
       "   \u001b[0m\u001b[90m[\u001b[0m 7.5\u001b[90m, \u001b[0m 8.0\u001b[90m)\u001b[0m\u001b[90m ┤\u001b[39m\u001b[32m▇▇▇▇\u001b[39m\u001b[0m 20                                 \u001b[90m \u001b[39m \n",
       "   \u001b[0m\u001b[90m[\u001b[0m 8.0\u001b[90m, \u001b[0m 8.5\u001b[90m)\u001b[0m\u001b[90m ┤\u001b[39m\u001b[32m▇▇▇▇▇▇▇▇▇▇▇\u001b[39m\u001b[0m 57                          \u001b[90m \u001b[39m \n",
       "   \u001b[0m\u001b[90m[\u001b[0m 8.5\u001b[90m, \u001b[0m 9.0\u001b[90m)\u001b[0m\u001b[90m ┤\u001b[39m\u001b[32m▇▇▇▇▇▇▇▇▇▇▇▇▇▇▇▇\u001b[39m\u001b[0m 86                     \u001b[90m \u001b[39m \n",
       "   \u001b[0m\u001b[90m[\u001b[0m 9.0\u001b[90m, \u001b[0m 9.5\u001b[90m)\u001b[0m\u001b[90m ┤\u001b[39m\u001b[32m▇▇▇▇▇▇▇▇▇▇▇▇▇▇▇▇▇▇▇▇▇▇▇▇▇▇\u001b[39m\u001b[0m 139          \u001b[90m \u001b[39m \n",
       "   \u001b[0m\u001b[90m[\u001b[0m 9.5\u001b[90m, \u001b[0m10.0\u001b[90m)\u001b[0m\u001b[90m ┤\u001b[39m\u001b[32m▇▇▇▇▇▇▇▇▇▇▇▇▇▇▇▇▇▇▇▇▇▇▇▇▇▇▇▇▇▇▇▇▇▇▇\u001b[39m\u001b[0m 185 \u001b[90m \u001b[39m \n",
       "   \u001b[0m\u001b[90m[\u001b[0m10.0\u001b[90m, \u001b[0m10.5\u001b[90m)\u001b[0m\u001b[90m ┤\u001b[39m\u001b[32m▇▇▇▇▇▇▇▇▇▇▇▇▇▇▇▇▇▇▇▇▇▇▇▇▇▇▇▇▇▇▇▇\u001b[39m\u001b[0m 168    \u001b[90m \u001b[39m \n",
       "   \u001b[0m\u001b[90m[\u001b[0m10.5\u001b[90m, \u001b[0m11.0\u001b[90m)\u001b[0m\u001b[90m ┤\u001b[39m\u001b[32m▇▇▇▇▇▇▇▇▇▇▇▇▇▇▇▇▇▇▇▇▇▇▇▇▇▇▇▇▇▇▇\u001b[39m\u001b[0m 164     \u001b[90m \u001b[39m \n",
       "   \u001b[0m\u001b[90m[\u001b[0m11.0\u001b[90m, \u001b[0m11.5\u001b[90m)\u001b[0m\u001b[90m ┤\u001b[39m\u001b[32m▇▇▇▇▇▇▇▇▇▇▇▇▇▇▇▇▇▇▇▇\u001b[39m\u001b[0m 107                \u001b[90m \u001b[39m \n",
       "   \u001b[0m\u001b[90m[\u001b[0m11.5\u001b[90m, \u001b[0m12.0\u001b[90m)\u001b[0m\u001b[90m ┤\u001b[39m\u001b[32m▇▇▇▇▇▇▇\u001b[39m\u001b[0m 39                              \u001b[90m \u001b[39m \n",
       "   \u001b[0m\u001b[90m[\u001b[0m12.0\u001b[90m, \u001b[0m12.5\u001b[90m)\u001b[0m\u001b[90m ┤\u001b[39m\u001b[32m▇▇▇▇\u001b[39m\u001b[0m 20                                 \u001b[90m \u001b[39m \n",
       "   \u001b[0m\u001b[90m[\u001b[0m12.5\u001b[90m, \u001b[0m13.0\u001b[90m)\u001b[0m\u001b[90m ┤\u001b[39m\u001b[32m▇\u001b[39m\u001b[0m 6                                     \u001b[90m \u001b[39m \n",
       "   \u001b[0m\u001b[90m[\u001b[0m13.0\u001b[90m, \u001b[0m13.5\u001b[90m)\u001b[0m\u001b[90m ┤\u001b[39m\u001b[0m 1                                      \u001b[90m \u001b[39m \n",
       "\u001b[90m                └                                        ┘\u001b[39m \n",
       "\u001b[0m                                Frequency"
      ]
     },
     "execution_count": 27,
     "metadata": {},
     "output_type": "execute_result"
    }
   ],
   "source": [
    "histogram(rand(Normal(10.0, 1.0), 1000), nbins=20)"
   ]
  },
  {
   "cell_type": "markdown",
   "metadata": {},
   "source": [
    "These packages are installed in your home directory by default. In some cases you might want to move them to `$SCRATCH` if they get really big! You can set `JULIA_DEPOT_PATH=...` in for instance `~/.jupyterhub.env`\n",
    "\n",
    "Whenever you install a package, they will be part of an environment, and environments are a combination of Project.toml (human readable) & Manifest.toml (not so reabable). For the notebooks I've provided both the Project.toml & Manifest.toml files, so you can install the exact same packages as a first step. It works like this:"
   ]
  },
  {
   "cell_type": "code",
   "execution_count": 28,
   "metadata": {},
   "outputs": [
    {
     "name": "stderr",
     "output_type": "stream",
     "text": [
      "\u001b[32m\u001b[1m  Activating\u001b[22m\u001b[39m environment at `~/tutorial_julia_interactive/01_introduction/Project.toml`\n"
     ]
    }
   ],
   "source": [
    "] activate ."
   ]
  },
  {
   "cell_type": "code",
   "execution_count": 29,
   "metadata": {},
   "outputs": [],
   "source": [
    "] instantiate"
   ]
  },
  {
   "cell_type": "markdown",
   "metadata": {},
   "source": [
    "## Where to find packages\n",
    "\n",
    "There are many more registered and curated Julia packages avaiable in the official registry. An overview of some of the popular ones can be found here: https://juliahub.com/ui/Packages"
   ]
  },
  {
   "cell_type": "markdown",
   "metadata": {},
   "source": [
    "# Julia language features"
   ]
  },
  {
   "cell_type": "markdown",
   "metadata": {},
   "source": [
    "## Free functions\n",
    "\n",
    "Everything function is a free function, functions are not \"owned\" by an object; you won't see `matrix.multiply(other_matrix)` in julia, only `multiply(matrix, other_matrix)`."
   ]
  },
  {
   "cell_type": "code",
   "execution_count": 30,
   "metadata": {},
   "outputs": [
    {
     "data": {
      "text/plain": [
       "+ (generic function with 288 methods)"
      ]
     },
     "execution_count": 30,
     "metadata": {},
     "output_type": "execute_result"
    }
   ],
   "source": [
    "+"
   ]
  },
  {
   "cell_type": "code",
   "execution_count": 31,
   "metadata": {},
   "outputs": [
    {
     "data": {
      "text/plain": [
       "sqrt (generic function with 20 methods)"
      ]
     },
     "execution_count": 31,
     "metadata": {},
     "output_type": "execute_result"
    }
   ],
   "source": [
    "sqrt"
   ]
  },
  {
   "cell_type": "code",
   "execution_count": 32,
   "metadata": {},
   "outputs": [
    {
     "data": {
      "text/plain": [
       "288"
      ]
     },
     "execution_count": 32,
     "metadata": {},
     "output_type": "execute_result"
    }
   ],
   "source": [
    "length(methods(+))"
   ]
  },
  {
   "cell_type": "code",
   "execution_count": 33,
   "metadata": {},
   "outputs": [
    {
     "data": {
      "text/html": [
       "10-element Vector{Method}:<ul><li> +(x::<b>T</b>, y::<b>T</b>)<i> where T<:Union{Int128, Int16, Int32, Int64, Int8, UInt128, UInt16, UInt32, UInt64, UInt8}</i> in Base at <a href=\"https://github.com/JuliaLang/julia/tree/f9720dc2ebd6cd9e3086365f281e62506444ef37/base/int.jl#L87\" target=\"_blank\">int.jl:87</a><li> +(c::<b>Union{UInt16, UInt32, UInt64, UInt8}</b>, x::<b>BigInt</b>) in Base.GMP at <a href=\"https://github.com/JuliaLang/julia/tree/f9720dc2ebd6cd9e3086365f281e62506444ef37/base/gmp.jl#L528\" target=\"_blank\">gmp.jl:528</a><li> +(c::<b>Union{Int16, Int32, Int64, Int8}</b>, x::<b>BigInt</b>) in Base.GMP at <a href=\"https://github.com/JuliaLang/julia/tree/f9720dc2ebd6cd9e3086365f281e62506444ef37/base/gmp.jl#L534\" target=\"_blank\">gmp.jl:534</a><li> +(c::<b>Union{UInt16, UInt32, UInt64, UInt8}</b>, x::<b>BigFloat</b>) in Base.MPFR at <a href=\"https://github.com/JuliaLang/julia/tree/f9720dc2ebd6cd9e3086365f281e62506444ef37/base/mpfr.jl#L376\" target=\"_blank\">mpfr.jl:376</a><li> +(c::<b>Union{Int16, Int32, Int64, Int8}</b>, x::<b>BigFloat</b>) in Base.MPFR at <a href=\"https://github.com/JuliaLang/julia/tree/f9720dc2ebd6cd9e3086365f281e62506444ef37/base/mpfr.jl#L384\" target=\"_blank\">mpfr.jl:384</a><li> +(c::<b>Union{Float16, Float32, Float64}</b>, x::<b>BigFloat</b>) in Base.MPFR at <a href=\"https://github.com/JuliaLang/julia/tree/f9720dc2ebd6cd9e3086365f281e62506444ef37/base/mpfr.jl#L392\" target=\"_blank\">mpfr.jl:392</a><li> +(x::<b>Union{Dates.CompoundPeriod, Dates.Period}</b>) in Dates at <a href=\"file:///buildworker/worker/package_linux64/build/usr/share/julia/stdlib/v1.6/Dates/src/periods.jl\" target=\"_blank\">/apps/daint/UES/jenkins/7.0.UP02-20.11/gpu/easybuild/software/Julia/1.6.0-CrayGNU-20.11-cuda/share/julia/stdlib/v1.6/Dates/src/periods.jl:362</a><li> +(x::<b>Base.TwicePrecision</b>, y::<b>Number</b>) in Base at <a href=\"https://github.com/JuliaLang/julia/tree/f9720dc2ebd6cd9e3086365f281e62506444ef37/base/twiceprecision.jl#L267\" target=\"_blank\">twiceprecision.jl:267</a><li> +(x::<b>Base.TwicePrecision{T}</b>, y::<b>Base.TwicePrecision{T}</b>)<i> where T</i> in Base at <a href=\"https://github.com/JuliaLang/julia/tree/f9720dc2ebd6cd9e3086365f281e62506444ef37/base/twiceprecision.jl#L273\" target=\"_blank\">twiceprecision.jl:273</a><li> +(x::<b>Base.TwicePrecision</b>, y::<b>Base.TwicePrecision</b>) in Base at <a href=\"https://github.com/JuliaLang/julia/tree/f9720dc2ebd6cd9e3086365f281e62506444ef37/base/twiceprecision.jl#L278\" target=\"_blank\">twiceprecision.jl:278</a></ul>"
      ],
      "text/plain": [
       "[1] +(x::T, y::T) where T<:Union{Int128, Int16, Int32, Int64, Int8, UInt128, UInt16, UInt32, UInt64, UInt8} in Base at int.jl:87\n",
       "[2] +(c::Union{UInt16, UInt32, UInt64, UInt8}, x::BigInt) in Base.GMP at gmp.jl:528\n",
       "[3] +(c::Union{Int16, Int32, Int64, Int8}, x::BigInt) in Base.GMP at gmp.jl:534\n",
       "[4] +(c::Union{UInt16, UInt32, UInt64, UInt8}, x::BigFloat) in Base.MPFR at mpfr.jl:376\n",
       "[5] +(c::Union{Int16, Int32, Int64, Int8}, x::BigFloat) in Base.MPFR at mpfr.jl:384\n",
       "[6] +(c::Union{Float16, Float32, Float64}, x::BigFloat) in Base.MPFR at mpfr.jl:392\n",
       "[7] +(x::Union{Dates.CompoundPeriod, Dates.Period}) in Dates at /apps/daint/UES/jenkins/7.0.UP02-20.11/gpu/easybuild/software/Julia/1.6.0-CrayGNU-20.11-cuda/share/julia/stdlib/v1.6/Dates/src/periods.jl:362\n",
       "[8] +(x::Base.TwicePrecision, y::Number) in Base at twiceprecision.jl:267\n",
       "[9] +(x::Base.TwicePrecision{T}, y::Base.TwicePrecision{T}) where T in Base at twiceprecision.jl:273\n",
       "[10] +(x::Base.TwicePrecision, y::Base.TwicePrecision) in Base at twiceprecision.jl:278"
      ]
     },
     "execution_count": 33,
     "metadata": {},
     "output_type": "execute_result"
    }
   ],
   "source": [
    "methods(+).ms[1:10]"
   ]
  },
  {
   "cell_type": "markdown",
   "metadata": {},
   "source": [
    "Bjarne Strostroup reflecting on this feature in his \"How can you be so certain?\" paper:\n",
    "\n",
    "> Unified function call: The notational distinction between `x.f(y)` and `f(x,y)` comes from the flawed OO notion that there always is a single most important object for an operation. I made a mistake adopting that. It was a shallow understanding at the time (but extremely fashionable). Even then, I pointed to `sqrt(2)` and `x+y` as examples of problems caused by that view. With generic programming,  the `x.f(y)` vs. `f(x,y)` distinction becomes a library design and usage issue (an inflexibility). [...] Again, the issues and solutions go back decades. Allowing virtual arguments for `f(x,y,z)` gives us multimethods."
   ]
  },
  {
   "cell_type": "markdown",
   "metadata": {},
   "source": [
    "## Multiple dispatch, multimethods, open functions\n",
    "\n",
    "Often when people are asked what they like most about Julia the answer is 'multiple dispatch', in my opinion it's not this one thing, but rather multiple features that ultimately enable generic programming."
   ]
  },
  {
   "cell_type": "code",
   "execution_count": 34,
   "metadata": {},
   "outputs": [
    {
     "data": {
      "text/plain": [
       "meets (generic function with 2 methods)"
      ]
     },
     "execution_count": 34,
     "metadata": {},
     "output_type": "execute_result"
    }
   ],
   "source": [
    "abstract type Animal end\n",
    "\n",
    "struct Dog <: Animal\n",
    "    name::String\n",
    "end\n",
    "\n",
    "struct Cat <: Animal\n",
    "    name::String\n",
    "end\n",
    "\n",
    "meets(x::Dog, y::Cat) = \"$(x.name) barks at $(y.name)\"\n",
    "meets(x::Dog, y::Dog) = \"$(x.name) sniffs $(y.name)\""
   ]
  },
  {
   "cell_type": "code",
   "execution_count": 35,
   "metadata": {},
   "outputs": [
    {
     "data": {
      "text/plain": [
       "\"Bo barks at Lilly\""
      ]
     },
     "execution_count": 35,
     "metadata": {},
     "output_type": "execute_result"
    }
   ],
   "source": [
    "meets(Dog(\"Bo\"), Cat(\"Lilly\"))"
   ]
  },
  {
   "cell_type": "code",
   "execution_count": 36,
   "metadata": {},
   "outputs": [
    {
     "data": {
      "text/plain": [
       "\"Bo sniffs Rex\""
      ]
     },
     "execution_count": 36,
     "metadata": {},
     "output_type": "execute_result"
    }
   ],
   "source": [
    "meets(Dog(\"Bo\"), Dog(\"Rex\"))"
   ]
  },
  {
   "cell_type": "code",
   "execution_count": 37,
   "metadata": {},
   "outputs": [
    {
     "ename": "LoadError",
     "evalue": "MethodError: no method matching meets(::Cat, ::Cat)\n\u001b[0mClosest candidates are:\n\u001b[0m  meets(\u001b[91m::Dog\u001b[39m, ::Cat) at In[34]:11",
     "output_type": "error",
     "traceback": [
      "MethodError: no method matching meets(::Cat, ::Cat)\n\u001b[0mClosest candidates are:\n\u001b[0m  meets(\u001b[91m::Dog\u001b[39m, ::Cat) at In[34]:11",
      "",
      "Stacktrace:",
      " [1] top-level scope",
      "   @ In[37]:1",
      " [2] eval",
      "   @ ./boot.jl:360 [inlined]",
      " [3] include_string(mapexpr::typeof(REPL.softscope), mod::Module, code::String, filename::String)",
      "   @ Base ./loading.jl:1094"
     ]
    }
   ],
   "source": [
    "meets(Cat(\"Lilly\"), Cat(\"Lucy\")) # we don't need to implement meets(::Cat, ::Cat) in a world where cats avoid eachother anyways"
   ]
  },
  {
   "cell_type": "code",
   "execution_count": 38,
   "metadata": {},
   "outputs": [
    {
     "data": {
      "text/plain": [
       "meets (generic function with 2 methods)"
      ]
     },
     "execution_count": 38,
     "metadata": {},
     "output_type": "execute_result"
    }
   ],
   "source": [
    "meets"
   ]
  },
  {
   "cell_type": "markdown",
   "metadata": {},
   "source": [
    "You can go further and actually do dispatch on function name + 3 argument types"
   ]
  },
  {
   "cell_type": "code",
   "execution_count": 39,
   "metadata": {},
   "outputs": [
    {
     "data": {
      "text/plain": [
       "group_interaction (generic function with 2 methods)"
      ]
     },
     "execution_count": 39,
     "metadata": {},
     "output_type": "execute_result"
    }
   ],
   "source": [
    "group_interaction(::Dog, ::Dog, ::Cat) = \"chaos\"\n",
    "group_interaction(::Cat, ::Dog, ::Cat) = \"even more chaos\""
   ]
  },
  {
   "cell_type": "markdown",
   "metadata": {},
   "source": [
    "And multiple dispatch continues to work like you would expect even when type inference fails (in C++ for 2 args you could use the visitor pattern, how about $n$ args?)"
   ]
  },
  {
   "cell_type": "code",
   "execution_count": 40,
   "metadata": {},
   "outputs": [
    {
     "data": {
      "text/plain": [
       "3-element Vector{Animal}:\n",
       " Dog(\"Bo\")\n",
       " Dog(\"Rex\")\n",
       " Cat(\"Lilly\")"
      ]
     },
     "execution_count": 40,
     "metadata": {},
     "output_type": "execute_result"
    }
   ],
   "source": [
    "vector_of_animals = [Dog(\"Bo\"), Dog(\"Rex\"), Cat(\"Lilly\")]"
   ]
  },
  {
   "cell_type": "code",
   "execution_count": 41,
   "metadata": {},
   "outputs": [
    {
     "data": {
      "text/plain": [
       "\"chaos\""
      ]
     },
     "execution_count": 41,
     "metadata": {},
     "output_type": "execute_result"
    }
   ],
   "source": [
    "group_interaction(vector_of_animals[1], vector_of_animals[2], vector_of_animals[3])"
   ]
  },
  {
   "cell_type": "code",
   "execution_count": 42,
   "metadata": {},
   "outputs": [
    {
     "name": "stdout",
     "output_type": "stream",
     "text": [
      "Variables\n",
      "  #self#\u001b[36m::Core.Const(first)\u001b[39m\n",
      "  a\u001b[36m::Vector{Animal}\u001b[39m\n",
      "\n",
      "Body\u001b[91m\u001b[1m::Animal\u001b[22m\u001b[39m\n",
      "\u001b[90m1 ─\u001b[39m %1 = Base.eachindex(a)\u001b[36m::Base.OneTo{Int64}\u001b[39m\n",
      "\u001b[90m│  \u001b[39m %2 = Base.first(%1)\u001b[36m::Core.Const(1)\u001b[39m\n",
      "\u001b[90m│  \u001b[39m %3 = Base.getindex(a, %2)\u001b[91m\u001b[1m::Animal\u001b[22m\u001b[39m\n",
      "\u001b[90m└──\u001b[39m      return %3\n"
     ]
    }
   ],
   "source": [
    "@code_warntype first(vector_of_animals)"
   ]
  },
  {
   "cell_type": "markdown",
   "metadata": {},
   "source": [
    "## Late, but native compilation, specialized on all function argument types\n",
    "\n",
    "Generally though, types can be inferred, and then julia is no different from a static language -- it's just that compilation is deferred to a very late moment!"
   ]
  },
  {
   "cell_type": "code",
   "execution_count": 43,
   "metadata": {},
   "outputs": [
    {
     "data": {
      "text/plain": [
       "f (generic function with 1 method)"
      ]
     },
     "execution_count": 43,
     "metadata": {},
     "output_type": "execute_result"
    }
   ],
   "source": [
    "f(x, y) = 2 * x * y"
   ]
  },
  {
   "cell_type": "code",
   "execution_count": 44,
   "metadata": {},
   "outputs": [
    {
     "data": {
      "text/plain": [
       "CodeInfo(\n",
       "\u001b[90m1 ─\u001b[39m %1 = Base.sitofp(Float64, 2)\u001b[36m::Float64\u001b[39m\n",
       "\u001b[90m│  \u001b[39m %2 = Base.mul_float(%1, x)\u001b[36m::Float64\u001b[39m\n",
       "\u001b[90m│  \u001b[39m %3 = Base.mul_float(%2, y)\u001b[36m::Float64\u001b[39m\n",
       "\u001b[90m└──\u001b[39m      return %3\n",
       ") => Float64"
      ]
     },
     "execution_count": 44,
     "metadata": {},
     "output_type": "execute_result"
    }
   ],
   "source": [
    "@code_typed debuginfo=:none f(1.0, 2.0)"
   ]
  },
  {
   "cell_type": "code",
   "execution_count": 45,
   "metadata": {},
   "outputs": [
    {
     "data": {
      "text/plain": [
       "CodeInfo(\n",
       "\u001b[90m1 ─\u001b[39m %1 = Base.mul_int(2, x)\u001b[36m::Int64\u001b[39m\n",
       "\u001b[90m│  \u001b[39m %2 = Base.mul_int(%1, y)\u001b[36m::Int64\u001b[39m\n",
       "\u001b[90m└──\u001b[39m      return %2\n",
       ") => Int64"
      ]
     },
     "execution_count": 45,
     "metadata": {},
     "output_type": "execute_result"
    }
   ],
   "source": [
    "@code_typed debuginfo=:none f(1, 2)"
   ]
  },
  {
   "cell_type": "code",
   "execution_count": 46,
   "metadata": {},
   "outputs": [
    {
     "name": "stdout",
     "output_type": "stream",
     "text": [
      "\t\u001b[0m.text\n",
      "\t\u001b[96m\u001b[1mvaddsd\u001b[22m\u001b[39m\t\u001b[0m%xmm0\u001b[0m, \u001b[0m%xmm0\u001b[0m, \u001b[0m%xmm0\n",
      "\t\u001b[96m\u001b[1mvmulsd\u001b[22m\u001b[39m\t\u001b[0m%xmm1\u001b[0m, \u001b[0m%xmm0\u001b[0m, \u001b[0m%xmm0\n",
      "\t\u001b[96m\u001b[1mretq\u001b[22m\u001b[39m\n",
      "\t\u001b[96m\u001b[1mnopl\u001b[22m\u001b[39m\t\u001b[33m(\u001b[39m\u001b[0m%rax\u001b[33m)\u001b[39m\n"
     ]
    }
   ],
   "source": [
    "@code_native debuginfo=:none f(1.0, 2.0) # uses floating point registers, 2 * ... multiplication simplified to addition by llvm"
   ]
  },
  {
   "cell_type": "code",
   "execution_count": 47,
   "metadata": {},
   "outputs": [
    {
     "name": "stdout",
     "output_type": "stream",
     "text": [
      "\t\u001b[0m.text\n",
      "\t\u001b[96m\u001b[1mimulq\u001b[22m\u001b[39m\t\u001b[0m%rsi\u001b[0m, \u001b[0m%rdi\n",
      "\t\u001b[96m\u001b[1mleaq\u001b[22m\u001b[39m\t\u001b[33m(\u001b[39m\u001b[0m%rdi\u001b[0m,\u001b[0m%rdi\u001b[33m)\u001b[39m\u001b[0m, \u001b[0m%rax\n",
      "\t\u001b[96m\u001b[1mretq\u001b[22m\u001b[39m\n",
      "\t\u001b[96m\u001b[1mnopl\u001b[22m\u001b[39m\t\u001b[33m(\u001b[39m\u001b[0m%rax\u001b[33m)\u001b[39m\n"
     ]
    }
   ],
   "source": [
    "@code_native debuginfo=:none f(1, 2)"
   ]
  },
  {
   "cell_type": "code",
   "execution_count": 48,
   "metadata": {},
   "outputs": [
    {
     "data": {
      "text/plain": [
       "f (generic function with 1 method)"
      ]
     },
     "execution_count": 48,
     "metadata": {},
     "output_type": "execute_result"
    }
   ],
   "source": [
    "f # even though we have only 1 method, codegen is specialized on input arguments"
   ]
  },
  {
   "cell_type": "markdown",
   "metadata": {},
   "source": [
    "Note! Contrary to popular believe, it's very much unnecessary to add type annotation to function arguments -- the Julia compiler (almost always) specializes on the types, and the only reason to use type annotations like `f(x::Real, y::Int) = ...` is to restrict types. Generally though, generic programming is easier if you do not add types."
   ]
  },
  {
   "cell_type": "markdown",
   "metadata": {},
   "source": [
    "## Example: forward autodiff using dual numbers\n",
    "\n",
    "They are expressions of the form $a + b \\varepsilon$, where $a$ and $b$ are real numbers, and $\\varepsilon$ is a symbol taken to satisfy $\\varepsilon^2 = 0$. \n",
    "\n",
    "They are rather useful to obtain derivatives of functions; for an analytic real function $f$ if you would extend it to dual numbers and formally expand $f(a+\\varepsilon)$ around $f(a)$:\n",
    "\n",
    "$$f(a+\\varepsilon)=\\sum _{n=0}^{\\infty }{\\frac {f^{(n)}(a)\\varepsilon ^{n}}{n!}}=f(a)+f'(a)\\varepsilon$$\n",
    "\n",
    "You can see that it maps to another dual number where the $\\varepsilon$ component is the derivative of $f$ in $a$.\n",
    "\n",
    "Implementing this in Julia is rather straight-forward, and you can stay close to the maths:"
   ]
  },
  {
   "cell_type": "code",
   "execution_count": 49,
   "metadata": {},
   "outputs": [],
   "source": [
    "struct Dual{T<:Real} <: Number\n",
    "    x::T\n",
    "    ε::T\n",
    "end"
   ]
  },
  {
   "cell_type": "code",
   "execution_count": 50,
   "metadata": {},
   "outputs": [
    {
     "data": {
      "text/plain": [
       "Dual{Float64}(1.0, 1.0)"
      ]
     },
     "execution_count": 50,
     "metadata": {},
     "output_type": "execute_result"
    }
   ],
   "source": [
    "Dual(1.0, 1.0)"
   ]
  },
  {
   "cell_type": "code",
   "execution_count": 51,
   "metadata": {},
   "outputs": [],
   "source": [
    "import Base: +, /, -, *, promote_rule, show, convert"
   ]
  },
  {
   "cell_type": "markdown",
   "metadata": {},
   "source": [
    "To see why $/$ is implemented like that, multiply $(a+b\\varepsilon)/(c+d\\varepsilon)$ with $1 = (c-d\\varepsilon)/(c-d\\varepsilon)$"
   ]
  },
  {
   "cell_type": "code",
   "execution_count": 52,
   "metadata": {},
   "outputs": [
    {
     "data": {
      "text/plain": [
       "- (generic function with 257 methods)"
      ]
     },
     "execution_count": 52,
     "metadata": {},
     "output_type": "execute_result"
    }
   ],
   "source": [
    "+(x::Dual, y::Dual) = Dual(x.x + y.x, x.ε + y.ε)\n",
    "\n",
    "# Or if you feel more fancy\n",
    "x::Dual / y::Dual = Dual(x.x / y.x, (y.x * x.ε - x.x * y.ε) / y.ε^2)\n",
    "x::Dual * y::Dual = Dual(x.x * y.x, x.ε * y.x + x.x * y.ε)\n",
    "x::Dual - y::Dual = Dual(x.x - y.x, x.ε - y.ε)\n",
    "-(x::Dual) = Dual(-x.x, -x.ε)"
   ]
  },
  {
   "cell_type": "code",
   "execution_count": 53,
   "metadata": {},
   "outputs": [
    {
     "data": {
      "text/plain": [
       "promote_rule (generic function with 133 methods)"
      ]
     },
     "execution_count": 53,
     "metadata": {},
     "output_type": "execute_result"
    }
   ],
   "source": [
    "# conversion of values\n",
    "convert(::Type{Dual{T}}, x::Real) where {T} = Dual{T}(x, zero(x))\n",
    "\n",
    "# promotion of types: 2 * (3 + 4ε) -- only used for arithmetic\n",
    "promote_rule(::Type{Dual{T}}, ::Type{<:Number}) where {T} = Dual{T}"
   ]
  },
  {
   "cell_type": "code",
   "execution_count": 54,
   "metadata": {},
   "outputs": [
    {
     "data": {
      "text/plain": [
       "Dual"
      ]
     },
     "execution_count": 54,
     "metadata": {},
     "output_type": "execute_result"
    }
   ],
   "source": [
    "# add some constructors\n",
    "Dual(x) = Dual(x, one(x))"
   ]
  },
  {
   "cell_type": "code",
   "execution_count": 55,
   "metadata": {},
   "outputs": [
    {
     "data": {
      "text/plain": [
       "show (generic function with 316 methods)"
      ]
     },
     "execution_count": 55,
     "metadata": {},
     "output_type": "execute_result"
    }
   ],
   "source": [
    "# pretty print :rainbow:\n",
    "show(io::IO, x::Dual) = print(io, x.x, \" + \", x.ε, \"ε\")"
   ]
  },
  {
   "cell_type": "code",
   "execution_count": 56,
   "metadata": {},
   "outputs": [
    {
     "data": {
      "text/plain": [
       "1.0 + 1.0ε"
      ]
     },
     "execution_count": 56,
     "metadata": {},
     "output_type": "execute_result"
    }
   ],
   "source": [
    "Dual(1.0)"
   ]
  },
  {
   "cell_type": "code",
   "execution_count": 57,
   "metadata": {},
   "outputs": [
    {
     "data": {
      "text/plain": [
       "p (generic function with 1 method)"
      ]
     },
     "execution_count": 57,
     "metadata": {},
     "output_type": "execute_result"
    }
   ],
   "source": [
    "p(x) = 2 * x * (3 * x - 1)"
   ]
  },
  {
   "cell_type": "code",
   "execution_count": 58,
   "metadata": {},
   "outputs": [
    {
     "data": {
      "text/plain": [
       "p′ (generic function with 1 method)"
      ]
     },
     "execution_count": 58,
     "metadata": {},
     "output_type": "execute_result"
    }
   ],
   "source": [
    "p′(x) = 12 * x - 2 # true derivative"
   ]
  },
  {
   "cell_type": "code",
   "execution_count": 59,
   "metadata": {},
   "outputs": [
    {
     "data": {
      "text/plain": [
       "88.0 + 46.0ε"
      ]
     },
     "execution_count": 59,
     "metadata": {},
     "output_type": "execute_result"
    }
   ],
   "source": [
    "p(Dual(4.0))"
   ]
  },
  {
   "cell_type": "code",
   "execution_count": 60,
   "metadata": {},
   "outputs": [
    {
     "data": {
      "text/plain": [
       "46.0"
      ]
     },
     "execution_count": 60,
     "metadata": {},
     "output_type": "execute_result"
    }
   ],
   "source": [
    "p′(4.0)"
   ]
  },
  {
   "cell_type": "code",
   "execution_count": 61,
   "metadata": {},
   "outputs": [
    {
     "data": {
      "text/plain": [
       "∂ (generic function with 1 method)"
      ]
     },
     "execution_count": 61,
     "metadata": {},
     "output_type": "execute_result"
    }
   ],
   "source": [
    "# And for simplicity, let's define a function that lifts x to Dual(x) before applying f:\n",
    "∂(f, x) = f(Dual(x))"
   ]
  },
  {
   "cell_type": "code",
   "execution_count": 62,
   "metadata": {},
   "outputs": [
    {
     "data": {
      "text/plain": [
       "10-element Vector{Dual{Float64}}:\n",
       "    4.0 + 10.0ε\n",
       "   20.0 + 22.0ε\n",
       "   48.0 + 34.0ε\n",
       "   88.0 + 46.0ε\n",
       "  140.0 + 58.0ε\n",
       "  204.0 + 70.0ε\n",
       "  280.0 + 82.0ε\n",
       "  368.0 + 94.0ε\n",
       " 468.0 + 106.0ε\n",
       " 580.0 + 118.0ε"
      ]
     },
     "execution_count": 62,
     "metadata": {},
     "output_type": "execute_result"
    }
   ],
   "source": [
    "# Compute derivatives for a range of values x = 1.0, 2.0, ..., 10.0\n",
    "# the . is for applying the function element-wise -- they are fused\n",
    "∂.(p, 1.0:10.0)"
   ]
  },
  {
   "cell_type": "markdown",
   "metadata": {},
   "source": [
    "### Let's add a test"
   ]
  },
  {
   "cell_type": "code",
   "execution_count": 63,
   "metadata": {},
   "outputs": [],
   "source": [
    "using Test"
   ]
  },
  {
   "cell_type": "code",
   "execution_count": 64,
   "metadata": {},
   "outputs": [
    {
     "data": {
      "text/plain": [
       "\u001b[32m\u001b[1mTest Passed\u001b[22m\u001b[39m"
      ]
     },
     "execution_count": 64,
     "metadata": {},
     "output_type": "execute_result"
    }
   ],
   "source": [
    "xs = range(-10.0, 10.0, length=100)\n",
    "@test all(map(x -> ∂(p, x).ε ≈ p′(x), xs))"
   ]
  },
  {
   "cell_type": "markdown",
   "metadata": {},
   "source": [
    "### Mixing our dual number type with a dual-number-unaware packages\n",
    "\n",
    "Suppose we have a polynomial of which we have to compute its roots"
   ]
  },
  {
   "cell_type": "code",
   "execution_count": 65,
   "metadata": {},
   "outputs": [
    {
     "data": {
      "text/plain": [
       "poly (generic function with 1 method)"
      ]
     },
     "execution_count": 65,
     "metadata": {},
     "output_type": "execute_result"
    }
   ],
   "source": [
    "poly(x) = (x - 1.0) * (x - 2.0) * (x - 3.0) * (x - 4.0) + 0.5"
   ]
  },
  {
   "cell_type": "code",
   "execution_count": 66,
   "metadata": {},
   "outputs": [
    {
     "data": {
      "text/plain": [
       "\u001b[90m      ┌────────────────────────────────────────┐\u001b[39m \n",
       "    \u001b[90m1\u001b[39m\u001b[90m │\u001b[39m\u001b[0m⠀\u001b[0m⠀\u001b[0m⠀\u001b[0m⠀\u001b[0m⠀\u001b[0m⠀\u001b[32m⡇\u001b[39m\u001b[0m⠀\u001b[0m⠀\u001b[0m⠀\u001b[0m⠀\u001b[0m⠀\u001b[0m⠀\u001b[0m⠀\u001b[0m⠀\u001b[32m⡇\u001b[39m\u001b[0m⠀\u001b[32m⠘\u001b[39m\u001b[32m⡆\u001b[39m\u001b[0m⠀\u001b[0m⠀\u001b[0m⠀\u001b[0m⠀\u001b[0m⠀\u001b[0m⠀\u001b[0m⠀\u001b[32m⢰\u001b[39m\u001b[32m⠁\u001b[39m\u001b[0m⠀\u001b[0m⠀\u001b[0m⠀\u001b[0m⠀\u001b[0m⠀\u001b[0m⠀\u001b[0m⠀\u001b[0m⠀\u001b[0m⠀\u001b[0m⠀\u001b[0m⠀\u001b[0m⠀\u001b[90m│\u001b[39m \n",
       "     \u001b[90m │\u001b[39m\u001b[0m⠀\u001b[0m⠀\u001b[0m⠀\u001b[0m⠀\u001b[0m⠀\u001b[0m⠀\u001b[32m⢇\u001b[39m\u001b[0m⠀\u001b[0m⠀\u001b[0m⠀\u001b[0m⠀\u001b[0m⠀\u001b[0m⠀\u001b[0m⠀\u001b[32m⡜\u001b[39m\u001b[0m⠀\u001b[0m⠀\u001b[0m⠀\u001b[32m⠸\u001b[39m\u001b[32m⡀\u001b[39m\u001b[0m⠀\u001b[0m⠀\u001b[0m⠀\u001b[0m⠀\u001b[0m⠀\u001b[0m⠀\u001b[32m⢸\u001b[39m\u001b[0m⠀\u001b[0m⠀\u001b[0m⠀\u001b[0m⠀\u001b[0m⠀\u001b[0m⠀\u001b[0m⠀\u001b[0m⠀\u001b[0m⠀\u001b[0m⠀\u001b[0m⠀\u001b[0m⠀\u001b[0m⠀\u001b[90m│\u001b[39m \n",
       "     \u001b[90m │\u001b[39m\u001b[0m⠀\u001b[0m⠀\u001b[0m⠀\u001b[0m⠀\u001b[0m⠀\u001b[0m⠀\u001b[32m⢸\u001b[39m\u001b[0m⠀\u001b[0m⠀\u001b[0m⠀\u001b[0m⠀\u001b[0m⠀\u001b[0m⠀\u001b[32m⢠\u001b[39m\u001b[32m⠃\u001b[39m\u001b[0m⠀\u001b[0m⠀\u001b[0m⠀\u001b[0m⠀\u001b[32m⢣\u001b[39m\u001b[0m⠀\u001b[0m⠀\u001b[0m⠀\u001b[0m⠀\u001b[0m⠀\u001b[0m⠀\u001b[32m⢸\u001b[39m\u001b[0m⠀\u001b[0m⠀\u001b[0m⠀\u001b[0m⠀\u001b[0m⠀\u001b[0m⠀\u001b[0m⠀\u001b[0m⠀\u001b[0m⠀\u001b[0m⠀\u001b[0m⠀\u001b[0m⠀\u001b[0m⠀\u001b[90m│\u001b[39m \n",
       "     \u001b[90m │\u001b[39m\u001b[0m⠀\u001b[0m⠀\u001b[0m⠀\u001b[0m⠀\u001b[0m⠀\u001b[0m⠀\u001b[32m⢸\u001b[39m\u001b[0m⠀\u001b[0m⠀\u001b[0m⠀\u001b[0m⠀\u001b[0m⠀\u001b[0m⠀\u001b[32m⡜\u001b[39m\u001b[0m⠀\u001b[0m⠀\u001b[0m⠀\u001b[0m⠀\u001b[0m⠀\u001b[32m⠸\u001b[39m\u001b[32m⡀\u001b[39m\u001b[0m⠀\u001b[0m⠀\u001b[0m⠀\u001b[0m⠀\u001b[0m⠀\u001b[32m⢸\u001b[39m\u001b[0m⠀\u001b[0m⠀\u001b[0m⠀\u001b[0m⠀\u001b[0m⠀\u001b[0m⠀\u001b[0m⠀\u001b[0m⠀\u001b[0m⠀\u001b[0m⠀\u001b[0m⠀\u001b[0m⠀\u001b[0m⠀\u001b[90m│\u001b[39m \n",
       "     \u001b[90m │\u001b[39m\u001b[0m⠀\u001b[0m⠀\u001b[0m⠀\u001b[0m⠀\u001b[0m⠀\u001b[0m⠀\u001b[32m⢸\u001b[39m\u001b[0m⠀\u001b[0m⠀\u001b[0m⠀\u001b[0m⠀\u001b[0m⠀\u001b[32m⢀\u001b[39m\u001b[32m⠇\u001b[39m\u001b[0m⠀\u001b[0m⠀\u001b[0m⠀\u001b[0m⠀\u001b[0m⠀\u001b[0m⠀\u001b[32m⢇\u001b[39m\u001b[0m⠀\u001b[0m⠀\u001b[0m⠀\u001b[0m⠀\u001b[0m⠀\u001b[32m⡎\u001b[39m\u001b[0m⠀\u001b[0m⠀\u001b[0m⠀\u001b[0m⠀\u001b[0m⠀\u001b[0m⠀\u001b[0m⠀\u001b[0m⠀\u001b[0m⠀\u001b[0m⠀\u001b[0m⠀\u001b[0m⠀\u001b[0m⠀\u001b[90m│\u001b[39m \n",
       "     \u001b[90m │\u001b[39m\u001b[0m⠀\u001b[0m⠀\u001b[0m⠀\u001b[0m⠀\u001b[0m⠀\u001b[0m⠀\u001b[0m⠀\u001b[32m⡇\u001b[39m\u001b[0m⠀\u001b[0m⠀\u001b[0m⠀\u001b[0m⠀\u001b[32m⡜\u001b[39m\u001b[0m⠀\u001b[0m⠀\u001b[0m⠀\u001b[0m⠀\u001b[0m⠀\u001b[0m⠀\u001b[0m⠀\u001b[32m⢸\u001b[39m\u001b[0m⠀\u001b[0m⠀\u001b[0m⠀\u001b[0m⠀\u001b[0m⠀\u001b[32m⡇\u001b[39m\u001b[0m⠀\u001b[0m⠀\u001b[0m⠀\u001b[0m⠀\u001b[0m⠀\u001b[0m⠀\u001b[0m⠀\u001b[0m⠀\u001b[0m⠀\u001b[0m⠀\u001b[0m⠀\u001b[0m⠀\u001b[0m⠀\u001b[90m│\u001b[39m \n",
       "     \u001b[90m │\u001b[39m\u001b[0m⠀\u001b[0m⠀\u001b[0m⠀\u001b[0m⠀\u001b[0m⠀\u001b[0m⠀\u001b[0m⠀\u001b[32m⡇\u001b[39m\u001b[0m⠀\u001b[0m⠀\u001b[0m⠀\u001b[32m⢀\u001b[39m\u001b[32m⠇\u001b[39m\u001b[0m⠀\u001b[0m⠀\u001b[0m⠀\u001b[0m⠀\u001b[0m⠀\u001b[0m⠀\u001b[0m⠀\u001b[32m⠈\u001b[39m\u001b[32m⡆\u001b[39m\u001b[0m⠀\u001b[0m⠀\u001b[0m⠀\u001b[0m⠀\u001b[32m⡇\u001b[39m\u001b[0m⠀\u001b[0m⠀\u001b[0m⠀\u001b[0m⠀\u001b[0m⠀\u001b[0m⠀\u001b[0m⠀\u001b[0m⠀\u001b[0m⠀\u001b[0m⠀\u001b[0m⠀\u001b[0m⠀\u001b[0m⠀\u001b[90m│\u001b[39m \n",
       "     \u001b[90m │\u001b[39m\u001b[0m⠤\u001b[0m⠤\u001b[0m⠤\u001b[0m⠤\u001b[0m⠤\u001b[0m⠤\u001b[0m⠤\u001b[32m⡧\u001b[39m\u001b[0m⠤\u001b[0m⠤\u001b[0m⠤\u001b[32m⢼\u001b[39m\u001b[0m⠤\u001b[0m⠤\u001b[0m⠤\u001b[0m⠤\u001b[0m⠤\u001b[0m⠤\u001b[0m⠤\u001b[0m⠤\u001b[0m⠤\u001b[32m⢵\u001b[39m\u001b[0m⠤\u001b[0m⠤\u001b[0m⠤\u001b[32m⢼\u001b[39m\u001b[0m⠤\u001b[0m⠤\u001b[0m⠤\u001b[0m⠤\u001b[0m⠤\u001b[0m⠤\u001b[0m⠤\u001b[0m⠤\u001b[0m⠤\u001b[0m⠤\u001b[0m⠤\u001b[0m⠤\u001b[0m⠤\u001b[0m⠤\u001b[90m│\u001b[39m \n",
       "     \u001b[90m │\u001b[39m\u001b[0m⠀\u001b[0m⠀\u001b[0m⠀\u001b[0m⠀\u001b[0m⠀\u001b[0m⠀\u001b[0m⠀\u001b[32m⢸\u001b[39m\u001b[0m⠀\u001b[0m⠀\u001b[0m⠀\u001b[32m⡇\u001b[39m\u001b[0m⠀\u001b[0m⠀\u001b[0m⠀\u001b[0m⠀\u001b[0m⠀\u001b[0m⠀\u001b[0m⠀\u001b[0m⠀\u001b[0m⠀\u001b[32m⠘\u001b[39m\u001b[32m⡄\u001b[39m\u001b[0m⠀\u001b[0m⠀\u001b[32m⡸\u001b[39m\u001b[0m⠀\u001b[0m⠀\u001b[0m⠀\u001b[0m⠀\u001b[0m⠀\u001b[0m⠀\u001b[0m⠀\u001b[0m⠀\u001b[0m⠀\u001b[0m⠀\u001b[0m⠀\u001b[0m⠀\u001b[0m⠀\u001b[0m⠀\u001b[90m│\u001b[39m \n",
       "     \u001b[90m │\u001b[39m\u001b[0m⠀\u001b[0m⠀\u001b[0m⠀\u001b[0m⠀\u001b[0m⠀\u001b[0m⠀\u001b[0m⠀\u001b[32m⠈\u001b[39m\u001b[32m⡆\u001b[39m\u001b[0m⠀\u001b[32m⢸\u001b[39m\u001b[0m⠀\u001b[0m⠀\u001b[0m⠀\u001b[0m⠀\u001b[0m⠀\u001b[0m⠀\u001b[0m⠀\u001b[0m⠀\u001b[0m⠀\u001b[0m⠀\u001b[0m⠀\u001b[32m⢱\u001b[39m\u001b[0m⠀\u001b[0m⠀\u001b[32m⡇\u001b[39m\u001b[0m⠀\u001b[0m⠀\u001b[0m⠀\u001b[0m⠀\u001b[0m⠀\u001b[0m⠀\u001b[0m⠀\u001b[0m⠀\u001b[0m⠀\u001b[0m⠀\u001b[0m⠀\u001b[0m⠀\u001b[0m⠀\u001b[0m⠀\u001b[90m│\u001b[39m \n",
       "     \u001b[90m │\u001b[39m\u001b[0m⠀\u001b[0m⠀\u001b[0m⠀\u001b[0m⠀\u001b[0m⠀\u001b[0m⠀\u001b[0m⠀\u001b[0m⠀\u001b[32m⢣\u001b[39m\u001b[32m⣀\u001b[39m\u001b[32m⠇\u001b[39m\u001b[0m⠀\u001b[0m⠀\u001b[0m⠀\u001b[0m⠀\u001b[0m⠀\u001b[0m⠀\u001b[0m⠀\u001b[0m⠀\u001b[0m⠀\u001b[0m⠀\u001b[0m⠀\u001b[0m⠀\u001b[32m⢇\u001b[39m\u001b[32m⡰\u001b[39m\u001b[32m⠁\u001b[39m\u001b[0m⠀\u001b[0m⠀\u001b[0m⠀\u001b[0m⠀\u001b[0m⠀\u001b[0m⠀\u001b[0m⠀\u001b[0m⠀\u001b[0m⠀\u001b[0m⠀\u001b[0m⠀\u001b[0m⠀\u001b[0m⠀\u001b[0m⠀\u001b[90m│\u001b[39m \n",
       "     \u001b[90m │\u001b[39m\u001b[0m⠀\u001b[0m⠀\u001b[0m⠀\u001b[0m⠀\u001b[0m⠀\u001b[0m⠀\u001b[0m⠀\u001b[0m⠀\u001b[32m⠈\u001b[39m\u001b[0m⠀\u001b[0m⠀\u001b[0m⠀\u001b[0m⠀\u001b[0m⠀\u001b[0m⠀\u001b[0m⠀\u001b[0m⠀\u001b[0m⠀\u001b[0m⠀\u001b[0m⠀\u001b[0m⠀\u001b[0m⠀\u001b[0m⠀\u001b[32m⠈\u001b[39m\u001b[0m⠀\u001b[0m⠀\u001b[0m⠀\u001b[0m⠀\u001b[0m⠀\u001b[0m⠀\u001b[0m⠀\u001b[0m⠀\u001b[0m⠀\u001b[0m⠀\u001b[0m⠀\u001b[0m⠀\u001b[0m⠀\u001b[0m⠀\u001b[0m⠀\u001b[0m⠀\u001b[90m│\u001b[39m \n",
       "     \u001b[90m │\u001b[39m\u001b[0m⠀\u001b[0m⠀\u001b[0m⠀\u001b[0m⠀\u001b[0m⠀\u001b[0m⠀\u001b[0m⠀\u001b[0m⠀\u001b[0m⠀\u001b[0m⠀\u001b[0m⠀\u001b[0m⠀\u001b[0m⠀\u001b[0m⠀\u001b[0m⠀\u001b[0m⠀\u001b[0m⠀\u001b[0m⠀\u001b[0m⠀\u001b[0m⠀\u001b[0m⠀\u001b[0m⠀\u001b[0m⠀\u001b[0m⠀\u001b[0m⠀\u001b[0m⠀\u001b[0m⠀\u001b[0m⠀\u001b[0m⠀\u001b[0m⠀\u001b[0m⠀\u001b[0m⠀\u001b[0m⠀\u001b[0m⠀\u001b[0m⠀\u001b[0m⠀\u001b[0m⠀\u001b[0m⠀\u001b[0m⠀\u001b[0m⠀\u001b[90m│\u001b[39m \n",
       "     \u001b[90m │\u001b[39m\u001b[0m⠀\u001b[0m⠀\u001b[0m⠀\u001b[0m⠀\u001b[0m⠀\u001b[0m⠀\u001b[0m⠀\u001b[0m⠀\u001b[0m⠀\u001b[0m⠀\u001b[0m⠀\u001b[0m⠀\u001b[0m⠀\u001b[0m⠀\u001b[0m⠀\u001b[0m⠀\u001b[0m⠀\u001b[0m⠀\u001b[0m⠀\u001b[0m⠀\u001b[0m⠀\u001b[0m⠀\u001b[0m⠀\u001b[0m⠀\u001b[0m⠀\u001b[0m⠀\u001b[0m⠀\u001b[0m⠀\u001b[0m⠀\u001b[0m⠀\u001b[0m⠀\u001b[0m⠀\u001b[0m⠀\u001b[0m⠀\u001b[0m⠀\u001b[0m⠀\u001b[0m⠀\u001b[0m⠀\u001b[0m⠀\u001b[0m⠀\u001b[90m│\u001b[39m \n",
       "   \u001b[90m-1\u001b[39m\u001b[90m │\u001b[39m\u001b[0m⠀\u001b[0m⠀\u001b[0m⠀\u001b[0m⠀\u001b[0m⠀\u001b[0m⠀\u001b[0m⠀\u001b[0m⠀\u001b[0m⠀\u001b[0m⠀\u001b[0m⠀\u001b[0m⠀\u001b[0m⠀\u001b[0m⠀\u001b[0m⠀\u001b[0m⠀\u001b[0m⠀\u001b[0m⠀\u001b[0m⠀\u001b[0m⠀\u001b[0m⠀\u001b[0m⠀\u001b[0m⠀\u001b[0m⠀\u001b[0m⠀\u001b[0m⠀\u001b[0m⠀\u001b[0m⠀\u001b[0m⠀\u001b[0m⠀\u001b[0m⠀\u001b[0m⠀\u001b[0m⠀\u001b[0m⠀\u001b[0m⠀\u001b[0m⠀\u001b[0m⠀\u001b[0m⠀\u001b[0m⠀\u001b[0m⠀\u001b[90m│\u001b[39m \n",
       "\u001b[90m      └────────────────────────────────────────┘\u001b[39m \n",
       "\u001b[90m      0\u001b[39m\u001b[90m                   \u001b[39m\u001b[90m                     6\u001b[39m"
      ]
     },
     "execution_count": 66,
     "metadata": {},
     "output_type": "execute_result"
    }
   ],
   "source": [
    "using UnicodePlots; lineplot(xs, poly.(xs), xlim=(0, 6), ylim=(-1, 1))"
   ]
  },
  {
   "cell_type": "code",
   "execution_count": 67,
   "metadata": {},
   "outputs": [
    {
     "data": {
      "text/plain": [
       "newton"
      ]
     },
     "execution_count": 67,
     "metadata": {},
     "output_type": "execute_result"
    }
   ],
   "source": [
    "\"\"\"\n",
    "Newton's method for a scalar function f, initial guess x₀, and a fixed number of iterations `maxiter`\n",
    "\"\"\"\n",
    "function newton(f, x₀, maxiter = 15)\n",
    "    x = x₀\n",
    "    for i = 1:maxiter\n",
    "        fₓ = ∂(f, x)\n",
    "        x -= fₓ.x / fₓ.ε\n",
    "    end\n",
    "    return x\n",
    "end"
   ]
  },
  {
   "cell_type": "code",
   "execution_count": 68,
   "metadata": {},
   "outputs": [
    {
     "data": {
      "text/plain": [
       "(1.1010336740340934, 1.7631871208960497, 3.23681287910395, 3.898966325965907)"
      ]
     },
     "execution_count": 68,
     "metadata": {},
     "output_type": "execute_result"
    }
   ],
   "source": [
    "roots = map(x -> newton(poly, x), (1.0, 2.0, 3.0, 4.0))"
   ]
  },
  {
   "cell_type": "code",
   "execution_count": 69,
   "metadata": {},
   "outputs": [
    {
     "data": {
      "text/plain": [
       "(-1.1102230246251565e-16, 0.0, 3.885780586188048e-16, 6.106226635438361e-16)"
      ]
     },
     "execution_count": 69,
     "metadata": {},
     "output_type": "execute_result"
    }
   ],
   "source": [
    "map(poly, roots)"
   ]
  },
  {
   "cell_type": "markdown",
   "metadata": {},
   "source": [
    "## How about more precision?"
   ]
  },
  {
   "cell_type": "markdown",
   "metadata": {},
   "source": [
    "The MultiFloats.jl was released somewhere around Christmas 2020 (by David K. Zhang). It's a Julia package that generates Julia code for arithmetic of numbers represented as an unevaluated sum $x_1 + x_2 + ... + x_N$ where $x_i$ are IEEE floating point numbers of the same type, and $x_{i+1}$ is in the round off of $x_i$."
   ]
  },
  {
   "cell_type": "code",
   "execution_count": 70,
   "metadata": {},
   "outputs": [
    {
     "name": "stderr",
     "output_type": "stream",
     "text": [
      "\u001b[32m\u001b[1m   Resolving\u001b[22m\u001b[39m package versions...\n",
      "\u001b[32m\u001b[1m  No Changes\u001b[22m\u001b[39m to `~/tutorial_julia_interactive/01_introduction/Project.toml`\n",
      "\u001b[32m\u001b[1m  No Changes\u001b[22m\u001b[39m to `~/tutorial_julia_interactive/01_introduction/Manifest.toml`\n"
     ]
    }
   ],
   "source": [
    "] add MultiFloats"
   ]
  },
  {
   "cell_type": "code",
   "execution_count": 71,
   "metadata": {},
   "outputs": [],
   "source": [
    "using MultiFloats"
   ]
  },
  {
   "cell_type": "code",
   "execution_count": 72,
   "metadata": {},
   "outputs": [
    {
     "data": {
      "text/plain": [
       "(1.4142135623730951, 1.414213562373095048801688724209682, 1.414213562373095048801688724209698078569671875376948073176679738104)"
      ]
     },
     "execution_count": 72,
     "metadata": {},
     "output_type": "execute_result"
    }
   ],
   "source": [
    "sqrt(2.0), sqrt(Float64x2(2.0)), sqrt(Float64x4(2.0))"
   ]
  },
  {
   "cell_type": "code",
   "execution_count": 74,
   "metadata": {},
   "outputs": [
    {
     "name": "stdout",
     "output_type": "stream",
     "text": [
      "MultiFloat{Float64, 4}\n",
      "  _limbs: NTuple{4, Float64}\n",
      "    1: Float64 1.4142135623730951\n",
      "    2: Float64 -9.667293313452913e-17\n",
      "    3: Float64 4.1386753086994136e-33\n",
      "    4: Float64 4.935546991468362e-50\n"
     ]
    }
   ],
   "source": [
    "x = sqrt(Float64x4(2.0))\n",
    "dump(x)"
   ]
  },
  {
   "cell_type": "code",
   "execution_count": 75,
   "metadata": {},
   "outputs": [
    {
     "data": {
      "text/plain": [
       "(2.220446049250313e-16, -9.667293313452913e-17)"
      ]
     },
     "execution_count": 75,
     "metadata": {},
     "output_type": "execute_result"
    }
   ],
   "source": [
    "# The basic rule here is that x._limbs[i+1] is in the roundoff of x._limbs[i]\n",
    "eps(x._limbs[1]), x._limbs[2]"
   ]
  },
  {
   "cell_type": "code",
   "execution_count": 76,
   "metadata": {},
   "outputs": [
    {
     "data": {
      "text/plain": [
       "(1.10103367403409329796845946056800123532647743613376112006906367685, 1.763187120896049703422495432699541749624341579312803486771580059661, 3.23681287910395029657750456730045825037565842068719651322841994032, 3.898966325965906702031540539431998764673522563866238879930936323147)"
      ]
     },
     "execution_count": 76,
     "metadata": {},
     "output_type": "execute_result"
    }
   ],
   "source": [
    "roots_4x = map(x -> newton(poly, Float64x4(x)), (1.0, 2.0, 3.0, 4.0))"
   ]
  },
  {
   "cell_type": "code",
   "execution_count": 77,
   "metadata": {},
   "outputs": [
    {
     "data": {
      "text/plain": [
       "(-4.7477838728798994e-66, -3.7982270983039195e-65, 7.596454196607839e-65, -3.7982270983039195e-65)"
      ]
     },
     "execution_count": 77,
     "metadata": {},
     "output_type": "execute_result"
    }
   ],
   "source": [
    "map(poly, roots_4x)"
   ]
  },
  {
   "cell_type": "markdown",
   "metadata": {},
   "source": [
    "### Analyzing the generated code & nudging the compiler to inline things\n",
    "\n",
    "Using the `@inline` macro we can mark functions s.t. they are highly likely to inline"
   ]
  },
  {
   "cell_type": "code",
   "execution_count": 78,
   "metadata": {},
   "outputs": [
    {
     "data": {
      "text/plain": [
       "- (generic function with 263 methods)"
      ]
     },
     "execution_count": 78,
     "metadata": {},
     "output_type": "execute_result"
    }
   ],
   "source": [
    "@inline function newton(f, x₀, maxiter = 15)\n",
    "    x = x₀\n",
    "    for i = 1:maxiter\n",
    "        fₓ = ∂(f, x)\n",
    "        x -= fₓ.x / fₓ.ε\n",
    "    end\n",
    "    return x\n",
    "end\n",
    "\n",
    "@inline function poly(x) \n",
    "    (x - 1.0) * (x - 2.0) * (x - 3.0) * (x - 4.0) + 0.5\n",
    "end\n",
    "\n",
    "@inline function ∂(f, x)\n",
    "    f(Dual(x))\n",
    "end\n",
    "\n",
    "@inline function +(x::Dual, y::Dual)\n",
    "    Dual(x.x + y.x, x.ε + y.ε)\n",
    "end\n",
    "\n",
    "@inline function /(x::Dual, y::Dual)\n",
    "    Dual(x.x / y.x, (y.x * x.ε - x.x * y.ε) / y.ε^2)\n",
    "end\n",
    "\n",
    "@inline function *(x::Dual, y::Dual)\n",
    "    Dual(x.x * y.x, x.ε * y.x + x.x * y.ε)\n",
    "end\n",
    "\n",
    "@inline function -(x::Dual, y::Dual)\n",
    "    Dual(x.x - y.x, x.ε - y.ε)\n",
    "end\n",
    "\n",
    "@inline function -(x::Dual)\n",
    "     Dual(-x.x, -x.ε)\n",
    "end"
   ]
  },
  {
   "cell_type": "code",
   "execution_count": 79,
   "metadata": {},
   "outputs": [
    {
     "data": {
      "text/plain": [
       "get_roots (generic function with 1 method)"
      ]
     },
     "execution_count": 79,
     "metadata": {},
     "output_type": "execute_result"
    }
   ],
   "source": [
    "# Note that the number of iterations are now compile-time constants\n",
    "# so get_roots can have better codegen than just newton(...) with a \"dynamic\" number of iterations\n",
    "get_roots(x, iter::Val{N}) where {N} = newton(poly, x, N)"
   ]
  },
  {
   "cell_type": "code",
   "execution_count": 80,
   "metadata": {},
   "outputs": [
    {
     "name": "stdout",
     "output_type": "stream",
     "text": [
      "\t\u001b[0m.text\n",
      "\t\u001b[96m\u001b[1mmovabsq\u001b[22m\u001b[39m\t\u001b[93m$.rodata.cst8\u001b[39m\u001b[0m, \u001b[0m%rax\n",
      "\t\u001b[96m\u001b[1mvmovsd\u001b[22m\u001b[39m\t\u001b[33m(\u001b[39m\u001b[0m%rax\u001b[33m)\u001b[39m\u001b[0m, \u001b[0m%xmm8                   \u001b[90m# xmm8 = mem[0],zero\u001b[39m\n",
      "\t\u001b[96m\u001b[1mvaddsd\u001b[22m\u001b[39m\t\u001b[0m%xmm0\u001b[0m, \u001b[0m%xmm8\u001b[0m, \u001b[0m%xmm5\n",
      "\t\u001b[96m\u001b[1mmovabsq\u001b[22m\u001b[39m\t\u001b[33m$46913579698736\u001b[39m\u001b[0m, \u001b[0m%rax           \u001b[90m# imm = 0x2AAAEB40CA30\u001b[39m\n",
      "\t\u001b[96m\u001b[1mvmovsd\u001b[22m\u001b[39m\t\u001b[33m(\u001b[39m\u001b[0m%rax\u001b[33m)\u001b[39m\u001b[0m, \u001b[0m%xmm9                   \u001b[90m# xmm9 = mem[0],zero\u001b[39m\n",
      "\t\u001b[96m\u001b[1mvaddsd\u001b[22m\u001b[39m\t\u001b[0m%xmm0\u001b[0m, \u001b[0m%xmm9\u001b[0m, \u001b[0m%xmm6\n",
      "\t\u001b[96m\u001b[1mmovabsq\u001b[22m\u001b[39m\t\u001b[33m$46913579698744\u001b[39m\u001b[0m, \u001b[0m%rax           \u001b[90m# imm = 0x2AAAEB40CA38\u001b[39m\n",
      "\t\u001b[96m\u001b[1mvmovsd\u001b[22m\u001b[39m\t\u001b[33m(\u001b[39m\u001b[0m%rax\u001b[33m)\u001b[39m\u001b[0m, \u001b[0m%xmm11                  \u001b[90m# xmm11 = mem[0],zero\u001b[39m\n",
      "\t\u001b[96m\u001b[1mvaddsd\u001b[22m\u001b[39m\t\u001b[0m%xmm0\u001b[0m, \u001b[0m%xmm11\u001b[0m, \u001b[0m%xmm7\n",
      "\t\u001b[96m\u001b[1mmovabsq\u001b[22m\u001b[39m\t\u001b[33m$46913579698752\u001b[39m\u001b[0m, \u001b[0m%rax           \u001b[90m# imm = 0x2AAAEB40CA40\u001b[39m\n",
      "\t\u001b[96m\u001b[1mvmovsd\u001b[22m\u001b[39m\t\u001b[33m(\u001b[39m\u001b[0m%rax\u001b[33m)\u001b[39m\u001b[0m, \u001b[0m%xmm4                   \u001b[90m# xmm4 = mem[0],zero\u001b[39m\n",
      "\t\u001b[96m\u001b[1mvaddsd\u001b[22m\u001b[39m\t\u001b[0m%xmm4\u001b[0m, \u001b[0m%xmm0\u001b[0m, \u001b[0m%xmm1\n",
      "\t\u001b[96m\u001b[1mvmulsd\u001b[22m\u001b[39m\t\u001b[0m%xmm6\u001b[0m, \u001b[0m%xmm5\u001b[0m, \u001b[0m%xmm2\n",
      "\t\u001b[96m\u001b[1mvaddsd\u001b[22m\u001b[39m\t\u001b[0m%xmm5\u001b[0m, \u001b[0m%xmm6\u001b[0m, \u001b[0m%xmm5\n",
      "\t\u001b[96m\u001b[1mvmulsd\u001b[22m\u001b[39m\t\u001b[0m%xmm2\u001b[0m, \u001b[0m%xmm7\u001b[0m, \u001b[0m%xmm6\n",
      "\t\u001b[96m\u001b[1mvmulsd\u001b[22m\u001b[39m\t\u001b[0m%xmm5\u001b[0m, \u001b[0m%xmm7\u001b[0m, \u001b[0m%xmm5\n",
      "\t\u001b[96m\u001b[1mvaddsd\u001b[22m\u001b[39m\t\u001b[0m%xmm5\u001b[0m, \u001b[0m%xmm2\u001b[0m, \u001b[0m%xmm2\n",
      "\t\u001b[96m\u001b[1mvmulsd\u001b[22m\u001b[39m\t\u001b[0m%xmm6\u001b[0m, \u001b[0m%xmm1\u001b[0m, \u001b[0m%xmm7\n",
      "\t\u001b[96m\u001b[1mvmulsd\u001b[22m\u001b[39m\t\u001b[0m%xmm2\u001b[0m, \u001b[0m%xmm1\u001b[0m, \u001b[0m%xmm1\n",
      "\t\u001b[96m\u001b[1mvaddsd\u001b[22m\u001b[39m\t\u001b[0m%xmm1\u001b[0m, \u001b[0m%xmm6\u001b[0m, \u001b[0m%xmm1\n",
      "\t\u001b[96m\u001b[1mmovabsq\u001b[22m\u001b[39m\t\u001b[33m$46913579698760\u001b[39m\u001b[0m, \u001b[0m%rax           \u001b[90m# imm = 0x2AAAEB40CA48\u001b[39m\n",
      "\t\u001b[96m\u001b[1mvmovsd\u001b[22m\u001b[39m\t\u001b[33m(\u001b[39m\u001b[0m%rax\u001b[33m)\u001b[39m\u001b[0m, \u001b[0m%xmm5                   \u001b[90m# xmm5 = mem[0],zero\u001b[39m\n",
      "\t\u001b[96m\u001b[1mvaddsd\u001b[22m\u001b[39m\t\u001b[0m%xmm5\u001b[0m, \u001b[0m%xmm7\u001b[0m, \u001b[0m%xmm2\n",
      "\t\u001b[96m\u001b[1mvxorpd\u001b[22m\u001b[39m\t\u001b[0m%xmm10\u001b[0m, \u001b[0m%xmm10\u001b[0m, \u001b[0m%xmm10\n",
      "\t\u001b[96m\u001b[1mvaddsd\u001b[22m\u001b[39m\t\u001b[0m%xmm1\u001b[0m, \u001b[0m%xmm10\u001b[0m, \u001b[0m%xmm1\n",
      "\t\u001b[96m\u001b[1mvdivsd\u001b[22m\u001b[39m\t\u001b[0m%xmm1\u001b[0m, \u001b[0m%xmm2\u001b[0m, \u001b[0m%xmm1\n",
      "\t\u001b[96m\u001b[1mvsubsd\u001b[22m\u001b[39m\t\u001b[0m%xmm1\u001b[0m, \u001b[0m%xmm0\u001b[0m, \u001b[0m%xmm0\n",
      "\t\u001b[96m\u001b[1mvaddsd\u001b[22m\u001b[39m\t\u001b[0m%xmm0\u001b[0m, \u001b[0m%xmm8\u001b[0m, \u001b[0m%xmm1\n",
      "\t\u001b[96m\u001b[1mvaddsd\u001b[22m\u001b[39m\t\u001b[0m%xmm0\u001b[0m, \u001b[0m%xmm9\u001b[0m, \u001b[0m%xmm2\n",
      "\t\u001b[96m\u001b[1mvaddsd\u001b[22m\u001b[39m\t\u001b[0m%xmm0\u001b[0m, \u001b[0m%xmm11\u001b[0m, \u001b[0m%xmm7\n",
      "\t\u001b[96m\u001b[1mvaddsd\u001b[22m\u001b[39m\t\u001b[0m%xmm4\u001b[0m, \u001b[0m%xmm0\u001b[0m, \u001b[0m%xmm6\n",
      "\t\u001b[96m\u001b[1mvmulsd\u001b[22m\u001b[39m\t\u001b[0m%xmm2\u001b[0m, \u001b[0m%xmm1\u001b[0m, \u001b[0m%xmm3\n",
      "\t\u001b[96m\u001b[1mvaddsd\u001b[22m\u001b[39m\t\u001b[0m%xmm1\u001b[0m, \u001b[0m%xmm2\u001b[0m, \u001b[0m%xmm1\n",
      "\t\u001b[96m\u001b[1mvmulsd\u001b[22m\u001b[39m\t\u001b[0m%xmm3\u001b[0m, \u001b[0m%xmm7\u001b[0m, \u001b[0m%xmm2\n",
      "\t\u001b[96m\u001b[1mvmulsd\u001b[22m\u001b[39m\t\u001b[0m%xmm1\u001b[0m, \u001b[0m%xmm7\u001b[0m, \u001b[0m%xmm1\n",
      "\t\u001b[96m\u001b[1mvaddsd\u001b[22m\u001b[39m\t\u001b[0m%xmm1\u001b[0m, \u001b[0m%xmm3\u001b[0m, \u001b[0m%xmm1\n",
      "\t\u001b[96m\u001b[1mvmulsd\u001b[22m\u001b[39m\t\u001b[0m%xmm2\u001b[0m, \u001b[0m%xmm6\u001b[0m, \u001b[0m%xmm3\n",
      "\t\u001b[96m\u001b[1mvmulsd\u001b[22m\u001b[39m\t\u001b[0m%xmm1\u001b[0m, \u001b[0m%xmm6\u001b[0m, \u001b[0m%xmm1\n",
      "\t\u001b[96m\u001b[1mvaddsd\u001b[22m\u001b[39m\t\u001b[0m%xmm1\u001b[0m, \u001b[0m%xmm2\u001b[0m, \u001b[0m%xmm1\n",
      "\t\u001b[96m\u001b[1mvaddsd\u001b[22m\u001b[39m\t\u001b[0m%xmm5\u001b[0m, \u001b[0m%xmm3\u001b[0m, \u001b[0m%xmm2\n",
      "\t\u001b[96m\u001b[1mvaddsd\u001b[22m\u001b[39m\t\u001b[0m%xmm1\u001b[0m, \u001b[0m%xmm10\u001b[0m, \u001b[0m%xmm1\n",
      "\t\u001b[96m\u001b[1mvdivsd\u001b[22m\u001b[39m\t\u001b[0m%xmm1\u001b[0m, \u001b[0m%xmm2\u001b[0m, \u001b[0m%xmm1\n",
      "\t\u001b[96m\u001b[1mvsubsd\u001b[22m\u001b[39m\t\u001b[0m%xmm1\u001b[0m, \u001b[0m%xmm0\u001b[0m, \u001b[0m%xmm0\n",
      "\t\u001b[96m\u001b[1mvaddsd\u001b[22m\u001b[39m\t\u001b[0m%xmm0\u001b[0m, \u001b[0m%xmm8\u001b[0m, \u001b[0m%xmm1\n",
      "\t\u001b[96m\u001b[1mvaddsd\u001b[22m\u001b[39m\t\u001b[0m%xmm0\u001b[0m, \u001b[0m%xmm9\u001b[0m, \u001b[0m%xmm2\n",
      "\t\u001b[96m\u001b[1mvaddsd\u001b[22m\u001b[39m\t\u001b[0m%xmm0\u001b[0m, \u001b[0m%xmm11\u001b[0m, \u001b[0m%xmm3\n",
      "\t\u001b[96m\u001b[1mvaddsd\u001b[22m\u001b[39m\t\u001b[0m%xmm4\u001b[0m, \u001b[0m%xmm0\u001b[0m, \u001b[0m%xmm6\n",
      "\t\u001b[96m\u001b[1mvmulsd\u001b[22m\u001b[39m\t\u001b[0m%xmm2\u001b[0m, \u001b[0m%xmm1\u001b[0m, \u001b[0m%xmm7\n",
      "\t\u001b[96m\u001b[1mvaddsd\u001b[22m\u001b[39m\t\u001b[0m%xmm1\u001b[0m, \u001b[0m%xmm2\u001b[0m, \u001b[0m%xmm1\n",
      "\t\u001b[96m\u001b[1mvmulsd\u001b[22m\u001b[39m\t\u001b[0m%xmm7\u001b[0m, \u001b[0m%xmm3\u001b[0m, \u001b[0m%xmm2\n",
      "\t\u001b[96m\u001b[1mvmulsd\u001b[22m\u001b[39m\t\u001b[0m%xmm1\u001b[0m, \u001b[0m%xmm3\u001b[0m, \u001b[0m%xmm1\n",
      "\t\u001b[96m\u001b[1mvaddsd\u001b[22m\u001b[39m\t\u001b[0m%xmm1\u001b[0m, \u001b[0m%xmm7\u001b[0m, \u001b[0m%xmm1\n",
      "\t\u001b[96m\u001b[1mvmulsd\u001b[22m\u001b[39m\t\u001b[0m%xmm2\u001b[0m, \u001b[0m%xmm6\u001b[0m, \u001b[0m%xmm3\n",
      "\t\u001b[96m\u001b[1mvmulsd\u001b[22m\u001b[39m\t\u001b[0m%xmm1\u001b[0m, \u001b[0m%xmm6\u001b[0m, \u001b[0m%xmm1\n",
      "\t\u001b[96m\u001b[1mvaddsd\u001b[22m\u001b[39m\t\u001b[0m%xmm1\u001b[0m, \u001b[0m%xmm2\u001b[0m, \u001b[0m%xmm1\n",
      "\t\u001b[96m\u001b[1mvaddsd\u001b[22m\u001b[39m\t\u001b[0m%xmm5\u001b[0m, \u001b[0m%xmm3\u001b[0m, \u001b[0m%xmm2\n",
      "\t\u001b[96m\u001b[1mvaddsd\u001b[22m\u001b[39m\t\u001b[0m%xmm1\u001b[0m, \u001b[0m%xmm10\u001b[0m, \u001b[0m%xmm1\n",
      "\t\u001b[96m\u001b[1mvdivsd\u001b[22m\u001b[39m\t\u001b[0m%xmm1\u001b[0m, \u001b[0m%xmm2\u001b[0m, \u001b[0m%xmm1\n",
      "\t\u001b[96m\u001b[1mvsubsd\u001b[22m\u001b[39m\t\u001b[0m%xmm1\u001b[0m, \u001b[0m%xmm0\u001b[0m, \u001b[0m%xmm0\n",
      "\t\u001b[96m\u001b[1mvaddsd\u001b[22m\u001b[39m\t\u001b[0m%xmm0\u001b[0m, \u001b[0m%xmm8\u001b[0m, \u001b[0m%xmm1\n",
      "\t\u001b[96m\u001b[1mvaddsd\u001b[22m\u001b[39m\t\u001b[0m%xmm0\u001b[0m, \u001b[0m%xmm9\u001b[0m, \u001b[0m%xmm2\n",
      "\t\u001b[96m\u001b[1mvaddsd\u001b[22m\u001b[39m\t\u001b[0m%xmm0\u001b[0m, \u001b[0m%xmm11\u001b[0m, \u001b[0m%xmm3\n",
      "\t\u001b[96m\u001b[1mvaddsd\u001b[22m\u001b[39m\t\u001b[0m%xmm4\u001b[0m, \u001b[0m%xmm0\u001b[0m, \u001b[0m%xmm4\n",
      "\t\u001b[96m\u001b[1mvmulsd\u001b[22m\u001b[39m\t\u001b[0m%xmm2\u001b[0m, \u001b[0m%xmm1\u001b[0m, \u001b[0m%xmm6\n",
      "\t\u001b[96m\u001b[1mvaddsd\u001b[22m\u001b[39m\t\u001b[0m%xmm1\u001b[0m, \u001b[0m%xmm2\u001b[0m, \u001b[0m%xmm1\n",
      "\t\u001b[96m\u001b[1mvmulsd\u001b[22m\u001b[39m\t\u001b[0m%xmm6\u001b[0m, \u001b[0m%xmm3\u001b[0m, \u001b[0m%xmm2\n",
      "\t\u001b[96m\u001b[1mvmulsd\u001b[22m\u001b[39m\t\u001b[0m%xmm1\u001b[0m, \u001b[0m%xmm3\u001b[0m, \u001b[0m%xmm1\n",
      "\t\u001b[96m\u001b[1mvaddsd\u001b[22m\u001b[39m\t\u001b[0m%xmm1\u001b[0m, \u001b[0m%xmm6\u001b[0m, \u001b[0m%xmm1\n",
      "\t\u001b[96m\u001b[1mvmulsd\u001b[22m\u001b[39m\t\u001b[0m%xmm2\u001b[0m, \u001b[0m%xmm4\u001b[0m, \u001b[0m%xmm3\n",
      "\t\u001b[96m\u001b[1mvmulsd\u001b[22m\u001b[39m\t\u001b[0m%xmm1\u001b[0m, \u001b[0m%xmm4\u001b[0m, \u001b[0m%xmm1\n",
      "\t\u001b[96m\u001b[1mvaddsd\u001b[22m\u001b[39m\t\u001b[0m%xmm1\u001b[0m, \u001b[0m%xmm2\u001b[0m, \u001b[0m%xmm1\n",
      "\t\u001b[96m\u001b[1mvaddsd\u001b[22m\u001b[39m\t\u001b[0m%xmm5\u001b[0m, \u001b[0m%xmm3\u001b[0m, \u001b[0m%xmm2\n",
      "\t\u001b[96m\u001b[1mvaddsd\u001b[22m\u001b[39m\t\u001b[0m%xmm1\u001b[0m, \u001b[0m%xmm10\u001b[0m, \u001b[0m%xmm1\n",
      "\t\u001b[96m\u001b[1mvdivsd\u001b[22m\u001b[39m\t\u001b[0m%xmm1\u001b[0m, \u001b[0m%xmm2\u001b[0m, \u001b[0m%xmm1\n",
      "\t\u001b[96m\u001b[1mvsubsd\u001b[22m\u001b[39m\t\u001b[0m%xmm1\u001b[0m, \u001b[0m%xmm0\u001b[0m, \u001b[0m%xmm0\n",
      "\t\u001b[96m\u001b[1mretq\u001b[22m\u001b[39m\n",
      "\t\u001b[96m\u001b[1mnopl\u001b[22m\u001b[39m\t\u001b[33m(\u001b[39m\u001b[0m%rax\u001b[33m)\u001b[39m\n"
     ]
    }
   ],
   "source": [
    "# First off: get_roots using Float64 - the loop is entirely unrolled and it looks pretty\n",
    "@code_native debuginfo=:none get_roots(1.0, Val(4))"
   ]
  },
  {
   "cell_type": "code",
   "execution_count": 81,
   "metadata": {},
   "outputs": [
    {
     "name": "stdout",
     "output_type": "stream",
     "text": [
      "\t\u001b[0m.text\n",
      "\t\u001b[96m\u001b[1mmovq\u001b[22m\u001b[39m\t\u001b[0m%rdi\u001b[0m, \u001b[0m%rax\n",
      "\t\u001b[96m\u001b[1mvmovsd\u001b[22m\u001b[39m\t\u001b[33m(\u001b[39m\u001b[0m%rsi\u001b[33m)\u001b[39m\u001b[0m, \u001b[0m%xmm9                   \u001b[90m# xmm9 = mem[0],zero\u001b[39m\n",
      "\t\u001b[96m\u001b[1mvmovsd\u001b[22m\u001b[39m\t\u001b[33m8\u001b[39m\u001b[33m(\u001b[39m\u001b[0m%rsi\u001b[33m)\u001b[39m\u001b[0m, \u001b[0m%xmm8                  \u001b[90m# xmm8 = mem[0],zero\u001b[39m\n",
      "\t\u001b[96m\u001b[1mmovl\u001b[22m\u001b[39m\t\u001b[33m$4\u001b[39m\u001b[0m, \u001b[0m%ecx\n",
      "\t\u001b[96m\u001b[1mmovabsq\u001b[22m\u001b[39m\t\u001b[93m$.rodata.cst8\u001b[39m\u001b[0m, \u001b[0m%rdx\n",
      "\t\u001b[96m\u001b[1mvmovsd\u001b[22m\u001b[39m\t\u001b[33m(\u001b[39m\u001b[0m%rdx\u001b[33m)\u001b[39m\u001b[0m, \u001b[0m%xmm0                   \u001b[90m# xmm0 = mem[0],zero\u001b[39m\n",
      "\t\u001b[96m\u001b[1mvmovsd\u001b[22m\u001b[39m\t\u001b[0m%xmm0\u001b[0m, \u001b[33m-64\u001b[39m\u001b[33m(\u001b[39m\u001b[0m%rsp\u001b[33m)\u001b[39m\n",
      "\t\u001b[96m\u001b[1mmovabsq\u001b[22m\u001b[39m\t\u001b[33m$46913579698880\u001b[39m\u001b[0m, \u001b[0m%rdx           \u001b[90m# imm = 0x2AAAEB40CAC0\u001b[39m\n",
      "\t\u001b[96m\u001b[1mvmovsd\u001b[22m\u001b[39m\t\u001b[33m(\u001b[39m\u001b[0m%rdx\u001b[33m)\u001b[39m\u001b[0m, \u001b[0m%xmm0                   \u001b[90m# xmm0 = mem[0],zero\u001b[39m\n",
      "\t\u001b[96m\u001b[1mvmovsd\u001b[22m\u001b[39m\t\u001b[0m%xmm0\u001b[0m, \u001b[33m-72\u001b[39m\u001b[33m(\u001b[39m\u001b[0m%rsp\u001b[33m)\u001b[39m\n",
      "\t\u001b[96m\u001b[1mmovabsq\u001b[22m\u001b[39m\t\u001b[33m$46913579698888\u001b[39m\u001b[0m, \u001b[0m%rdx           \u001b[90m# imm = 0x2AAAEB40CAC8\u001b[39m\n",
      "\t\u001b[96m\u001b[1mvmovsd\u001b[22m\u001b[39m\t\u001b[33m(\u001b[39m\u001b[0m%rdx\u001b[33m)\u001b[39m\u001b[0m, \u001b[0m%xmm0                   \u001b[90m# xmm0 = mem[0],zero\u001b[39m\n",
      "\t\u001b[96m\u001b[1mvmovsd\u001b[22m\u001b[39m\t\u001b[0m%xmm0\u001b[0m, \u001b[33m-80\u001b[39m\u001b[33m(\u001b[39m\u001b[0m%rsp\u001b[33m)\u001b[39m\n",
      "\t\u001b[96m\u001b[1mmovabsq\u001b[22m\u001b[39m\t\u001b[33m$46913579698896\u001b[39m\u001b[0m, \u001b[0m%rdx           \u001b[90m# imm = 0x2AAAEB40CAD0\u001b[39m\n",
      "\t\u001b[96m\u001b[1mvmovsd\u001b[22m\u001b[39m\t\u001b[33m(\u001b[39m\u001b[0m%rdx\u001b[33m)\u001b[39m\u001b[0m, \u001b[0m%xmm0                   \u001b[90m# xmm0 = mem[0],zero\u001b[39m\n",
      "\t\u001b[96m\u001b[1mvmovsd\u001b[22m\u001b[39m\t\u001b[0m%xmm0\u001b[0m, \u001b[33m-88\u001b[39m\u001b[33m(\u001b[39m\u001b[0m%rsp\u001b[33m)\u001b[39m\n",
      "\t\u001b[96m\u001b[1mmovabsq\u001b[22m\u001b[39m\t\u001b[33m$46913579698904\u001b[39m\u001b[0m, \u001b[0m%rdx           \u001b[90m# imm = 0x2AAAEB40CAD8\u001b[39m\n",
      "\t\u001b[96m\u001b[1mvmovsd\u001b[22m\u001b[39m\t\u001b[33m(\u001b[39m\u001b[0m%rdx\u001b[33m)\u001b[39m\u001b[0m, \u001b[0m%xmm0                   \u001b[90m# xmm0 = mem[0],zero\u001b[39m\n",
      "\t\u001b[96m\u001b[1mvmovsd\u001b[22m\u001b[39m\t\u001b[0m%xmm0\u001b[0m, \u001b[33m-96\u001b[39m\u001b[33m(\u001b[39m\u001b[0m%rsp\u001b[33m)\u001b[39m\n",
      "\t\u001b[96m\u001b[1mmovabsq\u001b[22m\u001b[39m\t\u001b[93m$.rodata.cst16\u001b[39m\u001b[0m, \u001b[0m%rdx\n",
      "\t\u001b[96m\u001b[1mvmovapd\u001b[22m\u001b[39m\t\u001b[33m(\u001b[39m\u001b[0m%rdx\u001b[33m)\u001b[39m\u001b[0m, \u001b[0m%xmm0\n",
      "\t\u001b[96m\u001b[1mvmovapd\u001b[22m\u001b[39m\t\u001b[0m%xmm0\u001b[0m, \u001b[33m-24\u001b[39m\u001b[33m(\u001b[39m\u001b[0m%rsp\u001b[33m)\u001b[39m\n",
      "\t\u001b[96m\u001b[1mnopl\u001b[22m\u001b[39m\t\u001b[33m(\u001b[39m\u001b[0m%rax\u001b[33m)\u001b[39m\n",
      "\u001b[91mL144:\u001b[39m\n",
      "\t\u001b[96m\u001b[1mvmovsd\u001b[22m\u001b[39m\t\u001b[33m-64\u001b[39m\u001b[33m(\u001b[39m\u001b[0m%rsp\u001b[33m)\u001b[39m\u001b[0m, \u001b[0m%xmm0                \u001b[90m# xmm0 = mem[0],zero\u001b[39m\n",
      "\t\u001b[96m\u001b[1mvaddsd\u001b[22m\u001b[39m\t\u001b[0m%xmm0\u001b[0m, \u001b[0m%xmm9\u001b[0m, \u001b[0m%xmm3\n",
      "\t\u001b[96m\u001b[1mvsubsd\u001b[22m\u001b[39m\t\u001b[0m%xmm9\u001b[0m, \u001b[0m%xmm3\u001b[0m, \u001b[0m%xmm1\n",
      "\t\u001b[96m\u001b[1mvsubsd\u001b[22m\u001b[39m\t\u001b[0m%xmm1\u001b[0m, \u001b[0m%xmm3\u001b[0m, \u001b[0m%xmm2\n",
      "\t\u001b[96m\u001b[1mvsubsd\u001b[22m\u001b[39m\t\u001b[0m%xmm2\u001b[0m, \u001b[0m%xmm9\u001b[0m, \u001b[0m%xmm2\n",
      "\t\u001b[96m\u001b[1mvsubsd\u001b[22m\u001b[39m\t\u001b[0m%xmm1\u001b[0m, \u001b[0m%xmm0\u001b[0m, \u001b[0m%xmm1\n",
      "\t\u001b[96m\u001b[1mvsubsd\u001b[22m\u001b[39m\t\u001b[0m%xmm8\u001b[0m, \u001b[0m%xmm8\u001b[0m, \u001b[0m%xmm4\n",
      "\t\u001b[96m\u001b[1mvaddsd\u001b[22m\u001b[39m\t\u001b[0m%xmm2\u001b[0m, \u001b[0m%xmm1\u001b[0m, \u001b[0m%xmm2\n",
      "\t\u001b[96m\u001b[1mvsubsd\u001b[22m\u001b[39m\t\u001b[0m%xmm4\u001b[0m, \u001b[0m%xmm8\u001b[0m, \u001b[0m%xmm1\n",
      "\t\u001b[96m\u001b[1mvsubsd\u001b[22m\u001b[39m\t\u001b[0m%xmm1\u001b[0m, \u001b[0m%xmm8\u001b[0m, \u001b[0m%xmm1\n",
      "\t\u001b[96m\u001b[1mvsubsd\u001b[22m\u001b[39m\t\u001b[0m%xmm4\u001b[0m, \u001b[0m%xmm1\u001b[0m, \u001b[0m%xmm14\n",
      "\t\u001b[96m\u001b[1mvaddsd\u001b[22m\u001b[39m\t\u001b[0m%xmm2\u001b[0m, \u001b[0m%xmm8\u001b[0m, \u001b[0m%xmm5\n",
      "\t\u001b[96m\u001b[1mvsubsd\u001b[22m\u001b[39m\t\u001b[0m%xmm8\u001b[0m, \u001b[0m%xmm5\u001b[0m, \u001b[0m%xmm4\n",
      "\t\u001b[96m\u001b[1mvsubsd\u001b[22m\u001b[39m\t\u001b[0m%xmm4\u001b[0m, \u001b[0m%xmm5\u001b[0m, \u001b[0m%xmm7\n",
      "\t\u001b[96m\u001b[1mvsubsd\u001b[22m\u001b[39m\t\u001b[0m%xmm4\u001b[0m, \u001b[0m%xmm2\u001b[0m, \u001b[0m%xmm2\n",
      "\t\u001b[96m\u001b[1mvsubsd\u001b[22m\u001b[39m\t\u001b[0m%xmm7\u001b[0m, \u001b[0m%xmm8\u001b[0m, \u001b[0m%xmm4\n",
      "\t\u001b[96m\u001b[1mvaddsd\u001b[22m\u001b[39m\t\u001b[0m%xmm4\u001b[0m, \u001b[0m%xmm2\u001b[0m, \u001b[0m%xmm2\n",
      "\t\u001b[96m\u001b[1mvaddsd\u001b[22m\u001b[39m\t\u001b[0m%xmm2\u001b[0m, \u001b[0m%xmm14\u001b[0m, \u001b[0m%xmm2\n",
      "\t\u001b[96m\u001b[1mvmovsd\u001b[22m\u001b[39m\t\u001b[33m-72\u001b[39m\u001b[33m(\u001b[39m\u001b[0m%rsp\u001b[33m)\u001b[39m\u001b[0m, \u001b[0m%xmm1                \u001b[90m# xmm1 = mem[0],zero\u001b[39m\n",
      "\t\u001b[96m\u001b[1mvaddsd\u001b[22m\u001b[39m\t\u001b[0m%xmm1\u001b[0m, \u001b[0m%xmm9\u001b[0m, \u001b[0m%xmm0\n",
      "\t\u001b[96m\u001b[1mvaddsd\u001b[22m\u001b[39m\t\u001b[0m%xmm2\u001b[0m, \u001b[0m%xmm5\u001b[0m, \u001b[0m%xmm4\n",
      "\t\u001b[96m\u001b[1mvsubsd\u001b[22m\u001b[39m\t\u001b[0m%xmm9\u001b[0m, \u001b[0m%xmm0\u001b[0m, \u001b[0m%xmm7\n",
      "\t\u001b[96m\u001b[1mvsubsd\u001b[22m\u001b[39m\t\u001b[0m%xmm7\u001b[0m, \u001b[0m%xmm0\u001b[0m, \u001b[0m%xmm6\n",
      "\t\u001b[96m\u001b[1mvsubsd\u001b[22m\u001b[39m\t\u001b[0m%xmm6\u001b[0m, \u001b[0m%xmm9\u001b[0m, \u001b[0m%xmm6\n",
      "\t\u001b[96m\u001b[1mvsubsd\u001b[22m\u001b[39m\t\u001b[0m%xmm5\u001b[0m, \u001b[0m%xmm4\u001b[0m, \u001b[0m%xmm15\n",
      "\t\u001b[96m\u001b[1mvsubsd\u001b[22m\u001b[39m\t\u001b[0m%xmm7\u001b[0m, \u001b[0m%xmm1\u001b[0m, \u001b[0m%xmm5\n",
      "\t\u001b[96m\u001b[1mvaddsd\u001b[22m\u001b[39m\t\u001b[0m%xmm6\u001b[0m, \u001b[0m%xmm5\u001b[0m, \u001b[0m%xmm6\n",
      "\t\u001b[96m\u001b[1mvaddsd\u001b[22m\u001b[39m\t\u001b[0m%xmm6\u001b[0m, \u001b[0m%xmm8\u001b[0m, \u001b[0m%xmm7\n",
      "\t\u001b[96m\u001b[1mvaddsd\u001b[22m\u001b[39m\t\u001b[0m%xmm4\u001b[0m, \u001b[0m%xmm3\u001b[0m, \u001b[0m%xmm5\n",
      "\t\u001b[96m\u001b[1mvsubsd\u001b[22m\u001b[39m\t\u001b[0m%xmm8\u001b[0m, \u001b[0m%xmm7\u001b[0m, \u001b[0m%xmm1\n",
      "\t\u001b[96m\u001b[1mvsubsd\u001b[22m\u001b[39m\t\u001b[0m%xmm1\u001b[0m, \u001b[0m%xmm7\u001b[0m, \u001b[0m%xmm11\n",
      "\t\u001b[96m\u001b[1mvsubsd\u001b[22m\u001b[39m\t\u001b[0m%xmm11\u001b[0m, \u001b[0m%xmm8\u001b[0m, \u001b[0m%xmm11\n",
      "\t\u001b[96m\u001b[1mvsubsd\u001b[22m\u001b[39m\t\u001b[0m%xmm15\u001b[0m, \u001b[0m%xmm2\u001b[0m, \u001b[0m%xmm2\n",
      "\t\u001b[96m\u001b[1mvmovsd\u001b[22m\u001b[39m\t\u001b[0m%xmm2\u001b[0m, \u001b[33m-48\u001b[39m\u001b[33m(\u001b[39m\u001b[0m%rsp\u001b[33m)\u001b[39m\n",
      "\t\u001b[96m\u001b[1mvsubsd\u001b[22m\u001b[39m\t\u001b[0m%xmm1\u001b[0m, \u001b[0m%xmm6\u001b[0m, \u001b[0m%xmm1\n",
      "\t\u001b[96m\u001b[1mvaddsd\u001b[22m\u001b[39m\t\u001b[0m%xmm1\u001b[0m, \u001b[0m%xmm11\u001b[0m, \u001b[0m%xmm1\n",
      "\t\u001b[96m\u001b[1mvaddsd\u001b[22m\u001b[39m\t\u001b[0m%xmm1\u001b[0m, \u001b[0m%xmm14\u001b[0m, \u001b[0m%xmm1\n",
      "\t\u001b[96m\u001b[1mvsubsd\u001b[22m\u001b[39m\t\u001b[0m%xmm3\u001b[0m, \u001b[0m%xmm5\u001b[0m, \u001b[0m%xmm15\n",
      "\t\u001b[96m\u001b[1mvaddsd\u001b[22m\u001b[39m\t\u001b[0m%xmm1\u001b[0m, \u001b[0m%xmm7\u001b[0m, \u001b[0m%xmm6\n",
      "\t\u001b[96m\u001b[1mvsubsd\u001b[22m\u001b[39m\t\u001b[0m%xmm7\u001b[0m, \u001b[0m%xmm6\u001b[0m, \u001b[0m%xmm11\n",
      "\t\u001b[96m\u001b[1mvaddsd\u001b[22m\u001b[39m\t\u001b[0m%xmm6\u001b[0m, \u001b[0m%xmm0\u001b[0m, \u001b[0m%xmm7\n",
      "\t\u001b[96m\u001b[1mvsubsd\u001b[22m\u001b[39m\t\u001b[0m%xmm0\u001b[0m, \u001b[0m%xmm7\u001b[0m, \u001b[0m%xmm10\n",
      "\t\u001b[96m\u001b[1mvmovsd\u001b[22m\u001b[39m\t\u001b[33m-80\u001b[39m\u001b[33m(\u001b[39m\u001b[0m%rsp\u001b[33m)\u001b[39m\u001b[0m, \u001b[0m%xmm2                \u001b[90m# xmm2 = mem[0],zero\u001b[39m\n",
      "\t\u001b[96m\u001b[1mvaddsd\u001b[22m\u001b[39m\t\u001b[0m%xmm2\u001b[0m, \u001b[0m%xmm9\u001b[0m, \u001b[0m%xmm0\n",
      "\t\u001b[96m\u001b[1mvsubsd\u001b[22m\u001b[39m\t\u001b[0m%xmm9\u001b[0m, \u001b[0m%xmm0\u001b[0m, \u001b[0m%xmm12\n",
      "\t\u001b[96m\u001b[1mvsubsd\u001b[22m\u001b[39m\t\u001b[0m%xmm12\u001b[0m, \u001b[0m%xmm0\u001b[0m, \u001b[0m%xmm13\n",
      "\t\u001b[96m\u001b[1mvsubsd\u001b[22m\u001b[39m\t\u001b[0m%xmm13\u001b[0m, \u001b[0m%xmm9\u001b[0m, \u001b[0m%xmm13\n",
      "\t\u001b[96m\u001b[1mvsubsd\u001b[22m\u001b[39m\t\u001b[0m%xmm12\u001b[0m, \u001b[0m%xmm2\u001b[0m, \u001b[0m%xmm3\n",
      "\t\u001b[96m\u001b[1mvaddsd\u001b[22m\u001b[39m\t\u001b[0m%xmm3\u001b[0m, \u001b[0m%xmm13\u001b[0m, \u001b[0m%xmm12\n",
      "\t\u001b[96m\u001b[1mvaddsd\u001b[22m\u001b[39m\t\u001b[0m%xmm12\u001b[0m, \u001b[0m%xmm8\u001b[0m, \u001b[0m%xmm3\n",
      "\t\u001b[96m\u001b[1mvsubsd\u001b[22m\u001b[39m\t\u001b[0m%xmm8\u001b[0m, \u001b[0m%xmm3\u001b[0m, \u001b[0m%xmm13\n",
      "\t\u001b[96m\u001b[1mvsubsd\u001b[22m\u001b[39m\t\u001b[0m%xmm13\u001b[0m, \u001b[0m%xmm12\u001b[0m, \u001b[0m%xmm12\n",
      "\t\u001b[96m\u001b[1mvsubsd\u001b[22m\u001b[39m\t\u001b[0m%xmm13\u001b[0m, \u001b[0m%xmm3\u001b[0m, \u001b[0m%xmm2\n",
      "\t\u001b[96m\u001b[1mvsubsd\u001b[22m\u001b[39m\t\u001b[0m%xmm2\u001b[0m, \u001b[0m%xmm8\u001b[0m, \u001b[0m%xmm2\n",
      "\t\u001b[96m\u001b[1mvsubsd\u001b[22m\u001b[39m\t\u001b[0m%xmm11\u001b[0m, \u001b[0m%xmm1\u001b[0m, \u001b[0m%xmm1\n",
      "\t\u001b[96m\u001b[1mvmovsd\u001b[22m\u001b[39m\t\u001b[0m%xmm1\u001b[0m, \u001b[33m-56\u001b[39m\u001b[33m(\u001b[39m\u001b[0m%rsp\u001b[33m)\u001b[39m\n",
      "\t\u001b[96m\u001b[1mvaddsd\u001b[22m\u001b[39m\t\u001b[0m%xmm2\u001b[0m, \u001b[0m%xmm12\u001b[0m, \u001b[0m%xmm2\n",
      "\t\u001b[96m\u001b[1mvaddsd\u001b[22m\u001b[39m\t\u001b[0m%xmm2\u001b[0m, \u001b[0m%xmm14\u001b[0m, \u001b[0m%xmm2\n",
      "\t\u001b[96m\u001b[1mvaddsd\u001b[22m\u001b[39m\t\u001b[0m%xmm2\u001b[0m, \u001b[0m%xmm3\u001b[0m, \u001b[0m%xmm1\n",
      "\t\u001b[96m\u001b[1mvsubsd\u001b[22m\u001b[39m\t\u001b[0m%xmm15\u001b[0m, \u001b[0m%xmm4\u001b[0m, \u001b[0m%xmm13\n",
      "\t\u001b[96m\u001b[1mvsubsd\u001b[22m\u001b[39m\t\u001b[0m%xmm3\u001b[0m, \u001b[0m%xmm1\u001b[0m, \u001b[0m%xmm3\n",
      "\t\u001b[96m\u001b[1mvsubsd\u001b[22m\u001b[39m\t\u001b[0m%xmm3\u001b[0m, \u001b[0m%xmm2\u001b[0m, \u001b[0m%xmm12\n",
      "\t\u001b[96m\u001b[1mvaddsd\u001b[22m\u001b[39m\t\u001b[0m%xmm1\u001b[0m, \u001b[0m%xmm0\u001b[0m, \u001b[0m%xmm3\n",
      "\t\u001b[96m\u001b[1mvsubsd\u001b[22m\u001b[39m\t\u001b[0m%xmm10\u001b[0m, \u001b[0m%xmm6\u001b[0m, \u001b[0m%xmm11\n",
      "\t\u001b[96m\u001b[1mvmovsd\u001b[22m\u001b[39m\t\u001b[33m-88\u001b[39m\u001b[33m(\u001b[39m\u001b[0m%rsp\u001b[33m)\u001b[39m\u001b[0m, \u001b[0m%xmm6                \u001b[90m# xmm6 = mem[0],zero\u001b[39m\n",
      "\t\u001b[96m\u001b[1mvmovsd\u001b[22m\u001b[39m\t\u001b[0m%xmm9\u001b[0m, \u001b[33m-32\u001b[39m\u001b[33m(\u001b[39m\u001b[0m%rsp\u001b[33m)\u001b[39m\n",
      "\t\u001b[96m\u001b[1mvaddsd\u001b[22m\u001b[39m\t\u001b[0m%xmm6\u001b[0m, \u001b[0m%xmm9\u001b[0m, \u001b[0m%xmm2\n",
      "\t\u001b[96m\u001b[1mvsubsd\u001b[22m\u001b[39m\t\u001b[0m%xmm9\u001b[0m, \u001b[0m%xmm2\u001b[0m, \u001b[0m%xmm4\n",
      "\t\u001b[96m\u001b[1mvsubsd\u001b[22m\u001b[39m\t\u001b[0m%xmm4\u001b[0m, \u001b[0m%xmm2\u001b[0m, \u001b[0m%xmm10\n",
      "\t\u001b[96m\u001b[1mvsubsd\u001b[22m\u001b[39m\t\u001b[0m%xmm0\u001b[0m, \u001b[0m%xmm3\u001b[0m, \u001b[0m%xmm15\n",
      "\t\u001b[96m\u001b[1mvsubsd\u001b[22m\u001b[39m\t\u001b[0m%xmm10\u001b[0m, \u001b[0m%xmm9\u001b[0m, \u001b[0m%xmm0\n",
      "\t\u001b[96m\u001b[1mvsubsd\u001b[22m\u001b[39m\t\u001b[0m%xmm4\u001b[0m, \u001b[0m%xmm6\u001b[0m, \u001b[0m%xmm4\n",
      "\t\u001b[96m\u001b[1mvaddsd\u001b[22m\u001b[39m\t\u001b[0m%xmm0\u001b[0m, \u001b[0m%xmm4\u001b[0m, \u001b[0m%xmm4\n",
      "\t\u001b[96m\u001b[1mvsubsd\u001b[22m\u001b[39m\t\u001b[0m%xmm15\u001b[0m, \u001b[0m%xmm1\u001b[0m, \u001b[0m%xmm15\n",
      "\t\u001b[96m\u001b[1mvmovsd\u001b[22m\u001b[39m\t\u001b[0m%xmm8\u001b[0m, \u001b[33m-40\u001b[39m\u001b[33m(\u001b[39m\u001b[0m%rsp\u001b[33m)\u001b[39m\n",
      "\t\u001b[96m\u001b[1mvaddsd\u001b[22m\u001b[39m\t\u001b[0m%xmm4\u001b[0m, \u001b[0m%xmm8\u001b[0m, \u001b[0m%xmm1\n",
      "\t\u001b[96m\u001b[1mvsubsd\u001b[22m\u001b[39m\t\u001b[0m%xmm8\u001b[0m, \u001b[0m%xmm1\u001b[0m, \u001b[0m%xmm6\n",
      "\t\u001b[96m\u001b[1mvsubsd\u001b[22m\u001b[39m\t\u001b[0m%xmm6\u001b[0m, \u001b[0m%xmm4\u001b[0m, \u001b[0m%xmm4\n",
      "\t\u001b[96m\u001b[1mvsubsd\u001b[22m\u001b[39m\t\u001b[0m%xmm6\u001b[0m, \u001b[0m%xmm1\u001b[0m, \u001b[0m%xmm6\n",
      "\t\u001b[96m\u001b[1mvsubsd\u001b[22m\u001b[39m\t\u001b[0m%xmm6\u001b[0m, \u001b[0m%xmm8\u001b[0m, \u001b[0m%xmm6\n",
      "\t\u001b[96m\u001b[1mvaddsd\u001b[22m\u001b[39m\t\u001b[0m%xmm6\u001b[0m, \u001b[0m%xmm4\u001b[0m, \u001b[0m%xmm4\n",
      "\t\u001b[96m\u001b[1mvaddsd\u001b[22m\u001b[39m\t\u001b[0m%xmm4\u001b[0m, \u001b[0m%xmm14\u001b[0m, \u001b[0m%xmm4\n",
      "\t\u001b[96m\u001b[1mvaddsd\u001b[22m\u001b[39m\t\u001b[33m-48\u001b[39m\u001b[33m(\u001b[39m\u001b[0m%rsp\u001b[33m)\u001b[39m\u001b[0m, \u001b[0m%xmm13\u001b[0m, \u001b[0m%xmm8\n",
      "\t\u001b[96m\u001b[1mvaddsd\u001b[22m\u001b[39m\t\u001b[0m%xmm4\u001b[0m, \u001b[0m%xmm1\u001b[0m, \u001b[0m%xmm0\n",
      "\t\u001b[96m\u001b[1mvsubsd\u001b[22m\u001b[39m\t\u001b[0m%xmm1\u001b[0m, \u001b[0m%xmm0\u001b[0m, \u001b[0m%xmm1\n",
      "\t\u001b[96m\u001b[1mvsubsd\u001b[22m\u001b[39m\t\u001b[0m%xmm1\u001b[0m, \u001b[0m%xmm4\u001b[0m, \u001b[0m%xmm4\n",
      "\t\u001b[96m\u001b[1mvaddsd\u001b[22m\u001b[39m\t\u001b[33m-56\u001b[39m\u001b[33m(\u001b[39m\u001b[0m%rsp\u001b[33m)\u001b[39m\u001b[0m, \u001b[0m%xmm11\u001b[0m, \u001b[0m%xmm6\n",
      "\t\u001b[96m\u001b[1mvaddsd\u001b[22m\u001b[39m\t\u001b[0m%xmm0\u001b[0m, \u001b[0m%xmm2\u001b[0m, \u001b[0m%xmm9\n",
      "\t\u001b[96m\u001b[1mvsubsd\u001b[22m\u001b[39m\t\u001b[0m%xmm2\u001b[0m, \u001b[0m%xmm9\u001b[0m, \u001b[0m%xmm2\n",
      "\t\u001b[96m\u001b[1mvsubsd\u001b[22m\u001b[39m\t\u001b[0m%xmm2\u001b[0m, \u001b[0m%xmm0\u001b[0m, \u001b[0m%xmm2\n",
      "\t\u001b[96m\u001b[1mvaddsd\u001b[22m\u001b[39m\t\u001b[0m%xmm15\u001b[0m, \u001b[0m%xmm12\u001b[0m, \u001b[0m%xmm11\n",
      "\t\u001b[96m\u001b[1mvaddsd\u001b[22m\u001b[39m\t\u001b[0m%xmm2\u001b[0m, \u001b[0m%xmm4\u001b[0m, \u001b[0m%xmm10\n",
      "\t\u001b[96m\u001b[1mvmulsd\u001b[22m\u001b[39m\t\u001b[0m%xmm7\u001b[0m, \u001b[0m%xmm5\u001b[0m, \u001b[0m%xmm12\n",
      "\t\u001b[96m\u001b[1mvsubsd\u001b[22m\u001b[39m\t\u001b[0m%xmm7\u001b[0m, \u001b[0m%xmm7\u001b[0m, \u001b[0m%xmm4\n",
      "\t\u001b[96m\u001b[1mvmulsd\u001b[22m\u001b[39m\t\u001b[0m%xmm7\u001b[0m, \u001b[0m%xmm8\u001b[0m, \u001b[0m%xmm13\n",
      "\t\u001b[96m\u001b[1mvxorpd\u001b[22m\u001b[39m\t\u001b[0m%xmm15\u001b[0m, \u001b[0m%xmm15\u001b[0m, \u001b[0m%xmm15\n",
      "\t\u001b[96m\u001b[1mvmulsd\u001b[22m\u001b[39m\t\u001b[0m%xmm7\u001b[0m, \u001b[0m%xmm15\u001b[0m, \u001b[0m%xmm2\n",
      "\t\u001b[96m\u001b[1mvaddsd\u001b[22m\u001b[39m\t\u001b[0m%xmm6\u001b[0m, \u001b[0m%xmm2\u001b[0m, \u001b[0m%xmm2\n",
      "\t\u001b[96m\u001b[1mvaddsd\u001b[22m\u001b[39m\t\u001b[0m%xmm2\u001b[0m, \u001b[0m%xmm4\u001b[0m, \u001b[0m%xmm2\n",
      "\t\u001b[96m\u001b[1mvaddsd\u001b[22m\u001b[39m\t\u001b[0m%xmm2\u001b[0m, \u001b[0m%xmm7\u001b[0m, \u001b[0m%xmm4\n",
      "\t\u001b[96m\u001b[1mvsubsd\u001b[22m\u001b[39m\t\u001b[0m%xmm7\u001b[0m, \u001b[0m%xmm4\u001b[0m, \u001b[0m%xmm14\n",
      "\t\u001b[96m\u001b[1mvmulsd\u001b[22m\u001b[39m\t\u001b[0m%xmm6\u001b[0m, \u001b[0m%xmm5\u001b[0m, \u001b[0m%xmm6\n",
      "\t\u001b[96m\u001b[1mvaddsd\u001b[22m\u001b[39m\t\u001b[0m%xmm6\u001b[0m, \u001b[0m%xmm13\u001b[0m, \u001b[0m%xmm13\n",
      "\t\u001b[96m\u001b[1mvfmsub213sd\u001b[22m\u001b[39m\t\u001b[0m%xmm12\u001b[0m, \u001b[0m%xmm5\u001b[0m, \u001b[0m%xmm7    \u001b[90m# xmm7 = (xmm5 * xmm7) - xmm12\u001b[39m\n",
      "\t\u001b[96m\u001b[1mvmulsd\u001b[22m\u001b[39m\t\u001b[0m%xmm5\u001b[0m, \u001b[0m%xmm15\u001b[0m, \u001b[0m%xmm6\n",
      "\t\u001b[96m\u001b[1mvaddsd\u001b[22m\u001b[39m\t\u001b[0m%xmm6\u001b[0m, \u001b[0m%xmm8\u001b[0m, \u001b[0m%xmm6\n",
      "\t\u001b[96m\u001b[1mvsubsd\u001b[22m\u001b[39m\t\u001b[0m%xmm5\u001b[0m, \u001b[0m%xmm5\u001b[0m, \u001b[0m%xmm0\n",
      "\t\u001b[96m\u001b[1mvsubsd\u001b[22m\u001b[39m\t\u001b[0m%xmm14\u001b[0m, \u001b[0m%xmm2\u001b[0m, \u001b[0m%xmm2\n",
      "\t\u001b[96m\u001b[1mvaddsd\u001b[22m\u001b[39m\t\u001b[0m%xmm6\u001b[0m, \u001b[0m%xmm0\u001b[0m, \u001b[0m%xmm0\n",
      "\t\u001b[96m\u001b[1mvaddsd\u001b[22m\u001b[39m\t\u001b[0m%xmm0\u001b[0m, \u001b[0m%xmm5\u001b[0m, \u001b[0m%xmm6\n",
      "\t\u001b[96m\u001b[1mvsubsd\u001b[22m\u001b[39m\t\u001b[0m%xmm5\u001b[0m, \u001b[0m%xmm6\u001b[0m, \u001b[0m%xmm5\n",
      "\t\u001b[96m\u001b[1mvaddsd\u001b[22m\u001b[39m\t\u001b[0m%xmm7\u001b[0m, \u001b[0m%xmm13\u001b[0m, \u001b[0m%xmm13\n",
      "\t\u001b[96m\u001b[1mvsubsd\u001b[22m\u001b[39m\t\u001b[0m%xmm5\u001b[0m, \u001b[0m%xmm0\u001b[0m, \u001b[0m%xmm0\n",
      "\t\u001b[96m\u001b[1mvaddsd\u001b[22m\u001b[39m\t\u001b[0m%xmm6\u001b[0m, \u001b[0m%xmm4\u001b[0m, \u001b[0m%xmm5\n",
      "\t\u001b[96m\u001b[1mvsubsd\u001b[22m\u001b[39m\t\u001b[0m%xmm4\u001b[0m, \u001b[0m%xmm5\u001b[0m, \u001b[0m%xmm7\n",
      "\t\u001b[96m\u001b[1mvsubsd\u001b[22m\u001b[39m\t\u001b[0m%xmm7\u001b[0m, \u001b[0m%xmm5\u001b[0m, \u001b[0m%xmm1\n",
      "\t\u001b[96m\u001b[1mvsubsd\u001b[22m\u001b[39m\t\u001b[0m%xmm1\u001b[0m, \u001b[0m%xmm4\u001b[0m, \u001b[0m%xmm1\n",
      "\t\u001b[96m\u001b[1mvsubsd\u001b[22m\u001b[39m\t\u001b[0m%xmm7\u001b[0m, \u001b[0m%xmm6\u001b[0m, \u001b[0m%xmm4\n",
      "\t\u001b[96m\u001b[1mvaddsd\u001b[22m\u001b[39m\t\u001b[0m%xmm1\u001b[0m, \u001b[0m%xmm4\u001b[0m, \u001b[0m%xmm1\n",
      "\t\u001b[96m\u001b[1mvaddsd\u001b[22m\u001b[39m\t\u001b[0m%xmm0\u001b[0m, \u001b[0m%xmm2\u001b[0m, \u001b[0m%xmm4\n",
      "\t\u001b[96m\u001b[1mvsubsd\u001b[22m\u001b[39m\t\u001b[0m%xmm2\u001b[0m, \u001b[0m%xmm4\u001b[0m, \u001b[0m%xmm6\n",
      "\t\u001b[96m\u001b[1mvsubsd\u001b[22m\u001b[39m\t\u001b[0m%xmm6\u001b[0m, \u001b[0m%xmm4\u001b[0m, \u001b[0m%xmm7\n",
      "\t\u001b[96m\u001b[1mvsubsd\u001b[22m\u001b[39m\t\u001b[0m%xmm6\u001b[0m, \u001b[0m%xmm0\u001b[0m, \u001b[0m%xmm0\n",
      "\t\u001b[96m\u001b[1mvsubsd\u001b[22m\u001b[39m\t\u001b[0m%xmm7\u001b[0m, \u001b[0m%xmm2\u001b[0m, \u001b[0m%xmm2\n",
      "\t\u001b[96m\u001b[1mvaddsd\u001b[22m\u001b[39m\t\u001b[0m%xmm2\u001b[0m, \u001b[0m%xmm0\u001b[0m, \u001b[0m%xmm0\n",
      "\t\u001b[96m\u001b[1mvaddsd\u001b[22m\u001b[39m\t\u001b[0m%xmm1\u001b[0m, \u001b[0m%xmm4\u001b[0m, \u001b[0m%xmm2\n",
      "\t\u001b[96m\u001b[1mvsubsd\u001b[22m\u001b[39m\t\u001b[0m%xmm4\u001b[0m, \u001b[0m%xmm2\u001b[0m, \u001b[0m%xmm6\n",
      "\t\u001b[96m\u001b[1mvsubsd\u001b[22m\u001b[39m\t\u001b[0m%xmm6\u001b[0m, \u001b[0m%xmm2\u001b[0m, \u001b[0m%xmm7\n",
      "\t\u001b[96m\u001b[1mvsubsd\u001b[22m\u001b[39m\t\u001b[0m%xmm7\u001b[0m, \u001b[0m%xmm4\u001b[0m, \u001b[0m%xmm4\n",
      "\t\u001b[96m\u001b[1mvsubsd\u001b[22m\u001b[39m\t\u001b[0m%xmm6\u001b[0m, \u001b[0m%xmm1\u001b[0m, \u001b[0m%xmm1\n",
      "\t\u001b[96m\u001b[1mvaddsd\u001b[22m\u001b[39m\t\u001b[0m%xmm4\u001b[0m, \u001b[0m%xmm1\u001b[0m, \u001b[0m%xmm1\n",
      "\t\u001b[96m\u001b[1mvaddsd\u001b[22m\u001b[39m\t\u001b[0m%xmm13\u001b[0m, \u001b[0m%xmm12\u001b[0m, \u001b[0m%xmm8\n",
      "\t\u001b[96m\u001b[1mvsubsd\u001b[22m\u001b[39m\t\u001b[0m%xmm12\u001b[0m, \u001b[0m%xmm8\u001b[0m, \u001b[0m%xmm4\n",
      "\t\u001b[96m\u001b[1mvaddsd\u001b[22m\u001b[39m\t\u001b[0m%xmm1\u001b[0m, \u001b[0m%xmm0\u001b[0m, \u001b[0m%xmm0\n",
      "\t\u001b[96m\u001b[1mvaddsd\u001b[22m\u001b[39m\t\u001b[0m%xmm0\u001b[0m, \u001b[0m%xmm2\u001b[0m, \u001b[0m%xmm1\n",
      "\t\u001b[96m\u001b[1mvsubsd\u001b[22m\u001b[39m\t\u001b[0m%xmm2\u001b[0m, \u001b[0m%xmm1\u001b[0m, \u001b[0m%xmm2\n",
      "\t\u001b[96m\u001b[1mvsubsd\u001b[22m\u001b[39m\t\u001b[0m%xmm2\u001b[0m, \u001b[0m%xmm0\u001b[0m, \u001b[0m%xmm0\n",
      "\t\u001b[96m\u001b[1mvaddsd\u001b[22m\u001b[39m\t\u001b[0m%xmm1\u001b[0m, \u001b[0m%xmm5\u001b[0m, \u001b[0m%xmm2\n",
      "\t\u001b[96m\u001b[1mvsubsd\u001b[22m\u001b[39m\t\u001b[0m%xmm5\u001b[0m, \u001b[0m%xmm2\u001b[0m, \u001b[0m%xmm5\n",
      "\t\u001b[96m\u001b[1mvsubsd\u001b[22m\u001b[39m\t\u001b[0m%xmm5\u001b[0m, \u001b[0m%xmm1\u001b[0m, \u001b[0m%xmm1\n",
      "\t\u001b[96m\u001b[1mvaddsd\u001b[22m\u001b[39m\t\u001b[0m%xmm1\u001b[0m, \u001b[0m%xmm0\u001b[0m, \u001b[0m%xmm0\n",
      "\t\u001b[96m\u001b[1mvmulsd\u001b[22m\u001b[39m\t\u001b[0m%xmm3\u001b[0m, \u001b[0m%xmm8\u001b[0m, \u001b[0m%xmm1\n",
      "\t\u001b[96m\u001b[1mvmulsd\u001b[22m\u001b[39m\t\u001b[0m%xmm8\u001b[0m, \u001b[0m%xmm11\u001b[0m, \u001b[0m%xmm5\n",
      "\t\u001b[96m\u001b[1mvsubsd\u001b[22m\u001b[39m\t\u001b[0m%xmm4\u001b[0m, \u001b[0m%xmm13\u001b[0m, \u001b[0m%xmm4\n",
      "\t\u001b[96m\u001b[1mvmulsd\u001b[22m\u001b[39m\t\u001b[0m%xmm4\u001b[0m, \u001b[0m%xmm3\u001b[0m, \u001b[0m%xmm6\n",
      "\t\u001b[96m\u001b[1mvaddsd\u001b[22m\u001b[39m\t\u001b[0m%xmm6\u001b[0m, \u001b[0m%xmm5\u001b[0m, \u001b[0m%xmm5\n",
      "\t\u001b[96m\u001b[1mvmovapd\u001b[22m\u001b[39m\t\u001b[0m%xmm3\u001b[0m, \u001b[0m%xmm6\n",
      "\t\u001b[96m\u001b[1mvfmsub213sd\u001b[22m\u001b[39m\t\u001b[0m%xmm1\u001b[0m, \u001b[0m%xmm8\u001b[0m, \u001b[0m%xmm6     \u001b[90m# xmm6 = (xmm8 * xmm6) - xmm1\u001b[39m\n",
      "\t\u001b[96m\u001b[1mvaddsd\u001b[22m\u001b[39m\t\u001b[0m%xmm6\u001b[0m, \u001b[0m%xmm5\u001b[0m, \u001b[0m%xmm6\n",
      "\t\u001b[96m\u001b[1mvaddsd\u001b[22m\u001b[39m\t\u001b[0m%xmm6\u001b[0m, \u001b[0m%xmm1\u001b[0m, \u001b[0m%xmm5\n",
      "\t\u001b[96m\u001b[1mvsubsd\u001b[22m\u001b[39m\t\u001b[0m%xmm1\u001b[0m, \u001b[0m%xmm5\u001b[0m, \u001b[0m%xmm1\n",
      "\t\u001b[96m\u001b[1mvsubsd\u001b[22m\u001b[39m\t\u001b[0m%xmm1\u001b[0m, \u001b[0m%xmm6\u001b[0m, \u001b[0m%xmm12\n",
      "\t\u001b[96m\u001b[1mvmulsd\u001b[22m\u001b[39m\t\u001b[0m%xmm2\u001b[0m, \u001b[0m%xmm3\u001b[0m, \u001b[0m%xmm1\n",
      "\t\u001b[96m\u001b[1mvmulsd\u001b[22m\u001b[39m\t\u001b[0m%xmm0\u001b[0m, \u001b[0m%xmm3\u001b[0m, \u001b[0m%xmm0\n",
      "\t\u001b[96m\u001b[1mvfmsub213sd\u001b[22m\u001b[39m\t\u001b[0m%xmm1\u001b[0m, \u001b[0m%xmm2\u001b[0m, \u001b[0m%xmm3     \u001b[90m# xmm3 = (xmm2 * xmm3) - xmm1\u001b[39m\n",
      "\t\u001b[96m\u001b[1mvmulsd\u001b[22m\u001b[39m\t\u001b[0m%xmm2\u001b[0m, \u001b[0m%xmm11\u001b[0m, \u001b[0m%xmm2\n",
      "\t\u001b[96m\u001b[1mvaddsd\u001b[22m\u001b[39m\t\u001b[0m%xmm0\u001b[0m, \u001b[0m%xmm2\u001b[0m, \u001b[0m%xmm0\n",
      "\t\u001b[96m\u001b[1mvaddsd\u001b[22m\u001b[39m\t\u001b[0m%xmm3\u001b[0m, \u001b[0m%xmm0\u001b[0m, \u001b[0m%xmm0\n",
      "\t\u001b[96m\u001b[1mvsubsd\u001b[22m\u001b[39m\t\u001b[0m%xmm8\u001b[0m, \u001b[0m%xmm8\u001b[0m, \u001b[0m%xmm2\n",
      "\t\u001b[96m\u001b[1mvmulsd\u001b[22m\u001b[39m\t\u001b[0m%xmm15\u001b[0m, \u001b[0m%xmm8\u001b[0m, \u001b[0m%xmm3\n",
      "\t\u001b[96m\u001b[1mvaddsd\u001b[22m\u001b[39m\t\u001b[0m%xmm0\u001b[0m, \u001b[0m%xmm1\u001b[0m, \u001b[0m%xmm6\n",
      "\t\u001b[96m\u001b[1mvaddsd\u001b[22m\u001b[39m\t\u001b[0m%xmm4\u001b[0m, \u001b[0m%xmm3\u001b[0m, \u001b[0m%xmm3\n",
      "\t\u001b[96m\u001b[1mvaddsd\u001b[22m\u001b[39m\t\u001b[0m%xmm3\u001b[0m, \u001b[0m%xmm2\u001b[0m, \u001b[0m%xmm2\n",
      "\t\u001b[96m\u001b[1mvaddsd\u001b[22m\u001b[39m\t\u001b[0m%xmm2\u001b[0m, \u001b[0m%xmm8\u001b[0m, \u001b[0m%xmm3\n",
      "\t\u001b[96m\u001b[1mvsubsd\u001b[22m\u001b[39m\t\u001b[0m%xmm1\u001b[0m, \u001b[0m%xmm6\u001b[0m, \u001b[0m%xmm1\n",
      "\t\u001b[96m\u001b[1mvsubsd\u001b[22m\u001b[39m\t\u001b[0m%xmm8\u001b[0m, \u001b[0m%xmm3\u001b[0m, \u001b[0m%xmm4\n",
      "\t\u001b[96m\u001b[1mvsubsd\u001b[22m\u001b[39m\t\u001b[0m%xmm4\u001b[0m, \u001b[0m%xmm2\u001b[0m, \u001b[0m%xmm2\n",
      "\t\u001b[96m\u001b[1mvaddsd\u001b[22m\u001b[39m\t\u001b[0m%xmm6\u001b[0m, \u001b[0m%xmm3\u001b[0m, \u001b[0m%xmm4\n",
      "\t\u001b[96m\u001b[1mvsubsd\u001b[22m\u001b[39m\t\u001b[0m%xmm1\u001b[0m, \u001b[0m%xmm0\u001b[0m, \u001b[0m%xmm0\n",
      "\t\u001b[96m\u001b[1mvsubsd\u001b[22m\u001b[39m\t\u001b[0m%xmm6\u001b[0m, \u001b[0m%xmm4\u001b[0m, \u001b[0m%xmm1\n",
      "\t\u001b[96m\u001b[1mvsubsd\u001b[22m\u001b[39m\t\u001b[0m%xmm1\u001b[0m, \u001b[0m%xmm4\u001b[0m, \u001b[0m%xmm7\n",
      "\t\u001b[96m\u001b[1mvsubsd\u001b[22m\u001b[39m\t\u001b[0m%xmm1\u001b[0m, \u001b[0m%xmm3\u001b[0m, \u001b[0m%xmm1\n",
      "\t\u001b[96m\u001b[1mvsubsd\u001b[22m\u001b[39m\t\u001b[0m%xmm7\u001b[0m, \u001b[0m%xmm6\u001b[0m, \u001b[0m%xmm3\n",
      "\t\u001b[96m\u001b[1mvaddsd\u001b[22m\u001b[39m\t\u001b[0m%xmm3\u001b[0m, \u001b[0m%xmm1\u001b[0m, \u001b[0m%xmm1\n",
      "\t\u001b[96m\u001b[1mvaddsd\u001b[22m\u001b[39m\t\u001b[0m%xmm0\u001b[0m, \u001b[0m%xmm2\u001b[0m, \u001b[0m%xmm3\n",
      "\t\u001b[96m\u001b[1mvsubsd\u001b[22m\u001b[39m\t\u001b[0m%xmm0\u001b[0m, \u001b[0m%xmm3\u001b[0m, \u001b[0m%xmm6\n",
      "\t\u001b[96m\u001b[1mvsubsd\u001b[22m\u001b[39m\t\u001b[0m%xmm6\u001b[0m, \u001b[0m%xmm3\u001b[0m, \u001b[0m%xmm7\n",
      "\t\u001b[96m\u001b[1mvsubsd\u001b[22m\u001b[39m\t\u001b[0m%xmm7\u001b[0m, \u001b[0m%xmm0\u001b[0m, \u001b[0m%xmm0\n",
      "\t\u001b[96m\u001b[1mvsubsd\u001b[22m\u001b[39m\t\u001b[0m%xmm6\u001b[0m, \u001b[0m%xmm2\u001b[0m, \u001b[0m%xmm2\n",
      "\t\u001b[96m\u001b[1mvaddsd\u001b[22m\u001b[39m\t\u001b[0m%xmm1\u001b[0m, \u001b[0m%xmm3\u001b[0m, \u001b[0m%xmm6\n",
      "\t\u001b[96m\u001b[1mvaddsd\u001b[22m\u001b[39m\t\u001b[0m%xmm0\u001b[0m, \u001b[0m%xmm2\u001b[0m, \u001b[0m%xmm0\n",
      "\t\u001b[96m\u001b[1mvsubsd\u001b[22m\u001b[39m\t\u001b[0m%xmm3\u001b[0m, \u001b[0m%xmm6\u001b[0m, \u001b[0m%xmm2\n",
      "\t\u001b[96m\u001b[1mvsubsd\u001b[22m\u001b[39m\t\u001b[0m%xmm2\u001b[0m, \u001b[0m%xmm1\u001b[0m, \u001b[0m%xmm1\n",
      "\t\u001b[96m\u001b[1mvsubsd\u001b[22m\u001b[39m\t\u001b[0m%xmm2\u001b[0m, \u001b[0m%xmm6\u001b[0m, \u001b[0m%xmm2\n",
      "\t\u001b[96m\u001b[1mvsubsd\u001b[22m\u001b[39m\t\u001b[0m%xmm2\u001b[0m, \u001b[0m%xmm3\u001b[0m, \u001b[0m%xmm2\n",
      "\t\u001b[96m\u001b[1mvaddsd\u001b[22m\u001b[39m\t\u001b[0m%xmm2\u001b[0m, \u001b[0m%xmm1\u001b[0m, \u001b[0m%xmm1\n",
      "\t\u001b[96m\u001b[1mvaddsd\u001b[22m\u001b[39m\t\u001b[0m%xmm1\u001b[0m, \u001b[0m%xmm0\u001b[0m, \u001b[0m%xmm0\n",
      "\t\u001b[96m\u001b[1mvaddsd\u001b[22m\u001b[39m\t\u001b[0m%xmm0\u001b[0m, \u001b[0m%xmm6\u001b[0m, \u001b[0m%xmm1\n",
      "\t\u001b[96m\u001b[1mvsubsd\u001b[22m\u001b[39m\t\u001b[0m%xmm6\u001b[0m, \u001b[0m%xmm1\u001b[0m, \u001b[0m%xmm2\n",
      "\t\u001b[96m\u001b[1mvsubsd\u001b[22m\u001b[39m\t\u001b[0m%xmm2\u001b[0m, \u001b[0m%xmm0\u001b[0m, \u001b[0m%xmm0\n",
      "\t\u001b[96m\u001b[1mvaddsd\u001b[22m\u001b[39m\t\u001b[0m%xmm1\u001b[0m, \u001b[0m%xmm4\u001b[0m, \u001b[0m%xmm2\n",
      "\t\u001b[96m\u001b[1mvsubsd\u001b[22m\u001b[39m\t\u001b[0m%xmm4\u001b[0m, \u001b[0m%xmm2\u001b[0m, \u001b[0m%xmm3\n",
      "\t\u001b[96m\u001b[1mvsubsd\u001b[22m\u001b[39m\t\u001b[0m%xmm3\u001b[0m, \u001b[0m%xmm1\u001b[0m, \u001b[0m%xmm1\n",
      "\t\u001b[96m\u001b[1mvaddsd\u001b[22m\u001b[39m\t\u001b[0m%xmm1\u001b[0m, \u001b[0m%xmm0\u001b[0m, \u001b[0m%xmm0\n",
      "\t\u001b[96m\u001b[1mvmulsd\u001b[22m\u001b[39m\t\u001b[0m%xmm5\u001b[0m, \u001b[0m%xmm9\u001b[0m, \u001b[0m%xmm1\n",
      "\t\u001b[96m\u001b[1mvmovapd\u001b[22m\u001b[39m\t\u001b[0m%xmm9\u001b[0m, \u001b[0m%xmm3\n",
      "\t\u001b[96m\u001b[1mvmulsd\u001b[22m\u001b[39m\t\u001b[0m%xmm5\u001b[0m, \u001b[0m%xmm10\u001b[0m, \u001b[0m%xmm4\n",
      "\t\u001b[96m\u001b[1mvfmsub213sd\u001b[22m\u001b[39m\t\u001b[0m%xmm1\u001b[0m, \u001b[0m%xmm5\u001b[0m, \u001b[0m%xmm3     \u001b[90m# xmm3 = (xmm5 * xmm3) - xmm1\u001b[39m\n",
      "\t\u001b[96m\u001b[1mvmulsd\u001b[22m\u001b[39m\t\u001b[0m%xmm12\u001b[0m, \u001b[0m%xmm9\u001b[0m, \u001b[0m%xmm6\n",
      "\t\u001b[96m\u001b[1mvaddsd\u001b[22m\u001b[39m\t\u001b[0m%xmm6\u001b[0m, \u001b[0m%xmm4\u001b[0m, \u001b[0m%xmm4\n",
      "\t\u001b[96m\u001b[1mvaddsd\u001b[22m\u001b[39m\t\u001b[0m%xmm3\u001b[0m, \u001b[0m%xmm4\u001b[0m, \u001b[0m%xmm3\n",
      "\t\u001b[96m\u001b[1mvaddsd\u001b[22m\u001b[39m\t\u001b[0m%xmm3\u001b[0m, \u001b[0m%xmm1\u001b[0m, \u001b[0m%xmm4\n",
      "\t\u001b[96m\u001b[1mvsubsd\u001b[22m\u001b[39m\t\u001b[0m%xmm1\u001b[0m, \u001b[0m%xmm4\u001b[0m, \u001b[0m%xmm1\n",
      "\t\u001b[96m\u001b[1mvsubsd\u001b[22m\u001b[39m\t\u001b[0m%xmm1\u001b[0m, \u001b[0m%xmm3\u001b[0m, \u001b[0m%xmm8\n",
      "\t\u001b[96m\u001b[1mvmulsd\u001b[22m\u001b[39m\t\u001b[0m%xmm2\u001b[0m, \u001b[0m%xmm9\u001b[0m, \u001b[0m%xmm1\n",
      "\t\u001b[96m\u001b[1mvmulsd\u001b[22m\u001b[39m\t\u001b[0m%xmm0\u001b[0m, \u001b[0m%xmm9\u001b[0m, \u001b[0m%xmm0\n",
      "\t\u001b[96m\u001b[1mvfmsub213sd\u001b[22m\u001b[39m\t\u001b[0m%xmm1\u001b[0m, \u001b[0m%xmm2\u001b[0m, \u001b[0m%xmm9     \u001b[90m# xmm9 = (xmm2 * xmm9) - xmm1\u001b[39m\n",
      "\t\u001b[96m\u001b[1mvmulsd\u001b[22m\u001b[39m\t\u001b[0m%xmm2\u001b[0m, \u001b[0m%xmm10\u001b[0m, \u001b[0m%xmm2\n",
      "\t\u001b[96m\u001b[1mvaddsd\u001b[22m\u001b[39m\t\u001b[0m%xmm0\u001b[0m, \u001b[0m%xmm2\u001b[0m, \u001b[0m%xmm0\n",
      "\t\u001b[96m\u001b[1mvaddsd\u001b[22m\u001b[39m\t\u001b[0m%xmm0\u001b[0m, \u001b[0m%xmm9\u001b[0m, \u001b[0m%xmm0\n",
      "\t\u001b[96m\u001b[1mvaddsd\u001b[22m\u001b[39m\t\u001b[0m%xmm0\u001b[0m, \u001b[0m%xmm1\u001b[0m, \u001b[0m%xmm2\n",
      "\t\u001b[96m\u001b[1mvsubsd\u001b[22m\u001b[39m\t\u001b[0m%xmm5\u001b[0m, \u001b[0m%xmm5\u001b[0m, \u001b[0m%xmm6\n",
      "\t\u001b[96m\u001b[1mvmulsd\u001b[22m\u001b[39m\t\u001b[0m%xmm5\u001b[0m, \u001b[0m%xmm15\u001b[0m, \u001b[0m%xmm7\n",
      "\t\u001b[96m\u001b[1mvsubsd\u001b[22m\u001b[39m\t\u001b[0m%xmm1\u001b[0m, \u001b[0m%xmm2\u001b[0m, \u001b[0m%xmm1\n",
      "\t\u001b[96m\u001b[1mvaddsd\u001b[22m\u001b[39m\t\u001b[0m%xmm7\u001b[0m, \u001b[0m%xmm12\u001b[0m, \u001b[0m%xmm7\n",
      "\t\u001b[96m\u001b[1mvaddsd\u001b[22m\u001b[39m\t\u001b[0m%xmm7\u001b[0m, \u001b[0m%xmm6\u001b[0m, \u001b[0m%xmm6\n",
      "\t\u001b[96m\u001b[1mvaddsd\u001b[22m\u001b[39m\t\u001b[0m%xmm6\u001b[0m, \u001b[0m%xmm5\u001b[0m, \u001b[0m%xmm7\n",
      "\t\u001b[96m\u001b[1mvsubsd\u001b[22m\u001b[39m\t\u001b[0m%xmm1\u001b[0m, \u001b[0m%xmm0\u001b[0m, \u001b[0m%xmm0\n",
      "\t\u001b[96m\u001b[1mvsubsd\u001b[22m\u001b[39m\t\u001b[0m%xmm5\u001b[0m, \u001b[0m%xmm7\u001b[0m, \u001b[0m%xmm1\n",
      "\t\u001b[96m\u001b[1mvsubsd\u001b[22m\u001b[39m\t\u001b[0m%xmm1\u001b[0m, \u001b[0m%xmm6\u001b[0m, \u001b[0m%xmm5\n",
      "\t\u001b[96m\u001b[1mvaddsd\u001b[22m\u001b[39m\t\u001b[0m%xmm2\u001b[0m, \u001b[0m%xmm7\u001b[0m, \u001b[0m%xmm1\n",
      "\t\u001b[96m\u001b[1mvsubsd\u001b[22m\u001b[39m\t\u001b[0m%xmm2\u001b[0m, \u001b[0m%xmm1\u001b[0m, \u001b[0m%xmm6\n",
      "\t\u001b[96m\u001b[1mvsubsd\u001b[22m\u001b[39m\t\u001b[0m%xmm6\u001b[0m, \u001b[0m%xmm1\u001b[0m, \u001b[0m%xmm3\n",
      "\t\u001b[96m\u001b[1mvsubsd\u001b[22m\u001b[39m\t\u001b[0m%xmm3\u001b[0m, \u001b[0m%xmm2\u001b[0m, \u001b[0m%xmm2\n",
      "\t\u001b[96m\u001b[1mvsubsd\u001b[22m\u001b[39m\t\u001b[0m%xmm6\u001b[0m, \u001b[0m%xmm7\u001b[0m, \u001b[0m%xmm3\n",
      "\t\u001b[96m\u001b[1mvaddsd\u001b[22m\u001b[39m\t\u001b[0m%xmm2\u001b[0m, \u001b[0m%xmm3\u001b[0m, \u001b[0m%xmm2\n",
      "\t\u001b[96m\u001b[1mvaddsd\u001b[22m\u001b[39m\t\u001b[0m%xmm0\u001b[0m, \u001b[0m%xmm5\u001b[0m, \u001b[0m%xmm3\n",
      "\t\u001b[96m\u001b[1mvsubsd\u001b[22m\u001b[39m\t\u001b[0m%xmm0\u001b[0m, \u001b[0m%xmm3\u001b[0m, \u001b[0m%xmm6\n",
      "\t\u001b[96m\u001b[1mvsubsd\u001b[22m\u001b[39m\t\u001b[0m%xmm6\u001b[0m, \u001b[0m%xmm3\u001b[0m, \u001b[0m%xmm7\n",
      "\t\u001b[96m\u001b[1mvsubsd\u001b[22m\u001b[39m\t\u001b[0m%xmm7\u001b[0m, \u001b[0m%xmm0\u001b[0m, \u001b[0m%xmm0\n",
      "\t\u001b[96m\u001b[1mvsubsd\u001b[22m\u001b[39m\t\u001b[0m%xmm6\u001b[0m, \u001b[0m%xmm5\u001b[0m, \u001b[0m%xmm5\n",
      "\t\u001b[96m\u001b[1mvaddsd\u001b[22m\u001b[39m\t\u001b[0m%xmm0\u001b[0m, \u001b[0m%xmm5\u001b[0m, \u001b[0m%xmm0\n",
      "\t\u001b[96m\u001b[1mvaddsd\u001b[22m\u001b[39m\t\u001b[0m%xmm2\u001b[0m, \u001b[0m%xmm3\u001b[0m, \u001b[0m%xmm5\n",
      "\t\u001b[96m\u001b[1mvsubsd\u001b[22m\u001b[39m\t\u001b[0m%xmm3\u001b[0m, \u001b[0m%xmm5\u001b[0m, \u001b[0m%xmm6\n",
      "\t\u001b[96m\u001b[1mvsubsd\u001b[22m\u001b[39m\t\u001b[0m%xmm6\u001b[0m, \u001b[0m%xmm5\u001b[0m, \u001b[0m%xmm7\n",
      "\t\u001b[96m\u001b[1mvsubsd\u001b[22m\u001b[39m\t\u001b[0m%xmm7\u001b[0m, \u001b[0m%xmm3\u001b[0m, \u001b[0m%xmm3\n",
      "\t\u001b[96m\u001b[1mvsubsd\u001b[22m\u001b[39m\t\u001b[0m%xmm6\u001b[0m, \u001b[0m%xmm2\u001b[0m, \u001b[0m%xmm2\n",
      "\t\u001b[96m\u001b[1mvaddsd\u001b[22m\u001b[39m\t\u001b[0m%xmm3\u001b[0m, \u001b[0m%xmm2\u001b[0m, \u001b[0m%xmm2\n",
      "\t\u001b[96m\u001b[1mvaddsd\u001b[22m\u001b[39m\t\u001b[0m%xmm2\u001b[0m, \u001b[0m%xmm0\u001b[0m, \u001b[0m%xmm9\n",
      "\t\u001b[96m\u001b[1mvmovsd\u001b[22m\u001b[39m\t\u001b[33m-96\u001b[39m\u001b[33m(\u001b[39m\u001b[0m%rsp\u001b[33m)\u001b[39m\u001b[0m, \u001b[0m%xmm0                \u001b[90m# xmm0 = mem[0],zero\u001b[39m\n",
      "\t\u001b[96m\u001b[1mvaddsd\u001b[22m\u001b[39m\t\u001b[0m%xmm0\u001b[0m, \u001b[0m%xmm4\u001b[0m, \u001b[0m%xmm3\n",
      "\t\u001b[96m\u001b[1mvsubsd\u001b[22m\u001b[39m\t\u001b[0m%xmm4\u001b[0m, \u001b[0m%xmm3\u001b[0m, \u001b[0m%xmm2\n",
      "\t\u001b[96m\u001b[1mvsubsd\u001b[22m\u001b[39m\t\u001b[0m%xmm2\u001b[0m, \u001b[0m%xmm3\u001b[0m, \u001b[0m%xmm6\n",
      "\t\u001b[96m\u001b[1mvsubsd\u001b[22m\u001b[39m\t\u001b[0m%xmm6\u001b[0m, \u001b[0m%xmm4\u001b[0m, \u001b[0m%xmm4\n",
      "\t\u001b[96m\u001b[1mvsubsd\u001b[22m\u001b[39m\t\u001b[0m%xmm2\u001b[0m, \u001b[0m%xmm0\u001b[0m, \u001b[0m%xmm2\n",
      "\t\u001b[96m\u001b[1mvaddsd\u001b[22m\u001b[39m\t\u001b[0m%xmm4\u001b[0m, \u001b[0m%xmm2\u001b[0m, \u001b[0m%xmm2\n",
      "\t\u001b[96m\u001b[1mvaddsd\u001b[22m\u001b[39m\t\u001b[0m%xmm15\u001b[0m, \u001b[0m%xmm8\u001b[0m, \u001b[0m%xmm4\n",
      "\t\u001b[96m\u001b[1mvsubsd\u001b[22m\u001b[39m\t\u001b[0m%xmm8\u001b[0m, \u001b[0m%xmm4\u001b[0m, \u001b[0m%xmm6\n",
      "\t\u001b[96m\u001b[1mvsubsd\u001b[22m\u001b[39m\t\u001b[0m%xmm6\u001b[0m, \u001b[0m%xmm4\u001b[0m, \u001b[0m%xmm7\n",
      "\t\u001b[96m\u001b[1mvsubsd\u001b[22m\u001b[39m\t\u001b[0m%xmm6\u001b[0m, \u001b[0m%xmm15\u001b[0m, \u001b[0m%xmm6\n",
      "\t\u001b[96m\u001b[1mvsubsd\u001b[22m\u001b[39m\t\u001b[0m%xmm7\u001b[0m, \u001b[0m%xmm8\u001b[0m, \u001b[0m%xmm7\n",
      "\t\u001b[96m\u001b[1mvaddsd\u001b[22m\u001b[39m\t\u001b[0m%xmm7\u001b[0m, \u001b[0m%xmm6\u001b[0m, \u001b[0m%xmm8\n",
      "\t\u001b[96m\u001b[1mvaddsd\u001b[22m\u001b[39m\t\u001b[0m%xmm2\u001b[0m, \u001b[0m%xmm4\u001b[0m, \u001b[0m%xmm7\n",
      "\t\u001b[96m\u001b[1mvsubsd\u001b[22m\u001b[39m\t\u001b[0m%xmm4\u001b[0m, \u001b[0m%xmm7\u001b[0m, \u001b[0m%xmm0\n",
      "\t\u001b[96m\u001b[1mvsubsd\u001b[22m\u001b[39m\t\u001b[0m%xmm7\u001b[0m, \u001b[0m%xmm0\u001b[0m, \u001b[0m%xmm6\n",
      "\t\u001b[96m\u001b[1mvaddsd\u001b[22m\u001b[39m\t\u001b[0m%xmm6\u001b[0m, \u001b[0m%xmm4\u001b[0m, \u001b[0m%xmm4\n",
      "\t\u001b[96m\u001b[1mvsubsd\u001b[22m\u001b[39m\t\u001b[0m%xmm0\u001b[0m, \u001b[0m%xmm2\u001b[0m, \u001b[0m%xmm0\n",
      "\t\u001b[96m\u001b[1mvaddsd\u001b[22m\u001b[39m\t\u001b[0m%xmm5\u001b[0m, \u001b[0m%xmm9\u001b[0m, \u001b[0m%xmm6\n",
      "\t\u001b[96m\u001b[1mvsubsd\u001b[22m\u001b[39m\t\u001b[0m%xmm5\u001b[0m, \u001b[0m%xmm6\u001b[0m, \u001b[0m%xmm2\n",
      "\t\u001b[96m\u001b[1mvaddsd\u001b[22m\u001b[39m\t\u001b[0m%xmm4\u001b[0m, \u001b[0m%xmm0\u001b[0m, \u001b[0m%xmm0\n",
      "\t\u001b[96m\u001b[1mvaddsd\u001b[22m\u001b[39m\t\u001b[0m%xmm6\u001b[0m, \u001b[0m%xmm1\u001b[0m, \u001b[0m%xmm4\n",
      "\t\u001b[96m\u001b[1mvaddsd\u001b[22m\u001b[39m\t\u001b[0m%xmm0\u001b[0m, \u001b[0m%xmm8\u001b[0m, \u001b[0m%xmm0\n",
      "\t\u001b[96m\u001b[1mvsubsd\u001b[22m\u001b[39m\t\u001b[0m%xmm2\u001b[0m, \u001b[0m%xmm9\u001b[0m, \u001b[0m%xmm8\n",
      "\t\u001b[96m\u001b[1mvaddsd\u001b[22m\u001b[39m\t\u001b[0m%xmm0\u001b[0m, \u001b[0m%xmm7\u001b[0m, \u001b[0m%xmm5\n",
      "\t\u001b[96m\u001b[1mvsubsd\u001b[22m\u001b[39m\t\u001b[0m%xmm7\u001b[0m, \u001b[0m%xmm5\u001b[0m, \u001b[0m%xmm2\n",
      "\t\u001b[96m\u001b[1mvsubsd\u001b[22m\u001b[39m\t\u001b[0m%xmm2\u001b[0m, \u001b[0m%xmm0\u001b[0m, \u001b[0m%xmm0\n",
      "\t\u001b[96m\u001b[1mvsubsd\u001b[22m\u001b[39m\t\u001b[0m%xmm1\u001b[0m, \u001b[0m%xmm4\u001b[0m, \u001b[0m%xmm1\n",
      "\t\u001b[96m\u001b[1mvaddsd\u001b[22m\u001b[39m\t\u001b[0m%xmm5\u001b[0m, \u001b[0m%xmm3\u001b[0m, \u001b[0m%xmm2\n",
      "\t\u001b[96m\u001b[1mvsubsd\u001b[22m\u001b[39m\t\u001b[0m%xmm3\u001b[0m, \u001b[0m%xmm2\u001b[0m, \u001b[0m%xmm3\n",
      "\t\u001b[96m\u001b[1mvsubsd\u001b[22m\u001b[39m\t\u001b[0m%xmm3\u001b[0m, \u001b[0m%xmm5\u001b[0m, \u001b[0m%xmm3\n",
      "\t\u001b[96m\u001b[1mvsubsd\u001b[22m\u001b[39m\t\u001b[0m%xmm1\u001b[0m, \u001b[0m%xmm6\u001b[0m, \u001b[0m%xmm5\n",
      "\t\u001b[96m\u001b[1mvaddsd\u001b[22m\u001b[39m\t\u001b[0m%xmm3\u001b[0m, \u001b[0m%xmm0\u001b[0m, \u001b[0m%xmm9\n",
      "\t\u001b[96m\u001b[1mvaddsd\u001b[22m\u001b[39m\t\u001b[0m%xmm4\u001b[0m, \u001b[0m%xmm15\u001b[0m, \u001b[0m%xmm0\n",
      "\t\u001b[96m\u001b[1mvsubsd\u001b[22m\u001b[39m\t\u001b[0m%xmm4\u001b[0m, \u001b[0m%xmm0\u001b[0m, \u001b[0m%xmm3\n",
      "\t\u001b[96m\u001b[1mvaddsd\u001b[22m\u001b[39m\t\u001b[0m%xmm5\u001b[0m, \u001b[0m%xmm8\u001b[0m, \u001b[0m%xmm5\n",
      "\t\u001b[96m\u001b[1mvsubsd\u001b[22m\u001b[39m\t\u001b[0m%xmm3\u001b[0m, \u001b[0m%xmm0\u001b[0m, \u001b[0m%xmm6\n",
      "\t\u001b[96m\u001b[1mvsubsd\u001b[22m\u001b[39m\t\u001b[0m%xmm6\u001b[0m, \u001b[0m%xmm4\u001b[0m, \u001b[0m%xmm4\n",
      "\t\u001b[96m\u001b[1mvsubsd\u001b[22m\u001b[39m\t\u001b[0m%xmm3\u001b[0m, \u001b[0m%xmm15\u001b[0m, \u001b[0m%xmm3\n",
      "\t\u001b[96m\u001b[1mvaddsd\u001b[22m\u001b[39m\t\u001b[0m%xmm4\u001b[0m, \u001b[0m%xmm3\u001b[0m, \u001b[0m%xmm3\n",
      "\t\u001b[96m\u001b[1mvaddsd\u001b[22m\u001b[39m\t\u001b[0m%xmm5\u001b[0m, \u001b[0m%xmm15\u001b[0m, \u001b[0m%xmm4\n",
      "\t\u001b[96m\u001b[1mvsubsd\u001b[22m\u001b[39m\t\u001b[0m%xmm5\u001b[0m, \u001b[0m%xmm4\u001b[0m, \u001b[0m%xmm6\n",
      "\t\u001b[96m\u001b[1mvsubsd\u001b[22m\u001b[39m\t\u001b[0m%xmm6\u001b[0m, \u001b[0m%xmm4\u001b[0m, \u001b[0m%xmm7\n",
      "\t\u001b[96m\u001b[1mvsubsd\u001b[22m\u001b[39m\t\u001b[0m%xmm7\u001b[0m, \u001b[0m%xmm5\u001b[0m, \u001b[0m%xmm5\n",
      "\t\u001b[96m\u001b[1mvsubsd\u001b[22m\u001b[39m\t\u001b[0m%xmm6\u001b[0m, \u001b[0m%xmm15\u001b[0m, \u001b[0m%xmm6\n",
      "\t\u001b[96m\u001b[1mvaddsd\u001b[22m\u001b[39m\t\u001b[0m%xmm3\u001b[0m, \u001b[0m%xmm4\u001b[0m, \u001b[0m%xmm7\n",
      "\t\u001b[96m\u001b[1mvsubsd\u001b[22m\u001b[39m\t\u001b[0m%xmm4\u001b[0m, \u001b[0m%xmm7\u001b[0m, \u001b[0m%xmm1\n",
      "\t\u001b[96m\u001b[1mvaddsd\u001b[22m\u001b[39m\t\u001b[0m%xmm5\u001b[0m, \u001b[0m%xmm6\u001b[0m, \u001b[0m%xmm5\n",
      "\t\u001b[96m\u001b[1mvsubsd\u001b[22m\u001b[39m\t\u001b[0m%xmm7\u001b[0m, \u001b[0m%xmm1\u001b[0m, \u001b[0m%xmm6\n",
      "\t\u001b[96m\u001b[1mvaddsd\u001b[22m\u001b[39m\t\u001b[0m%xmm6\u001b[0m, \u001b[0m%xmm4\u001b[0m, \u001b[0m%xmm4\n",
      "\t\u001b[96m\u001b[1mvsubsd\u001b[22m\u001b[39m\t\u001b[0m%xmm1\u001b[0m, \u001b[0m%xmm3\u001b[0m, \u001b[0m%xmm1\n",
      "\t\u001b[96m\u001b[1mvaddsd\u001b[22m\u001b[39m\t\u001b[0m%xmm4\u001b[0m, \u001b[0m%xmm1\u001b[0m, \u001b[0m%xmm1\n",
      "\t\u001b[96m\u001b[1mvaddsd\u001b[22m\u001b[39m\t\u001b[0m%xmm1\u001b[0m, \u001b[0m%xmm5\u001b[0m, \u001b[0m%xmm1\n",
      "\t\u001b[96m\u001b[1mvaddsd\u001b[22m\u001b[39m\t\u001b[0m%xmm1\u001b[0m, \u001b[0m%xmm7\u001b[0m, \u001b[0m%xmm4\n",
      "\t\u001b[96m\u001b[1mvsubsd\u001b[22m\u001b[39m\t\u001b[0m%xmm7\u001b[0m, \u001b[0m%xmm4\u001b[0m, \u001b[0m%xmm3\n",
      "\t\u001b[96m\u001b[1mvsubsd\u001b[22m\u001b[39m\t\u001b[0m%xmm3\u001b[0m, \u001b[0m%xmm1\u001b[0m, \u001b[0m%xmm1\n",
      "\t\u001b[96m\u001b[1mvaddsd\u001b[22m\u001b[39m\t\u001b[0m%xmm4\u001b[0m, \u001b[0m%xmm0\u001b[0m, \u001b[0m%xmm3\n",
      "\t\u001b[96m\u001b[1mvsubsd\u001b[22m\u001b[39m\t\u001b[0m%xmm0\u001b[0m, \u001b[0m%xmm3\u001b[0m, \u001b[0m%xmm0\n",
      "\t\u001b[96m\u001b[1mvsubsd\u001b[22m\u001b[39m\t\u001b[0m%xmm0\u001b[0m, \u001b[0m%xmm4\u001b[0m, \u001b[0m%xmm0\n",
      "\t\u001b[96m\u001b[1mvaddsd\u001b[22m\u001b[39m\t\u001b[0m%xmm0\u001b[0m, \u001b[0m%xmm1\u001b[0m, \u001b[0m%xmm0\n",
      "\t\u001b[96m\u001b[1mvdivsd\u001b[22m\u001b[39m\t\u001b[0m%xmm3\u001b[0m, \u001b[0m%xmm2\u001b[0m, \u001b[0m%xmm4\n",
      "\t\u001b[96m\u001b[1mvmulsd\u001b[22m\u001b[39m\t\u001b[0m%xmm4\u001b[0m, \u001b[0m%xmm3\u001b[0m, \u001b[0m%xmm1\n",
      "\t\u001b[96m\u001b[1mvmovapd\u001b[22m\u001b[39m\t\u001b[0m%xmm4\u001b[0m, \u001b[0m%xmm5\n",
      "\t\u001b[96m\u001b[1mvmulsd\u001b[22m\u001b[39m\t\u001b[0m%xmm0\u001b[0m, \u001b[0m%xmm4\u001b[0m, \u001b[0m%xmm0\n",
      "\t\u001b[96m\u001b[1mvfmsub213sd\u001b[22m\u001b[39m\t\u001b[0m%xmm1\u001b[0m, \u001b[0m%xmm3\u001b[0m, \u001b[0m%xmm5     \u001b[90m# xmm5 = (xmm3 * xmm5) - xmm1\u001b[39m\n",
      "\t\u001b[96m\u001b[1mvaddsd\u001b[22m\u001b[39m\t\u001b[0m%xmm5\u001b[0m, \u001b[0m%xmm0\u001b[0m, \u001b[0m%xmm0\n",
      "\t\u001b[96m\u001b[1mvaddsd\u001b[22m\u001b[39m\t\u001b[0m%xmm0\u001b[0m, \u001b[0m%xmm1\u001b[0m, \u001b[0m%xmm5\n",
      "\t\u001b[96m\u001b[1mvsubsd\u001b[22m\u001b[39m\t\u001b[0m%xmm1\u001b[0m, \u001b[0m%xmm5\u001b[0m, \u001b[0m%xmm1\n",
      "\t\u001b[96m\u001b[1mvsubsd\u001b[22m\u001b[39m\t\u001b[0m%xmm1\u001b[0m, \u001b[0m%xmm0\u001b[0m, \u001b[0m%xmm0\n",
      "\t\u001b[96m\u001b[1mvsubsd\u001b[22m\u001b[39m\t\u001b[0m%xmm5\u001b[0m, \u001b[0m%xmm2\u001b[0m, \u001b[0m%xmm1\n",
      "\t\u001b[96m\u001b[1mvsubsd\u001b[22m\u001b[39m\t\u001b[0m%xmm2\u001b[0m, \u001b[0m%xmm1\u001b[0m, \u001b[0m%xmm6\n",
      "\t\u001b[96m\u001b[1mvsubsd\u001b[22m\u001b[39m\t\u001b[0m%xmm6\u001b[0m, \u001b[0m%xmm1\u001b[0m, \u001b[0m%xmm7\n",
      "\t\u001b[96m\u001b[1mvmovapd\u001b[22m\u001b[39m\t\u001b[33m-24\u001b[39m\u001b[33m(\u001b[39m\u001b[0m%rsp\u001b[33m)\u001b[39m\u001b[0m, \u001b[0m%xmm11\n",
      "\t\u001b[96m\u001b[1mvxorpd\u001b[22m\u001b[39m\t\u001b[0m%xmm5\u001b[0m, \u001b[0m%xmm11\u001b[0m, \u001b[0m%xmm5\n",
      "\t\u001b[96m\u001b[1mvsubsd\u001b[22m\u001b[39m\t\u001b[0m%xmm7\u001b[0m, \u001b[0m%xmm2\u001b[0m, \u001b[0m%xmm2\n",
      "\t\u001b[96m\u001b[1mvxorpd\u001b[22m\u001b[39m\t\u001b[0m%xmm0\u001b[0m, \u001b[0m%xmm11\u001b[0m, \u001b[0m%xmm7\n",
      "\t\u001b[96m\u001b[1mvsubsd\u001b[22m\u001b[39m\t\u001b[0m%xmm6\u001b[0m, \u001b[0m%xmm5\u001b[0m, \u001b[0m%xmm5\n",
      "\t\u001b[96m\u001b[1mvaddsd\u001b[22m\u001b[39m\t\u001b[0m%xmm2\u001b[0m, \u001b[0m%xmm5\u001b[0m, \u001b[0m%xmm2\n",
      "\t\u001b[96m\u001b[1mvsubsd\u001b[22m\u001b[39m\t\u001b[0m%xmm0\u001b[0m, \u001b[0m%xmm9\u001b[0m, \u001b[0m%xmm0\n",
      "\t\u001b[96m\u001b[1mvsubsd\u001b[22m\u001b[39m\t\u001b[0m%xmm9\u001b[0m, \u001b[0m%xmm0\u001b[0m, \u001b[0m%xmm5\n",
      "\t\u001b[96m\u001b[1mvsubsd\u001b[22m\u001b[39m\t\u001b[0m%xmm5\u001b[0m, \u001b[0m%xmm0\u001b[0m, \u001b[0m%xmm6\n",
      "\t\u001b[96m\u001b[1mvsubsd\u001b[22m\u001b[39m\t\u001b[0m%xmm6\u001b[0m, \u001b[0m%xmm9\u001b[0m, \u001b[0m%xmm6\n",
      "\t\u001b[96m\u001b[1mvsubsd\u001b[22m\u001b[39m\t\u001b[0m%xmm5\u001b[0m, \u001b[0m%xmm7\u001b[0m, \u001b[0m%xmm5\n",
      "\t\u001b[96m\u001b[1mvaddsd\u001b[22m\u001b[39m\t\u001b[0m%xmm6\u001b[0m, \u001b[0m%xmm5\u001b[0m, \u001b[0m%xmm8\n",
      "\t\u001b[96m\u001b[1mvaddsd\u001b[22m\u001b[39m\t\u001b[0m%xmm2\u001b[0m, \u001b[0m%xmm0\u001b[0m, \u001b[0m%xmm6\n",
      "\t\u001b[96m\u001b[1mvsubsd\u001b[22m\u001b[39m\t\u001b[0m%xmm0\u001b[0m, \u001b[0m%xmm6\u001b[0m, \u001b[0m%xmm7\n",
      "\t\u001b[96m\u001b[1mvsubsd\u001b[22m\u001b[39m\t\u001b[0m%xmm7\u001b[0m, \u001b[0m%xmm6\u001b[0m, \u001b[0m%xmm5\n",
      "\t\u001b[96m\u001b[1mvsubsd\u001b[22m\u001b[39m\t\u001b[0m%xmm5\u001b[0m, \u001b[0m%xmm0\u001b[0m, \u001b[0m%xmm0\n",
      "\t\u001b[96m\u001b[1mvsubsd\u001b[22m\u001b[39m\t\u001b[0m%xmm7\u001b[0m, \u001b[0m%xmm2\u001b[0m, \u001b[0m%xmm2\n",
      "\t\u001b[96m\u001b[1mvaddsd\u001b[22m\u001b[39m\t\u001b[0m%xmm0\u001b[0m, \u001b[0m%xmm2\u001b[0m, \u001b[0m%xmm0\n",
      "\t\u001b[96m\u001b[1mvaddsd\u001b[22m\u001b[39m\t\u001b[0m%xmm0\u001b[0m, \u001b[0m%xmm8\u001b[0m, \u001b[0m%xmm0\n",
      "\t\u001b[96m\u001b[1mvaddsd\u001b[22m\u001b[39m\t\u001b[0m%xmm0\u001b[0m, \u001b[0m%xmm6\u001b[0m, \u001b[0m%xmm0\n",
      "\t\u001b[96m\u001b[1mvaddsd\u001b[22m\u001b[39m\t\u001b[0m%xmm0\u001b[0m, \u001b[0m%xmm1\u001b[0m, \u001b[0m%xmm0\n",
      "\t\u001b[96m\u001b[1mvdivsd\u001b[22m\u001b[39m\t\u001b[0m%xmm3\u001b[0m, \u001b[0m%xmm0\u001b[0m, \u001b[0m%xmm0\n",
      "\t\u001b[96m\u001b[1mvaddsd\u001b[22m\u001b[39m\t\u001b[0m%xmm0\u001b[0m, \u001b[0m%xmm4\u001b[0m, \u001b[0m%xmm1\n",
      "\t\u001b[96m\u001b[1mvsubsd\u001b[22m\u001b[39m\t\u001b[0m%xmm4\u001b[0m, \u001b[0m%xmm1\u001b[0m, \u001b[0m%xmm2\n",
      "\t\u001b[96m\u001b[1mvxorpd\u001b[22m\u001b[39m\t\u001b[0m%xmm1\u001b[0m, \u001b[0m%xmm11\u001b[0m, \u001b[0m%xmm3\n",
      "\t\u001b[96m\u001b[1mvsubsd\u001b[22m\u001b[39m\t\u001b[0m%xmm2\u001b[0m, \u001b[0m%xmm0\u001b[0m, \u001b[0m%xmm0\n",
      "\t\u001b[96m\u001b[1mvmovsd\u001b[22m\u001b[39m\t\u001b[33m-32\u001b[39m\u001b[33m(\u001b[39m\u001b[0m%rsp\u001b[33m)\u001b[39m\u001b[0m, \u001b[0m%xmm4                \u001b[90m# xmm4 = mem[0],zero\u001b[39m\n",
      "\t\u001b[96m\u001b[1mvsubsd\u001b[22m\u001b[39m\t\u001b[0m%xmm1\u001b[0m, \u001b[0m%xmm4\u001b[0m, \u001b[0m%xmm1\n",
      "\t\u001b[96m\u001b[1mvsubsd\u001b[22m\u001b[39m\t\u001b[0m%xmm4\u001b[0m, \u001b[0m%xmm1\u001b[0m, \u001b[0m%xmm2\n",
      "\t\u001b[96m\u001b[1mvmovapd\u001b[22m\u001b[39m\t\u001b[0m%xmm4\u001b[0m, \u001b[0m%xmm5\n",
      "\t\u001b[96m\u001b[1mvsubsd\u001b[22m\u001b[39m\t\u001b[0m%xmm2\u001b[0m, \u001b[0m%xmm1\u001b[0m, \u001b[0m%xmm4\n",
      "\t\u001b[96m\u001b[1mvsubsd\u001b[22m\u001b[39m\t\u001b[0m%xmm4\u001b[0m, \u001b[0m%xmm5\u001b[0m, \u001b[0m%xmm4\n",
      "\t\u001b[96m\u001b[1mvxorpd\u001b[22m\u001b[39m\t\u001b[0m%xmm0\u001b[0m, \u001b[0m%xmm11\u001b[0m, \u001b[0m%xmm5\n",
      "\t\u001b[96m\u001b[1mvsubsd\u001b[22m\u001b[39m\t\u001b[0m%xmm2\u001b[0m, \u001b[0m%xmm3\u001b[0m, \u001b[0m%xmm2\n",
      "\t\u001b[96m\u001b[1mvaddsd\u001b[22m\u001b[39m\t\u001b[0m%xmm4\u001b[0m, \u001b[0m%xmm2\u001b[0m, \u001b[0m%xmm2\n",
      "\t\u001b[96m\u001b[1mvmovsd\u001b[22m\u001b[39m\t\u001b[33m-40\u001b[39m\u001b[33m(\u001b[39m\u001b[0m%rsp\u001b[33m)\u001b[39m\u001b[0m, \u001b[0m%xmm4                \u001b[90m# xmm4 = mem[0],zero\u001b[39m\n",
      "\t\u001b[96m\u001b[1mvsubsd\u001b[22m\u001b[39m\t\u001b[0m%xmm0\u001b[0m, \u001b[0m%xmm4\u001b[0m, \u001b[0m%xmm0\n",
      "\t\u001b[96m\u001b[1mvsubsd\u001b[22m\u001b[39m\t\u001b[0m%xmm4\u001b[0m, \u001b[0m%xmm0\u001b[0m, \u001b[0m%xmm3\n",
      "\t\u001b[96m\u001b[1mvmovapd\u001b[22m\u001b[39m\t\u001b[0m%xmm4\u001b[0m, \u001b[0m%xmm6\n",
      "\t\u001b[96m\u001b[1mvsubsd\u001b[22m\u001b[39m\t\u001b[0m%xmm3\u001b[0m, \u001b[0m%xmm0\u001b[0m, \u001b[0m%xmm4\n",
      "\t\u001b[96m\u001b[1mvsubsd\u001b[22m\u001b[39m\t\u001b[0m%xmm3\u001b[0m, \u001b[0m%xmm5\u001b[0m, \u001b[0m%xmm3\n",
      "\t\u001b[96m\u001b[1mvsubsd\u001b[22m\u001b[39m\t\u001b[0m%xmm4\u001b[0m, \u001b[0m%xmm6\u001b[0m, \u001b[0m%xmm4\n",
      "\t\u001b[96m\u001b[1mvaddsd\u001b[22m\u001b[39m\t\u001b[0m%xmm4\u001b[0m, \u001b[0m%xmm3\u001b[0m, \u001b[0m%xmm3\n",
      "\t\u001b[96m\u001b[1mvaddsd\u001b[22m\u001b[39m\t\u001b[0m%xmm2\u001b[0m, \u001b[0m%xmm0\u001b[0m, \u001b[0m%xmm4\n",
      "\t\u001b[96m\u001b[1mvsubsd\u001b[22m\u001b[39m\t\u001b[0m%xmm0\u001b[0m, \u001b[0m%xmm4\u001b[0m, \u001b[0m%xmm5\n",
      "\t\u001b[96m\u001b[1mvsubsd\u001b[22m\u001b[39m\t\u001b[0m%xmm5\u001b[0m, \u001b[0m%xmm4\u001b[0m, \u001b[0m%xmm6\n",
      "\t\u001b[96m\u001b[1mvsubsd\u001b[22m\u001b[39m\t\u001b[0m%xmm6\u001b[0m, \u001b[0m%xmm0\u001b[0m, \u001b[0m%xmm0\n",
      "\t\u001b[96m\u001b[1mvsubsd\u001b[22m\u001b[39m\t\u001b[0m%xmm5\u001b[0m, \u001b[0m%xmm2\u001b[0m, \u001b[0m%xmm2\n",
      "\t\u001b[96m\u001b[1mvaddsd\u001b[22m\u001b[39m\t\u001b[0m%xmm0\u001b[0m, \u001b[0m%xmm2\u001b[0m, \u001b[0m%xmm0\n",
      "\t\u001b[96m\u001b[1mvaddsd\u001b[22m\u001b[39m\t\u001b[0m%xmm0\u001b[0m, \u001b[0m%xmm3\u001b[0m, \u001b[0m%xmm0\n",
      "\t\u001b[96m\u001b[1mvaddsd\u001b[22m\u001b[39m\t\u001b[0m%xmm0\u001b[0m, \u001b[0m%xmm4\u001b[0m, \u001b[0m%xmm2\n",
      "\t\u001b[96m\u001b[1mvsubsd\u001b[22m\u001b[39m\t\u001b[0m%xmm4\u001b[0m, \u001b[0m%xmm2\u001b[0m, \u001b[0m%xmm3\n",
      "\t\u001b[96m\u001b[1mvsubsd\u001b[22m\u001b[39m\t\u001b[0m%xmm3\u001b[0m, \u001b[0m%xmm0\u001b[0m, \u001b[0m%xmm0\n",
      "\t\u001b[96m\u001b[1mvaddsd\u001b[22m\u001b[39m\t\u001b[0m%xmm2\u001b[0m, \u001b[0m%xmm1\u001b[0m, \u001b[0m%xmm9\n",
      "\t\u001b[96m\u001b[1mvsubsd\u001b[22m\u001b[39m\t\u001b[0m%xmm1\u001b[0m, \u001b[0m%xmm9\u001b[0m, \u001b[0m%xmm1\n",
      "\t\u001b[96m\u001b[1mvsubsd\u001b[22m\u001b[39m\t\u001b[0m%xmm1\u001b[0m, \u001b[0m%xmm2\u001b[0m, \u001b[0m%xmm1\n",
      "\t\u001b[96m\u001b[1mvaddsd\u001b[22m\u001b[39m\t\u001b[0m%xmm1\u001b[0m, \u001b[0m%xmm0\u001b[0m, \u001b[0m%xmm8\n",
      "\t\u001b[96m\u001b[1mdecq\u001b[22m\u001b[39m\t\u001b[0m%rcx\n",
      "\t\u001b[96m\u001b[1mjne\u001b[22m\u001b[39m\t\u001b[91mL144\u001b[39m\n",
      "\t\u001b[96m\u001b[1mvmovsd\u001b[22m\u001b[39m\t\u001b[0m%xmm9\u001b[0m, \u001b[33m(\u001b[39m\u001b[0m%rax\u001b[33m)\u001b[39m\n",
      "\t\u001b[96m\u001b[1mvmovsd\u001b[22m\u001b[39m\t\u001b[0m%xmm8\u001b[0m, \u001b[33m8\u001b[39m\u001b[33m(\u001b[39m\u001b[0m%rax\u001b[33m)\u001b[39m\n",
      "\t\u001b[96m\u001b[1mretq\u001b[22m\u001b[39m\n",
      "\t\u001b[96m\u001b[1mnopl\u001b[22m\u001b[39m\t\u001b[33m(\u001b[39m\u001b[0m%rax\u001b[0m,\u001b[0m%rax\u001b[33m)\u001b[39m\n"
     ]
    }
   ],
   "source": [
    "@code_native debuginfo=:none get_roots(Float64x2(1.0), Val(4))"
   ]
  },
  {
   "cell_type": "markdown",
   "metadata": {},
   "source": [
    "## Vectorizing the autodiff root finder"
   ]
  },
  {
   "cell_type": "code",
   "execution_count": 82,
   "metadata": {},
   "outputs": [
    {
     "name": "stderr",
     "output_type": "stream",
     "text": [
      "\u001b[32m\u001b[1m   Resolving\u001b[22m\u001b[39m package versions...\n",
      "\u001b[32m\u001b[1m  No Changes\u001b[22m\u001b[39m to `~/tutorial_julia_interactive/01_introduction/Project.toml`\n",
      "\u001b[32m\u001b[1m  No Changes\u001b[22m\u001b[39m to `~/tutorial_julia_interactive/01_introduction/Manifest.toml`\n"
     ]
    }
   ],
   "source": [
    "] add VectorizationBase"
   ]
  },
  {
   "cell_type": "code",
   "execution_count": 83,
   "metadata": {},
   "outputs": [],
   "source": [
    "using VectorizationBase"
   ]
  },
  {
   "cell_type": "code",
   "execution_count": 84,
   "metadata": {},
   "outputs": [
    {
     "data": {
      "text/plain": [
       "Vec{4, Float64}<1.0, 2.0, 3.0, 4.0>"
      ]
     },
     "execution_count": 84,
     "metadata": {},
     "output_type": "execute_result"
    }
   ],
   "source": [
    "# Remember when we did map(x -> newton(poly, Float64x4(x)), (1.0, 2.0, 3.0, 4.0))\n",
    "# Turns out we can store 1.0, 2.0, 3.0 and 4.0 in a single register\n",
    "v = Vec(1.0, 2.0, 3.0, 4.0)"
   ]
  },
  {
   "cell_type": "code",
   "execution_count": 85,
   "metadata": {},
   "outputs": [
    {
     "data": {
      "text/plain": [
       "Vec{4, Float64}<1.1010336740340934, 1.7631871208960497, 3.23681287910395, 3.898966325965907>"
      ]
     },
     "execution_count": 85,
     "metadata": {},
     "output_type": "execute_result"
    }
   ],
   "source": [
    "roots_vec = newton(poly, v)"
   ]
  },
  {
   "cell_type": "code",
   "execution_count": 86,
   "metadata": {},
   "outputs": [
    {
     "data": {
      "text/plain": [
       "Vec{4, Float64}<-1.586116450056502e-16, -4.3599143977964324e-17, 4.1563002304956903e-16, 6.113681357543031e-16>"
      ]
     },
     "execution_count": 86,
     "metadata": {},
     "output_type": "execute_result"
    }
   ],
   "source": [
    "poly(roots_vec)"
   ]
  },
  {
   "cell_type": "markdown",
   "metadata": {},
   "source": [
    "The VectorizationBase package uses a very much undervalued yet incredibly powerful feature: generated functions. Without going into details: the function body of the Vec constructor is only generated when you call it -- which allows the package to use certain constants (e.g. simd width...) as compile time values"
   ]
  },
  {
   "cell_type": "code",
   "execution_count": 87,
   "metadata": {},
   "outputs": [
    {
     "data": {
      "text/plain": [
       "2 x Vec{4, Float64}\n",
       "Vec{4, Float64}<1.0, 2.0, 3.0, 4.0>\n",
       "Vec{4, Float64}<1.2, 2.2, 3.2, 4.2>"
      ]
     },
     "execution_count": 87,
     "metadata": {},
     "output_type": "execute_result"
    }
   ],
   "source": [
    "# if you pass it more values than fit in your register, it prints them here as if it were multiple hardware registers\n",
    "w = Vec(1.0, 2.0, 3.0, 4.0, 1.2, 2.2, 3.2, 4.2)"
   ]
  },
  {
   "cell_type": "code",
   "execution_count": 88,
   "metadata": {},
   "outputs": [
    {
     "data": {
      "text/plain": [
       "2 x Vec{4, Float64}\n",
       "Vec{4, Float64}<-1.586116450056502e-16, -4.3599143977964324e-17, 4.1563002304956903e-16, 6.113681357543031e-16>\n",
       "Vec{4, Float64}<-1.586116450056502e-16, -4.3599143977964324e-17, 4.1563002304956903e-16, 6.113681357543031e-16>"
      ]
     },
     "execution_count": 88,
     "metadata": {},
     "output_type": "execute_result"
    }
   ],
   "source": [
    "poly(newton(poly, w))"
   ]
  },
  {
   "cell_type": "code",
   "execution_count": 89,
   "metadata": {},
   "outputs": [
    {
     "name": "stdout",
     "output_type": "stream",
     "text": [
      "\t\u001b[0m.text\n",
      "\t\u001b[96m\u001b[1mvmovupd\u001b[22m\u001b[39m\t\u001b[33m(\u001b[39m\u001b[0m%rsi\u001b[33m)\u001b[39m\u001b[0m, \u001b[0m%ymm5\n",
      "\t\u001b[96m\u001b[1mmovabsq\u001b[22m\u001b[39m\t\u001b[93m$.rodata.cst8\u001b[39m\u001b[0m, \u001b[0m%rax\n",
      "\t\u001b[96m\u001b[1mvbroadcastsd\u001b[22m\u001b[39m\t\u001b[33m(\u001b[39m\u001b[0m%rax\u001b[33m)\u001b[39m\u001b[0m, \u001b[0m%ymm0\n",
      "\t\u001b[96m\u001b[1mvaddpd\u001b[22m\u001b[39m\t\u001b[0m%ymm0\u001b[0m, \u001b[0m%ymm5\u001b[0m, \u001b[0m%ymm4\n",
      "\t\u001b[96m\u001b[1mmovabsq\u001b[22m\u001b[39m\t\u001b[33m$46913579717624\u001b[39m\u001b[0m, \u001b[0m%rax           \u001b[90m# imm = 0x2AAAEB4113F8\u001b[39m\n",
      "\t\u001b[96m\u001b[1mvbroadcastsd\u001b[22m\u001b[39m\t\u001b[33m(\u001b[39m\u001b[0m%rax\u001b[33m)\u001b[39m\u001b[0m, \u001b[0m%ymm1\n",
      "\t\u001b[96m\u001b[1mvaddpd\u001b[22m\u001b[39m\t\u001b[0m%ymm1\u001b[0m, \u001b[0m%ymm5\u001b[0m, \u001b[0m%ymm6\n",
      "\t\u001b[96m\u001b[1mmovabsq\u001b[22m\u001b[39m\t\u001b[33m$46913579717632\u001b[39m\u001b[0m, \u001b[0m%rax           \u001b[90m# imm = 0x2AAAEB411400\u001b[39m\n",
      "\t\u001b[96m\u001b[1mvbroadcastsd\u001b[22m\u001b[39m\t\u001b[33m(\u001b[39m\u001b[0m%rax\u001b[33m)\u001b[39m\u001b[0m, \u001b[0m%ymm2\n",
      "\t\u001b[96m\u001b[1mvaddpd\u001b[22m\u001b[39m\t\u001b[0m%ymm2\u001b[0m, \u001b[0m%ymm5\u001b[0m, \u001b[0m%ymm7\n",
      "\t\u001b[96m\u001b[1mmovabsq\u001b[22m\u001b[39m\t\u001b[33m$46913579717640\u001b[39m\u001b[0m, \u001b[0m%rax           \u001b[90m# imm = 0x2AAAEB411408\u001b[39m\n",
      "\t\u001b[96m\u001b[1mvbroadcastsd\u001b[22m\u001b[39m\t\u001b[33m(\u001b[39m\u001b[0m%rax\u001b[33m)\u001b[39m\u001b[0m, \u001b[0m%ymm3\n",
      "\t\u001b[96m\u001b[1mvaddpd\u001b[22m\u001b[39m\t\u001b[0m%ymm3\u001b[0m, \u001b[0m%ymm5\u001b[0m, \u001b[0m%ymm8\n",
      "\t\u001b[96m\u001b[1mvmulpd\u001b[22m\u001b[39m\t\u001b[0m%ymm6\u001b[0m, \u001b[0m%ymm4\u001b[0m, \u001b[0m%ymm9\n",
      "\t\u001b[96m\u001b[1mvaddpd\u001b[22m\u001b[39m\t\u001b[0m%ymm4\u001b[0m, \u001b[0m%ymm6\u001b[0m, \u001b[0m%ymm6\n",
      "\t\u001b[96m\u001b[1mvmulpd\u001b[22m\u001b[39m\t\u001b[0m%ymm7\u001b[0m, \u001b[0m%ymm9\u001b[0m, \u001b[0m%ymm10\n",
      "\t\u001b[96m\u001b[1mvfmadd213pd\u001b[22m\u001b[39m\t\u001b[0m%ymm9\u001b[0m, \u001b[0m%ymm7\u001b[0m, \u001b[0m%ymm6     \u001b[90m# ymm6 = (ymm7 * ymm6) + ymm9\u001b[39m\n",
      "\t\u001b[96m\u001b[1mvfmadd213pd\u001b[22m\u001b[39m\t\u001b[0m%ymm10\u001b[0m, \u001b[0m%ymm8\u001b[0m, \u001b[0m%ymm6    \u001b[90m# ymm6 = (ymm8 * ymm6) + ymm10\u001b[39m\n",
      "\t\u001b[96m\u001b[1mmovabsq\u001b[22m\u001b[39m\t\u001b[33m$46913579717648\u001b[39m\u001b[0m, \u001b[0m%rax           \u001b[90m# imm = 0x2AAAEB411410\u001b[39m\n",
      "\t\u001b[96m\u001b[1mvbroadcastsd\u001b[22m\u001b[39m\t\u001b[33m(\u001b[39m\u001b[0m%rax\u001b[33m)\u001b[39m\u001b[0m, \u001b[0m%ymm4\n",
      "\t\u001b[96m\u001b[1mvfnmsub213pd\u001b[22m\u001b[39m\t\u001b[0m%ymm4\u001b[0m, \u001b[0m%ymm8\u001b[0m, \u001b[0m%ymm10    \u001b[90m# ymm10 = -(ymm8 * ymm10) - ymm4\u001b[39m\n",
      "\t\u001b[96m\u001b[1mvdivpd\u001b[22m\u001b[39m\t\u001b[0m%ymm6\u001b[0m, \u001b[0m%ymm10\u001b[0m, \u001b[0m%ymm6\n",
      "\t\u001b[96m\u001b[1mvaddpd\u001b[22m\u001b[39m\t\u001b[0m%ymm6\u001b[0m, \u001b[0m%ymm5\u001b[0m, \u001b[0m%ymm5\n",
      "\t\u001b[96m\u001b[1mvaddpd\u001b[22m\u001b[39m\t\u001b[0m%ymm0\u001b[0m, \u001b[0m%ymm5\u001b[0m, \u001b[0m%ymm6\n",
      "\t\u001b[96m\u001b[1mvaddpd\u001b[22m\u001b[39m\t\u001b[0m%ymm1\u001b[0m, \u001b[0m%ymm5\u001b[0m, \u001b[0m%ymm7\n",
      "\t\u001b[96m\u001b[1mvaddpd\u001b[22m\u001b[39m\t\u001b[0m%ymm2\u001b[0m, \u001b[0m%ymm5\u001b[0m, \u001b[0m%ymm8\n",
      "\t\u001b[96m\u001b[1mvaddpd\u001b[22m\u001b[39m\t\u001b[0m%ymm3\u001b[0m, \u001b[0m%ymm5\u001b[0m, \u001b[0m%ymm9\n",
      "\t\u001b[96m\u001b[1mvmulpd\u001b[22m\u001b[39m\t\u001b[0m%ymm7\u001b[0m, \u001b[0m%ymm6\u001b[0m, \u001b[0m%ymm10\n",
      "\t\u001b[96m\u001b[1mvaddpd\u001b[22m\u001b[39m\t\u001b[0m%ymm6\u001b[0m, \u001b[0m%ymm7\u001b[0m, \u001b[0m%ymm6\n",
      "\t\u001b[96m\u001b[1mvmulpd\u001b[22m\u001b[39m\t\u001b[0m%ymm10\u001b[0m, \u001b[0m%ymm8\u001b[0m, \u001b[0m%ymm7\n",
      "\t\u001b[96m\u001b[1mvfmadd213pd\u001b[22m\u001b[39m\t\u001b[0m%ymm10\u001b[0m, \u001b[0m%ymm8\u001b[0m, \u001b[0m%ymm6    \u001b[90m# ymm6 = (ymm8 * ymm6) + ymm10\u001b[39m\n",
      "\t\u001b[96m\u001b[1mvfmadd213pd\u001b[22m\u001b[39m\t\u001b[0m%ymm7\u001b[0m, \u001b[0m%ymm9\u001b[0m, \u001b[0m%ymm6     \u001b[90m# ymm6 = (ymm9 * ymm6) + ymm7\u001b[39m\n",
      "\t\u001b[96m\u001b[1mvfnmsub213pd\u001b[22m\u001b[39m\t\u001b[0m%ymm4\u001b[0m, \u001b[0m%ymm9\u001b[0m, \u001b[0m%ymm7     \u001b[90m# ymm7 = -(ymm9 * ymm7) - ymm4\u001b[39m\n",
      "\t\u001b[96m\u001b[1mvdivpd\u001b[22m\u001b[39m\t\u001b[0m%ymm6\u001b[0m, \u001b[0m%ymm7\u001b[0m, \u001b[0m%ymm6\n",
      "\t\u001b[96m\u001b[1mvaddpd\u001b[22m\u001b[39m\t\u001b[0m%ymm6\u001b[0m, \u001b[0m%ymm5\u001b[0m, \u001b[0m%ymm5\n",
      "\t\u001b[96m\u001b[1mvaddpd\u001b[22m\u001b[39m\t\u001b[0m%ymm0\u001b[0m, \u001b[0m%ymm5\u001b[0m, \u001b[0m%ymm6\n",
      "\t\u001b[96m\u001b[1mvaddpd\u001b[22m\u001b[39m\t\u001b[0m%ymm1\u001b[0m, \u001b[0m%ymm5\u001b[0m, \u001b[0m%ymm7\n",
      "\t\u001b[96m\u001b[1mvaddpd\u001b[22m\u001b[39m\t\u001b[0m%ymm2\u001b[0m, \u001b[0m%ymm5\u001b[0m, \u001b[0m%ymm8\n",
      "\t\u001b[96m\u001b[1mvaddpd\u001b[22m\u001b[39m\t\u001b[0m%ymm3\u001b[0m, \u001b[0m%ymm5\u001b[0m, \u001b[0m%ymm9\n",
      "\t\u001b[96m\u001b[1mvmulpd\u001b[22m\u001b[39m\t\u001b[0m%ymm7\u001b[0m, \u001b[0m%ymm6\u001b[0m, \u001b[0m%ymm10\n",
      "\t\u001b[96m\u001b[1mvaddpd\u001b[22m\u001b[39m\t\u001b[0m%ymm6\u001b[0m, \u001b[0m%ymm7\u001b[0m, \u001b[0m%ymm6\n",
      "\t\u001b[96m\u001b[1mvmulpd\u001b[22m\u001b[39m\t\u001b[0m%ymm10\u001b[0m, \u001b[0m%ymm8\u001b[0m, \u001b[0m%ymm7\n",
      "\t\u001b[96m\u001b[1mvfmadd213pd\u001b[22m\u001b[39m\t\u001b[0m%ymm10\u001b[0m, \u001b[0m%ymm8\u001b[0m, \u001b[0m%ymm6    \u001b[90m# ymm6 = (ymm8 * ymm6) + ymm10\u001b[39m\n",
      "\t\u001b[96m\u001b[1mvfmadd213pd\u001b[22m\u001b[39m\t\u001b[0m%ymm7\u001b[0m, \u001b[0m%ymm9\u001b[0m, \u001b[0m%ymm6     \u001b[90m# ymm6 = (ymm9 * ymm6) + ymm7\u001b[39m\n",
      "\t\u001b[96m\u001b[1mvfnmsub213pd\u001b[22m\u001b[39m\t\u001b[0m%ymm4\u001b[0m, \u001b[0m%ymm9\u001b[0m, \u001b[0m%ymm7     \u001b[90m# ymm7 = -(ymm9 * ymm7) - ymm4\u001b[39m\n",
      "\t\u001b[96m\u001b[1mvdivpd\u001b[22m\u001b[39m\t\u001b[0m%ymm6\u001b[0m, \u001b[0m%ymm7\u001b[0m, \u001b[0m%ymm6\n",
      "\t\u001b[96m\u001b[1mvaddpd\u001b[22m\u001b[39m\t\u001b[0m%ymm6\u001b[0m, \u001b[0m%ymm5\u001b[0m, \u001b[0m%ymm5\n",
      "\t\u001b[96m\u001b[1mvaddpd\u001b[22m\u001b[39m\t\u001b[0m%ymm0\u001b[0m, \u001b[0m%ymm5\u001b[0m, \u001b[0m%ymm0\n",
      "\t\u001b[96m\u001b[1mvaddpd\u001b[22m\u001b[39m\t\u001b[0m%ymm1\u001b[0m, \u001b[0m%ymm5\u001b[0m, \u001b[0m%ymm1\n",
      "\t\u001b[96m\u001b[1mvaddpd\u001b[22m\u001b[39m\t\u001b[0m%ymm2\u001b[0m, \u001b[0m%ymm5\u001b[0m, \u001b[0m%ymm2\n",
      "\t\u001b[96m\u001b[1mvaddpd\u001b[22m\u001b[39m\t\u001b[0m%ymm3\u001b[0m, \u001b[0m%ymm5\u001b[0m, \u001b[0m%ymm3\n",
      "\t\u001b[96m\u001b[1mvmulpd\u001b[22m\u001b[39m\t\u001b[0m%ymm1\u001b[0m, \u001b[0m%ymm0\u001b[0m, \u001b[0m%ymm6\n",
      "\t\u001b[96m\u001b[1mvaddpd\u001b[22m\u001b[39m\t\u001b[0m%ymm0\u001b[0m, \u001b[0m%ymm1\u001b[0m, \u001b[0m%ymm0\n",
      "\t\u001b[96m\u001b[1mvmulpd\u001b[22m\u001b[39m\t\u001b[0m%ymm6\u001b[0m, \u001b[0m%ymm2\u001b[0m, \u001b[0m%ymm1\n",
      "\t\u001b[96m\u001b[1mvfmadd213pd\u001b[22m\u001b[39m\t\u001b[0m%ymm6\u001b[0m, \u001b[0m%ymm2\u001b[0m, \u001b[0m%ymm0     \u001b[90m# ymm0 = (ymm2 * ymm0) + ymm6\u001b[39m\n",
      "\t\u001b[96m\u001b[1mvfmadd213pd\u001b[22m\u001b[39m\t\u001b[0m%ymm1\u001b[0m, \u001b[0m%ymm3\u001b[0m, \u001b[0m%ymm0     \u001b[90m# ymm0 = (ymm3 * ymm0) + ymm1\u001b[39m\n",
      "\t\u001b[96m\u001b[1mvfnmsub213pd\u001b[22m\u001b[39m\t\u001b[0m%ymm4\u001b[0m, \u001b[0m%ymm3\u001b[0m, \u001b[0m%ymm1     \u001b[90m# ymm1 = -(ymm3 * ymm1) - ymm4\u001b[39m\n",
      "\t\u001b[96m\u001b[1mvdivpd\u001b[22m\u001b[39m\t\u001b[0m%ymm0\u001b[0m, \u001b[0m%ymm1\u001b[0m, \u001b[0m%ymm0\n",
      "\t\u001b[96m\u001b[1mmovq\u001b[22m\u001b[39m\t\u001b[0m%rdi\u001b[0m, \u001b[0m%rax\n",
      "\t\u001b[96m\u001b[1mvaddpd\u001b[22m\u001b[39m\t\u001b[0m%ymm0\u001b[0m, \u001b[0m%ymm5\u001b[0m, \u001b[0m%ymm0\n",
      "\t\u001b[96m\u001b[1mvmovapd\u001b[22m\u001b[39m\t\u001b[0m%ymm0\u001b[0m, \u001b[33m(\u001b[39m\u001b[0m%rdi\u001b[33m)\u001b[39m\n",
      "\t\u001b[96m\u001b[1mvzeroupper\u001b[22m\u001b[39m\n",
      "\t\u001b[96m\u001b[1mretq\u001b[22m\u001b[39m\n",
      "\t\u001b[96m\u001b[1mnopl\u001b[22m\u001b[39m\t\u001b[33m(\u001b[39m\u001b[0m%rax\u001b[0m,\u001b[0m%rax\u001b[33m)\u001b[39m\n"
     ]
    }
   ],
   "source": [
    "v = Vec(1.0, 2.0, 3.0, 4.0)\n",
    "\n",
    "# finally: dual-number-autodiff'ed, unrolled, vectorized, 😌\n",
    "@code_native debuginfo=:none get_roots(v, Val(4))"
   ]
  },
  {
   "cell_type": "markdown",
   "metadata": {},
   "source": [
    "## To wrap this up: microbenchmarking\n",
    "\n",
    "Apart from staring at assembly code, how about we actually run this"
   ]
  },
  {
   "cell_type": "code",
   "execution_count": 90,
   "metadata": {},
   "outputs": [
    {
     "name": "stderr",
     "output_type": "stream",
     "text": [
      "\u001b[32m\u001b[1m   Resolving\u001b[22m\u001b[39m package versions...\n",
      "\u001b[32m\u001b[1m  No Changes\u001b[22m\u001b[39m to `~/tutorial_julia_interactive/01_introduction/Project.toml`\n",
      "\u001b[32m\u001b[1m  No Changes\u001b[22m\u001b[39m to `~/tutorial_julia_interactive/01_introduction/Manifest.toml`\n"
     ]
    }
   ],
   "source": [
    "] add BenchmarkTools"
   ]
  },
  {
   "cell_type": "code",
   "execution_count": 91,
   "metadata": {},
   "outputs": [],
   "source": [
    "using BenchmarkTools"
   ]
  },
  {
   "cell_type": "code",
   "execution_count": 92,
   "metadata": {},
   "outputs": [
    {
     "data": {
      "text/plain": [
       "BenchmarkTools.Trial: \n",
       "  memory estimate:  0 bytes\n",
       "  allocs estimate:  0\n",
       "  --------------\n",
       "  minimum time:     11.325 μs (0.00% GC)\n",
       "  median time:      11.333 μs (0.00% GC)\n",
       "  mean time:        11.357 μs (0.00% GC)\n",
       "  maximum time:     29.736 μs (0.00% GC)\n",
       "  --------------\n",
       "  samples:          10000\n",
       "  evals/sample:     1"
      ]
     },
     "execution_count": 92,
     "metadata": {},
     "output_type": "execute_result"
    }
   ],
   "source": [
    "# Non-vectorized double precision\n",
    "@benchmark get_roots(start, iterations) setup=(start=2.0; iterations=Val(1000))"
   ]
  },
  {
   "cell_type": "code",
   "execution_count": 93,
   "metadata": {},
   "outputs": [
    {
     "data": {
      "text/plain": [
       "BenchmarkTools.Trial: \n",
       "  memory estimate:  0 bytes\n",
       "  allocs estimate:  0\n",
       "  --------------\n",
       "  minimum time:     128.537 μs (0.00% GC)\n",
       "  median time:      128.564 μs (0.00% GC)\n",
       "  mean time:        129.209 μs (0.00% GC)\n",
       "  maximum time:     253.002 μs (0.00% GC)\n",
       "  --------------\n",
       "  samples:          10000\n",
       "  evals/sample:     1"
      ]
     },
     "execution_count": 93,
     "metadata": {},
     "output_type": "execute_result"
    }
   ],
   "source": [
    "# Double-double precision version\n",
    "@benchmark get_roots(start, iterations) setup=(start=Float64x2(2.0); iterations=Val(1000))"
   ]
  },
  {
   "cell_type": "code",
   "execution_count": 94,
   "metadata": {},
   "outputs": [
    {
     "data": {
      "text/plain": [
       "BenchmarkTools.Trial: \n",
       "  memory estimate:  0 bytes\n",
       "  allocs estimate:  0\n",
       "  --------------\n",
       "  minimum time:     18.305 μs (0.00% GC)\n",
       "  median time:      18.339 μs (0.00% GC)\n",
       "  mean time:        18.891 μs (0.00% GC)\n",
       "  maximum time:     43.056 μs (0.00% GC)\n",
       "  --------------\n",
       "  samples:          10000\n",
       "  evals/sample:     1"
      ]
     },
     "execution_count": 94,
     "metadata": {},
     "output_type": "execute_result"
    }
   ],
   "source": [
    "# Vectorized version\n",
    "@benchmark get_roots(start, iterations) setup=(start=Vec(1.0, 2.0, 3.0, 4.0); iterations=Val(1000))"
   ]
  },
  {
   "cell_type": "markdown",
   "metadata": {},
   "source": [
    "Julia could be used to implement trig & special functions. In fact many trig functions in Julia are already implemented in Julia."
   ]
  },
  {
   "cell_type": "code",
   "execution_count": 95,
   "metadata": {},
   "outputs": [
    {
     "data": {
      "text/html": [
       "sin(x::<b>T</b>)<i> where T<:Union{Float32, Float64}</i> in Base.Math at <a href=\"https://github.com/JuliaLang/julia/tree/f9720dc2ebd6cd9e3086365f281e62506444ef37/base/special/trig.jl#L29\" target=\"_blank\">special/trig.jl:29</a>"
      ],
      "text/plain": [
       "sin(x::T) where T<:Union{Float32, Float64} in Base.Math at special/trig.jl:29"
      ]
     },
     "execution_count": 95,
     "metadata": {},
     "output_type": "execute_result"
    }
   ],
   "source": [
    "@which sin(1.0) # for instance this guy"
   ]
  },
  {
   "cell_type": "code",
   "execution_count": null,
   "metadata": {},
   "outputs": [],
   "source": []
  }
 ],
 "metadata": {
  "kernelspec": {
   "display_name": "Julia 1.6.0",
   "language": "julia",
   "name": "julia-1.6"
  },
  "language_info": {
   "file_extension": ".jl",
   "mimetype": "application/julia",
   "name": "julia",
   "version": "1.6.0"
  }
 },
 "nbformat": 4,
 "nbformat_minor": 4
}
