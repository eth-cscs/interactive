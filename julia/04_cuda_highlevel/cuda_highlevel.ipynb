{
 "cells": [
  {
   "cell_type": "code",
   "execution_count": 12,
   "metadata": {},
   "outputs": [
    {
     "name": "stderr",
     "output_type": "stream",
     "text": [
      "\u001b[32m\u001b[1m  Activating\u001b[22m\u001b[39m environment at `~/tutorial_julia_interactive/04_cuda_highlevel/Project.toml`\n"
     ]
    }
   ],
   "source": [
    "] activate ."
   ]
  },
  {
   "cell_type": "code",
   "execution_count": 13,
   "metadata": {},
   "outputs": [],
   "source": [
    "] instantiate"
   ]
  },
  {
   "cell_type": "markdown",
   "metadata": {},
   "source": [
    "# Using the GPU without writing all the kernels by hand\n",
    "\n",
    "The fact that we can easily write generic kernels in Julia is nice, but there are many cases where you can do array programming & calling into libraries to do the heavy lifting.\n",
    "\n",
    "Julia allows you to fuse scalar operations, it's called broadcasting. Quite often all you need is to add some dots, and have the same code work on the CPU & GPU...\n",
    "\n",
    "In this example we'll look at a partial differential equation that comes up in a time-stepping method, and we solve it using FFT's + broadcasting operations."
   ]
  },
  {
   "cell_type": "code",
   "execution_count": 14,
   "metadata": {},
   "outputs": [],
   "source": [
    "# a separate package defines some interfaces / types\n",
    "using AbstractFFTs: Plan, plan_fft!\n",
    "\n",
    "# And FFTW and CUDA implement them\n",
    "using FFTW, CUDA\n",
    "using CUDA.CUFFT\n",
    "using CUDA: @sync as @cusync\n",
    "using LinearAlgebra\n",
    "\n",
    "FFTW.set_num_threads(12) # <- FFTW disables threading by default -- make sure to enable it. Note: you can also get the MKL version through FFTW!"
   ]
  },
  {
   "cell_type": "code",
   "execution_count": 15,
   "metadata": {},
   "outputs": [],
   "source": [
    "\"\"\"\n",
    "    time_step!(u, fft_plan, p)\n",
    "\n",
    "Explanations:\n",
    "\n",
    "1. Generate a 3D array with nice visualization properties.\n",
    "\n",
    "2. Obtain approximately fractal Brownian noise, appropriately damping\n",
    "   the high frequencies of Fourier transformed spatial white noise,\n",
    "   and (inverse) Fourier transforming the result back into the spatial domain.\n",
    " \n",
    "3. Do a backward Euler time step on the fractional PDE\n",
    "\n",
    "       du(x, t)/dt = Δᵖu(x, t).\n",
    "\n",
    "   Discretize in time with time step = 1:\n",
    "\n",
    "         uₜ₊₁ - uₜ = Δᵖuₜ₊₁\n",
    "     (-Δᵖ + 1)uₜ₊₁ = uₜ\n",
    "   (|ξ|²ᵖ + 1)ũₜ₊₁ = ũₜ                  (Forward Fourier transform: \\tilde<tab> gives you the wiggle)\n",
    "              ũₜ₊₁ = ũₜ / (|ξ|²ᵖ + 1)    (Scalar updates)\n",
    "              uₜ₊₁ = (ũₜ / (|ξ|²ᵖ + 1))̃  (Inverse Fourier transform, unwiggle!)\n",
    "\"\"\"\n",
    "function time_step!(\n",
    "        uₜ::AbstractArray{T,3} = randn(ComplexF64, 128, 128, 128),\n",
    "        𝓕::Plan{T} = plan_fft!(uₜ),\n",
    "        𝓕⁻¹::Plan{T} = plan_ifft!(uₜ),\n",
    "        p = real(T)(0.75)) where {T<:Complex}\n",
    "    \n",
    "    @assert size(uₜ, 1) == size(uₜ, 2) == size(uₜ, 3)\n",
    "    \n",
    "    n = size(uₜ, 1)\n",
    "\n",
    "    # Note: uₜ is modified in-place if you provide an in-place plan -- no copy is made\n",
    "    @cusync ũₜ = 𝓕 * uₜ\n",
    "    \n",
    "    # Discrete Fourier transforms indices are confusing more often than not\n",
    "    # In a perfect where I have time on my hands I would do this without the\n",
    "    # temporary, and rather us something like n .- abs.(-n÷2:n÷2) lazily -- but then again,\n",
    "    # it's only O(n) memory in an O(n^3) problem.\n",
    "    @cusync ξ = maybe_to_device(uₜ)(Float32[0:n÷2; n÷2-1:-1:(iseven(n) ? 1 : 0)])\n",
    "\n",
    "    ξ₁ = reshape(ξ, :, 1, 1)\n",
    "    ξ₂ = reshape(ξ, 1, :, 1) \n",
    "    ξ₃ = reshape(ξ, 1, 1, :)\n",
    "    \n",
    "    # The broadcasting bit -- fuses operations.\n",
    "    @cusync ũₜ ./= 1 .+ (ξ₁.^2 .+ ξ₂.^2 .+ ξ₃.^2) .^ p\n",
    "    \n",
    "    # Also in-place\n",
    "    @cusync uₜ₊₁ = 𝓕⁻¹ * ũₜ\n",
    "    \n",
    "    return uₜ₊₁\n",
    "end\n",
    "\n",
    "# If I work with CuArrays I want to get a CuVector constructor\n",
    "maybe_to_device(::CuArray) = CuVector\n",
    "maybe_to_device(::AbstractArray) = identity;"
   ]
  },
  {
   "cell_type": "markdown",
   "metadata": {},
   "source": [
    "## 3D volume plots in Julia using Makie.jl\n",
    "\n",
    "There is one thing I didn't figure out in time: remote rendering. But it is implemented in Makie.jl and we should set it up!"
   ]
  },
  {
   "cell_type": "code",
   "execution_count": 16,
   "metadata": {},
   "outputs": [],
   "source": [
    "# WGLMakie is a webgl plotting library\n",
    "using JSServe, WGLMakie\n",
    "\n",
    "Page(exportable=true, offline=true);\n",
    "set_theme!(resolution=(1024, 1024))"
   ]
  },
  {
   "cell_type": "code",
   "execution_count": 17,
   "metadata": {},
   "outputs": [
    {
     "data": {
      "text/plain": [
       "150×150×150 Array{Float32, 3}:\n",
       "[:, :, 1] =\n",
       "  0.0057804     0.00445605    0.00100542   …   0.00444631    0.00770759\n",
       "  0.00253026    0.000527489  -7.5042f-5        0.00218634    0.000308043\n",
       " -0.000399728  -0.00163142   -0.00197742      -3.11043f-5    0.00132125\n",
       " -0.00230765   -0.00678148   -0.00637932      -0.00216577    0.00241848\n",
       " -0.00281224   -0.00550273   -0.00468624      -0.00285926   -0.000255659\n",
       " -0.00285854   -0.00529108   -0.00365866   …  -0.00261306   -0.000906653\n",
       " -0.00292633   -0.00485817   -0.00437061      -0.0040111    -0.00355011\n",
       " -0.00574465   -0.00684693   -0.00321379      -0.00210126   -0.00763699\n",
       " -0.00423064   -0.00641217   -0.00391258      -0.0036463    -0.0051799\n",
       "  0.00342602   -0.00262055   -0.00690729      -0.00596435   -0.00371351\n",
       "  0.000521163  -0.0021999    -0.00217574   …  -0.0051417    -0.00117805\n",
       " -0.00293995   -0.00312833   -0.00133278      -0.000923452  -0.00307118\n",
       " -0.00464156   -0.0051453     0.000361606     -0.000415342  -0.00317865\n",
       "  ⋮                                        ⋱                \n",
       "  0.00392643    0.00308374    0.00106703       0.000284263   0.00325329\n",
       "  0.00489992    0.00227969    0.00369678       0.00469185    0.0035432\n",
       "  0.00577787    0.00307215    0.00446597   …   0.00383614    0.00243706\n",
       "  0.00508179    0.00489559    0.00749308       0.00286301    0.00274232\n",
       "  0.00313639    0.00286813    0.00537814       0.000348373   0.00234948\n",
       "  0.00308103    0.00279114    0.00313299      -0.00308995    0.00120849\n",
       "  0.00218452    0.00189757    0.00362563      -0.00491022   -0.00219985\n",
       " -0.0002447    -0.00169003    0.00017612   …  -0.00203655    0.000401677\n",
       " -0.000442651  -0.00247156    0.0017593       -0.00246194    0.0017576\n",
       "  0.00353504    0.000666449  -0.00128624      -0.00159824   -0.000880567\n",
       "  0.00511921    0.00385643    0.00529573       0.000324387   0.00111023\n",
       "  0.00446766    0.00435861    0.00224427       0.000698763   0.00424101\n",
       "\n",
       "[:, :, 2] =\n",
       "  0.00265622    0.00132954    0.00144597   …   0.00323039    0.00456141\n",
       "  0.00117416   -0.000363787  -0.000281617      0.00143913    0.0033388\n",
       " -0.000885144  -0.00276075    0.00028282       0.00146796    0.0012585\n",
       "  0.00132309   -0.00119315   -0.00176201      -0.00121561   -0.0018168\n",
       " -0.00194814   -0.0018552    -0.000429375     -0.00366095   -0.00245951\n",
       " -0.00433972   -0.00389311   -0.00207894   …  -0.00269103   -0.00175026\n",
       " -0.00368726   -0.00192647   -0.00167498      -0.00154769   -0.00459825\n",
       " -0.00642978   -0.00481197   -4.68666f-5      -0.000901232  -0.0064539\n",
       " -0.00574418   -0.00567989   -0.00492254      -0.00172318   -0.00634232\n",
       " -0.000172556  -0.00272727   -0.00562987      -0.00438349   -0.00295056\n",
       " -0.0020578    -0.00165165   -0.00477955   …  -0.00610087   -0.00130253\n",
       " -0.00762119   -0.00317147   -0.00378156      -0.00677278   -0.00799671\n",
       " -0.00675894   -0.00544047   -0.00411587      -0.000965432  -0.00680111\n",
       "  ⋮                                        ⋱                \n",
       "  0.00101696    0.00455362   -0.00148366       0.00279779    0.00280423\n",
       "  0.000568255   0.00426152   -6.55252f-6      -0.00237352   -0.000647391\n",
       "  0.00281827    0.00268173    0.00211142   …  -0.000729445   0.0026417\n",
       "  0.000613172   0.00181433    0.00433135      -0.000609237   0.00171351\n",
       "  0.00364765   -0.000579542   0.000623434     -0.00415635   -0.0021147\n",
       "  0.00365892    0.00208393    0.00117169      -0.00540877   -0.000481921\n",
       "  0.00110322   -0.00126167   -0.000692164     -0.00105211    0.00249373\n",
       "  0.000858426  -0.00302324   -0.000761167  …  -0.0037057    -0.0014808\n",
       "  0.00342752   -0.00315341   -0.00149417      -0.00134236   -0.00261941\n",
       "  0.00505808    0.000136415  -0.0025047        0.00241939    0.00152609\n",
       "  0.00432441    0.00113601    0.000892362      0.00319032    0.00282359\n",
       "  0.00522134    0.00355862    0.000766422      0.0016144     0.00367192\n",
       "\n",
       "[:, :, 3] =\n",
       " -0.000331864   0.00164773    0.00466079   …  -0.00194877   -0.00266402\n",
       "  0.00114667    0.00186048    0.0027668       -0.00389536   -1.04141f-5\n",
       "  0.00250225   -0.000214689   0.001529        -0.000192095  -0.00022148\n",
       " -0.00109264   -3.79546f-5    0.00126987       0.000620928  -0.000506109\n",
       " -0.000620992  -0.00285584   -0.0023229       -0.00211876   -0.00251035\n",
       " -0.00505768   -0.00210081   -0.00239095   …  -0.00138998   -0.00341213\n",
       " -0.00587441   -0.00243615   -0.00211889      -0.00172501   -0.002153\n",
       " -0.00217701   -0.00423648   -0.00352608      -0.00644268   -0.00390045\n",
       " -0.00408417   -0.00695547   -0.00515383      -0.00470697   -0.00641182\n",
       " -0.00427667   -0.00351781   -0.00397824      -0.000949353  -0.00413173\n",
       " -0.00393578   -0.00295623   -0.00409526   …  -0.0027098    -0.00420267\n",
       " -0.00528204   -0.00495889   -0.00493395      -0.00340462   -0.00551944\n",
       " -0.00519703   -0.0011765    -0.00330539      -0.000983753  -0.00404785\n",
       "  ⋮                                        ⋱                \n",
       "  0.00332729    0.00156902    0.00255903      -0.000705609  -0.000268792\n",
       "  0.00452348    0.00401807    0.000832736     -0.0016519     0.00175693\n",
       "  0.00650735    0.00426245   -0.00571363   …  -0.00140733    0.00185165\n",
       "  0.000318791   0.00135969   -0.000158292      0.000133667   6.11564f-5\n",
       " -0.0046493    -0.000968069  -0.00386468      -0.000835277  -0.00548527\n",
       " -0.0030693    -0.00211925   -0.00301218      -0.0029437    -0.00354209\n",
       "  0.000288701  -0.002578      0.00075713       0.0026743     0.0022724\n",
       " -0.000704205  -0.0015757    -0.00175031   …  -0.000993987  -0.00147399\n",
       "  0.00209098    0.0010004    -0.000657637     -0.00106721   -0.00302539\n",
       "  0.00187949   -0.00263099   -0.00173949       0.000230938   0.000936529\n",
       "  0.00208206    0.00259487   -0.000100196     -0.0020768    -0.0011578\n",
       " -0.00014372    0.00452779    0.00139967       0.000341808  -0.00237843\n",
       "\n",
       "...\n",
       "\n",
       "[:, :, 148] =\n",
       "  0.000333322   0.00344755    0.00554347   …  -0.000242488  -0.000469214\n",
       "  0.00326353    0.00578952    0.00451937       0.00152716   -0.000329352\n",
       " -0.000347967   0.00185394   -7.07229f-5       0.00113806   -0.00156805\n",
       " -0.00221231   -0.000417977   0.000718747     -0.00415739   -0.00407466\n",
       " -0.00160166   -0.00105234    0.000140002      0.00145755    0.000619603\n",
       "  0.000202288   0.000932498   0.00375841   …   0.00259249    0.00195673\n",
       "  0.00288923   -3.81246f-5    0.00420347       0.00132991    0.00273427\n",
       "  0.00181956   -0.000145532   0.00106412       0.00729554    0.00374664\n",
       "  0.000781079   0.00263948    0.00231158       0.0045429     0.00250302\n",
       " -0.00195695    0.00235386    0.00181011       5.08198f-5   -0.000956019\n",
       " -0.00571134   -0.00357368   -0.00140609   …  -0.00485853   -0.00241765\n",
       " -0.00355658   -0.00773888   -0.00791472       0.00122999   -0.00225878\n",
       " -0.00609642   -0.00439692   -0.00523541       0.00460133   -0.00087205\n",
       "  ⋮                                        ⋱                \n",
       " -0.00180963   -0.00105164    0.00114191      -0.00202047   -0.00212862\n",
       " -0.00203104   -0.00288759   -0.00180255       0.000153269   0.00128116\n",
       "  0.00247176   -0.00184987    0.000945927  …   0.000160782   0.00158345\n",
       "  0.0036393     0.00302587    0.00150937       0.00335478    0.00195044\n",
       "  0.00206818    0.00180993    0.00209822      -0.0014148     0.00213477\n",
       "  0.000664008   0.00135338    0.000979326     -0.0022379     0.00128902\n",
       "  0.00217554    0.00124597   -0.00209202       0.000845326  -4.7702f-5\n",
       "  0.00528804    0.00532184    0.000254965  …  -0.00282573   -0.000185882\n",
       "  0.00308202    0.00334996    0.0030626       -0.000733114  -0.00149142\n",
       " -0.000608369   0.000541984   0.000510869      0.000672907   0.00152688\n",
       " -0.000741384   0.00035172    0.0031615        0.00194773    0.00366729\n",
       " -0.000967552   6.66766f-5    0.00264824       0.00111042   -0.00118088\n",
       "\n",
       "[:, :, 149] =\n",
       "  0.00232002    0.000525075   0.00514911   …   0.00365685    0.00471165\n",
       "  0.00349876    0.000875312  -0.000580458      0.00526673    0.00453043\n",
       "  0.00216044    0.000242934  -0.00315968       0.000958331   0.00259058\n",
       " -0.000914763  -0.000870421  -0.0006783        0.00128624    0.00132167\n",
       " -0.0015175    -0.00485422   -0.00524132      -0.000578379   0.00218826\n",
       " -0.00335725   -0.0031043    -0.00102761   …  -0.00062152   -0.000709606\n",
       "  0.00067708    0.00176291    0.00321287      -0.00117162   -0.000670726\n",
       "  0.00273242    0.00283781   -0.00103429       0.00197446    0.00221984\n",
       "  0.00261312    0.000956992   0.00125258      -0.000705786   0.00248645\n",
       " -0.00303687   -0.000451486   0.00117892      -0.00316987   -0.000932113\n",
       " -0.000512428  -0.000613169  -0.0019057    …   0.000502017   0.00128805\n",
       "  0.000578432  -0.00422322   -0.00342121      -0.000129948   0.00167242\n",
       " -0.000724445  -0.00355581   -0.000975179      0.0017743     0.00107845\n",
       "  ⋮                                        ⋱                \n",
       " -0.00365977   -0.00167441   -0.00199427      -0.00142719   -0.00350708\n",
       " -0.000135202  -0.00182246   -0.00243          0.000500764  -0.000735377\n",
       "  0.00287926    0.00107633    0.000712186  …   0.0010959    -0.000115746\n",
       "  0.0047728     0.00372076    0.00319101       0.00344785    0.0014266\n",
       "  0.00733394    0.00813325    0.0035413        0.00285037    0.00437105\n",
       "  0.00412951    0.00494438    0.00295338      -0.000843539   0.000468262\n",
       "  0.00398577    0.00143988    0.000636942     -0.00173374   -0.00021153\n",
       "  0.00545265    0.00273782    0.000546396  …  -0.00307357   -0.000720654\n",
       "  0.0016766     0.00408504   -0.000434384      0.00206631   -0.00044795\n",
       "  0.00308647    0.00280733    0.000775289     -0.00142769    0.000174149\n",
       "  0.00310792    0.00405708    0.00319132      -0.000573035   0.00321674\n",
       "  0.00414774    0.00179998    0.00474481      -0.000935755   0.00527677\n",
       "\n",
       "[:, :, 150] =\n",
       "  0.00589452    0.000547824  -0.00042024   …   0.00488951    0.00741806\n",
       " -0.000352473  -0.000600267   9.05784f-5       0.00406037    0.00271612\n",
       "  0.000832253  -0.000373841  -0.00427347       0.00159992    0.00210049\n",
       "  0.00104493   -0.0036934    -0.00421354      -0.00107802    0.000662967\n",
       " -0.00341531   -0.0051171    -0.00664162      -0.0026767    -0.00294853\n",
       " -0.0054017    -0.00607873   -0.00522883   …  -0.00284368   -0.00326072\n",
       " -0.00332705   -0.00361534   -0.00207015      -0.00261645   -0.00416578\n",
       " -0.00171733   -0.00509893   -0.0070851       -0.00416397   -0.000775964\n",
       " -0.00255298   -0.00577333   -0.00363208      -0.00514872   -0.00248597\n",
       " -0.00192751   -0.00182037   -0.00132176      -0.00110387   -0.00101735\n",
       "  0.00066162    0.00106875   -0.00458472   …   0.000531075  -0.00179919\n",
       "  0.00286273   -0.00143536   -0.00299249       0.000416512  -0.00138102\n",
       "  0.00183796   -0.00208116   -0.000516867      0.000283635   0.00317255\n",
       "  ⋮                                        ⋱                \n",
       "  0.00195153   -0.000993333   0.00037763      -0.000287833   0.00214762\n",
       "  0.00365675    0.00189468    0.00115968       0.00476717    0.00442773\n",
       "  0.00718457    0.00453088    0.00336324   …   0.00265142   -0.000255528\n",
       "  0.00724252    0.00414392    0.00680618       0.00261587    0.00462874\n",
       "  0.00566158    0.00598082    0.00506006       0.000853378   0.00195378\n",
       "  8.83854f-6    0.00348629    0.00125736      -0.00229672   -0.00157971\n",
       " -0.00116035    0.0017673     0.00332536      -0.00476936   -0.00178245\n",
       "  0.00279855   -0.000872576   0.00124499   …  -0.00136308   -3.75231f-6\n",
       "  0.00475081    0.00259439   -0.00239379      -0.00347518    0.00112411\n",
       "  0.0030068     0.00243264   -0.00138364      -0.00358045   -0.00207967\n",
       "  0.00439019    0.00525342    0.00460506      -0.00125317    0.00112235\n",
       "  0.003993      0.00370203    0.00283232       0.000864317   0.00508987"
      ]
     },
     "execution_count": 17,
     "metadata": {},
     "output_type": "execute_result"
    }
   ],
   "source": [
    "# Compute a solution on the GPU\n",
    "u = Complex.(CUDA.randn(Float32, 150, 150, 150))\n",
    "\n",
    "# Do a step\n",
    "time_step!(u)\n",
    "\n",
    "# Get the real part and download to CPU\n",
    "u_real = Array(real(u))\n",
    "\n",
    "# Note to self: fix his -- currently plotting serializes data and sends it to the browser\n",
    "# it takes forever! better would be to do remote rendering\n",
    "# volume(u_real, colorrange=extrema(u_real))\n"
   ]
  },
  {
   "cell_type": "markdown",
   "metadata": {},
   "source": [
    "## Performance comparison between CPU & GPU"
   ]
  },
  {
   "cell_type": "markdown",
   "metadata": {},
   "source": [
    "Let's runs our time stepper on the CPU and GPU. Let's add a validation test & compare GPU speedup"
   ]
  },
  {
   "cell_type": "code",
   "execution_count": 18,
   "metadata": {},
   "outputs": [
    {
     "name": "stdout",
     "output_type": "stream",
     "text": [
      "n = 256\n",
      "T = ComplexF64\n",
      "p = 0.75\n",
      "\u001b[32m\u001b[1mTest Passed\u001b[22m\u001b[39m\n",
      "CPU took: 1.8916s\n",
      "GPU took: 0.0105s\n",
      "That's a 179.64× speedup\n"
     ]
    }
   ],
   "source": [
    "# Some parameters for our problem\n",
    "\n",
    "n = 256\n",
    "T = ComplexF64\n",
    "p = 0.75\n",
    "\n",
    "@show n T p\n",
    "\n",
    "# Initial random value\n",
    "uₜ = randn(T, n, n, n)\n",
    "uₜ_d = CuArray(uₜ)\n",
    "\n",
    "# Compute the FFT plan ahead of time -- no part of our benchmark\n",
    "# CPU\n",
    "𝓕     = plan_fft!(uₜ);\n",
    "𝓕⁻¹   = plan_ifft!(uₜ)\n",
    "\n",
    "# GPU\n",
    "𝓕_d   = plan_fft!(uₜ_d);\n",
    "𝓕⁻¹_d = plan_ifft!(uₜ_d)\n",
    "\n",
    "# Validate CPU & GPU results\n",
    "using LinearAlgebra, Test\n",
    "println(@test norm(time_step!(uₜ, 𝓕, 𝓕⁻¹) - Array(time_step!(uₜ_d, 𝓕_d, 𝓕⁻¹_d))) < 100eps(real(T)))\n",
    "\n",
    "# Run on CPU\n",
    "cpu_time = @elapsed time_step!(uₜ, 𝓕, 𝓕⁻¹, 0.75)\n",
    "\n",
    "# Run it GPU\n",
    "gpu_time = @elapsed time_step!(uₜ_d, 𝓕_d, 𝓕⁻¹_d, 0.75)\n",
    "\n",
    "println(\"CPU took: \", round(cpu_time, digits=4), \"s\")\n",
    "println(\"GPU took: \", round(gpu_time, digits=4), \"s\")\n",
    "println(\"That's a \", round(cpu_time / gpu_time, digits=2), \"× speedup\")\n",
    "\n",
    "nothing"
   ]
  },
  {
   "cell_type": "markdown",
   "metadata": {},
   "source": [
    "Okay, tests are passing -- but the speedup is an order of magnitude larger than theoretically possible, that can't be correct?"
   ]
  },
  {
   "cell_type": "markdown",
   "metadata": {},
   "source": [
    "And now we hit some quirks in Julia on the CPU.\n",
    "\n",
    "Although broadcasting and loop fusion looks pretty, it can be slow! In particular the `(ξ₁.^2 .+ ξ₂.^2 .+ ξ₃.^2)` bit actually allocates a temporary matrix of size O(n^3) Also it's not threaded on the CPU... it's 10x slower than the fft/ffti computation.\n",
    "\n",
    "So basically:\n",
    "- create a pull request to julia to enable threading by default in broadcasting\n",
    "- create a pull request to julia to handle nested broadcasting lazily to avoid big temporaries\n",
    "- use LoopVectorization.jl -- but it does not handle interleaved loads yet (you'd have to change from CRCRCR... to CCCRRR storage for vectorized loads/stores)\n",
    "\n",
    "### From broadcasting to handwritten loops on the CPU\n",
    "Let's see if the performance hit is actually fixable"
   ]
  },
  {
   "cell_type": "markdown",
   "metadata": {},
   "source": [
    "And it turns out that 65536 is a multiple of the \"critical stride\", meaning that loads along the third axis will always use a tiny fraction of the memory cache. So let's try again with $n \\not= 2^k$"
   ]
  },
  {
   "cell_type": "code",
   "execution_count": 19,
   "metadata": {},
   "outputs": [
    {
     "data": {
      "text/plain": [
       "time_step_attempt_2! (generic function with 6 methods)"
      ]
     },
     "execution_count": 19,
     "metadata": {},
     "output_type": "execute_result"
    }
   ],
   "source": [
    "using OffsetArrays\n",
    "\n",
    "\"\"\"\n",
    "Fallback version for the CPU\n",
    "\"\"\"\n",
    "function solve_in_fourier_space!(ũₜ::AbstractArray{T,3}, p) where {T}\n",
    "    n = size(ũₜ, 1)\n",
    "    n_half = n÷2\n",
    "    from, to = -n_half, n_half - iseven(n)    \n",
    "    ũₜ_offset = OffsetArray(ũₜ, from:to, from:to, from:to)\n",
    "    \n",
    "    Threads.@threads for k = axes(ũₜ_offset, 3)\n",
    "        ξ₃ = n_half - abs(k)\n",
    "        for j = axes(ũₜ_offset, 2)\n",
    "            ξ₂ = n_half - abs(j)\n",
    "            @simd for i = axes(ũₜ_offset, 1)\n",
    "                ξ₁ = n_half - abs(i)\n",
    "                @inbounds ũₜ_offset[i, j, k] /= one(real(T)) + (ξ₁*ξ₁ + ξ₂*ξ₂ + ξ₃*ξ₃)^p\n",
    "            end\n",
    "        end\n",
    "    end\n",
    "    \n",
    "    return ũₜ\n",
    "end\n",
    "\n",
    "\"\"\"\n",
    "Same old GPU version\n",
    "\"\"\"\n",
    "function solve_in_fourier_space!(ũₜ::CuArray{T,3}, p) where {T}\n",
    "    n = size(ũₜ, 1)\n",
    "    ξ = CuVector(real(T)[0:n÷2; n÷2-1:-1:(iseven(n) ? 1 : 0)])\n",
    "    ξ₁ = reshape(ξ, :, 1, 1)\n",
    "    ξ₂ = reshape(ξ, 1, :, 1) \n",
    "    ξ₃ = reshape(ξ, 1, 1, :)\n",
    "    CUDA.@sync ũₜ ./= one(real(T)) .+ (ξ₁.^2 .+ ξ₂.^2 .+ ξ₃.^2) .^ p\n",
    "    return real.(ũₜ)\n",
    "end\n",
    "\n",
    "function time_step_attempt_2!(uₜ::AbstractArray{T,3} = randn(ComplexF64, 128, 128, 128), p = real(T)(0.75)) where {T<:Complex}\n",
    "    @assert size(uₜ, 1) == size(uₜ, 2) == size(uₜ, 3)\n",
    "    n = size(uₜ, 1)\n",
    "    fft_plan = plan_fft!(uₜ)\n",
    "    CUDA.@sync ũₜ = fft_plan * uₜ\n",
    "    solve_in_fourier_space!(ũₜ, p)\n",
    "    CUDA.@sync uₜ₊₁ = inv(fft_plan) * ũₜ\n",
    "    CUDA.@sync real_data = real.(uₜ₊₁)\n",
    "    \n",
    "    return real_data\n",
    "end\n",
    "\n",
    "function time_step_attempt_2!(\n",
    "        uₜ::AbstractArray{T,3} = randn(ComplexF64, 128, 128, 128),\n",
    "        𝓕::Plan{T} = plan_fft!(uₜ),\n",
    "        𝓕⁻¹::Plan{T} = plan_ifft!(uₜ),\n",
    "        p = real(T)(0.75)) where {T<:Complex}\n",
    "    \n",
    "    @assert size(uₜ, 1) == size(uₜ, 2) == size(uₜ, 3)\n",
    "    \n",
    "    n = size(uₜ, 1)\n",
    "\n",
    "    # Note: uₜ is modified in-place if you provide an in-place plan -- no copy is made\n",
    "    @cusync ũₜ = 𝓕 * uₜ\n",
    "    \n",
    "    # Discrete Fourier transforms indices are confusing more often than not\n",
    "    # In a perfect where I have time on my hands I would do this without the\n",
    "    # temporary, and rather us something like n .- abs.(-n÷2:n÷2) lazily -- but then again,\n",
    "    # it's only O(n) memory in an O(n^3) problem.\n",
    "    @cusync ξ = solve_in_fourier_space!(ũₜ, p)\n",
    "    \n",
    "    # Also in-place\n",
    "    @cusync uₜ₊₁ = 𝓕⁻¹ * ũₜ\n",
    "    \n",
    "    return uₜ₊₁\n",
    "end"
   ]
  },
  {
   "cell_type": "code",
   "execution_count": 23,
   "metadata": {},
   "outputs": [
    {
     "name": "stdout",
     "output_type": "stream",
     "text": [
      "\u001b[32m\u001b[1mTest Passed\u001b[22m\u001b[39m\n",
      "CPU took: 0.3868s\n",
      "GPU took: 0.0118s\n",
      "That's a 32.69× speedup\n"
     ]
    }
   ],
   "source": [
    "n = 256\n",
    "\n",
    "# Initial random value\n",
    "uₜ = randn(T, n, n, n)\n",
    "uₜ_d = CuArray(uₜ)\n",
    "\n",
    "# Compute the FFT plan ahead of time -- no part of our benchmark\n",
    "# CPU\n",
    "𝓕     = plan_fft!(uₜ);\n",
    "𝓕⁻¹   = plan_ifft!(uₜ)\n",
    "\n",
    "# GPU\n",
    "𝓕_d   = plan_fft!(uₜ_d);\n",
    "𝓕⁻¹_d = plan_ifft!(uₜ_d)\n",
    "\n",
    "# Validate CPU & GPU results\n",
    "using LinearAlgebra, Test\n",
    "println(@test norm(time_step_attempt_2!(uₜ, 𝓕, 𝓕⁻¹) - Array(time_step_attempt_2!(uₜ_d, 𝓕_d, 𝓕⁻¹_d))) < 100eps(real(T)))\n",
    "\n",
    "# Run on CPU\n",
    "cpu_time = @elapsed time_step_attempt_2!(uₜ, 𝓕, 𝓕⁻¹, 0.75)\n",
    "\n",
    "# Run it GPU\n",
    "gpu_time = @elapsed time_step_attempt_2!(uₜ_d, 𝓕_d, 𝓕⁻¹_d, 0.75)\n",
    "\n",
    "println(\"CPU took: \", round(cpu_time, digits=4), \"s\")\n",
    "println(\"GPU took: \", round(gpu_time, digits=4), \"s\")\n",
    "println(\"That's a \", round(cpu_time / gpu_time, digits=2), \"× speedup\")\n",
    "\n",
    "nothing"
   ]
  },
  {
   "cell_type": "markdown",
   "metadata": {},
   "source": [
    "That's slightly more reasonable -- but still... 33x is far from the theoretical ~10x gap!"
   ]
  },
  {
   "cell_type": "markdown",
   "metadata": {},
   "source": [
    "Turns out:\n",
    "\n",
    "Although $n = 256$  is the perfect size for FFT, it's a horrible size for memory. The strides of this array look like this:"
   ]
  },
  {
   "cell_type": "code",
   "execution_count": 24,
   "metadata": {},
   "outputs": [
    {
     "data": {
      "text/plain": [
       "(1, 256, 65536)"
      ]
     },
     "execution_count": 24,
     "metadata": {},
     "output_type": "execute_result"
    }
   ],
   "source": [
    "strides(uₜ)"
   ]
  },
  {
   "cell_type": "markdown",
   "metadata": {},
   "source": [
    "The solution is to add a bit of padding to the arrays, maybe in each dimension to be sure."
   ]
  },
  {
   "cell_type": "code",
   "execution_count": 26,
   "metadata": {},
   "outputs": [
    {
     "name": "stdout",
     "output_type": "stream",
     "text": [
      "CPU took: 0.2423s\n",
      "That's a 20.48× speedup\n"
     ]
    }
   ],
   "source": [
    "n = 256\n",
    "\n",
    "# Try pad = 0 vs 1 2 3\n",
    "pad = 2\n",
    "\n",
    "# Initial random value\n",
    "uₜ = view(randn(T, n + pad, n + pad, n + pad), 1:n, 1:n, 1:n)\n",
    "\n",
    "# Compute the FFT plan ahead of time -- no part of our benchmark\n",
    "𝓕   = plan_fft!(uₜ)\n",
    "𝓕⁻¹ = plan_ifft!(uₜ)\n",
    "\n",
    "cpu_time = @elapsed time_step_attempt_2!(uₜ, 𝓕, 𝓕⁻¹, 0.75)\n",
    "println(\"CPU took: \", round(cpu_time, digits=4), \"s\")\n",
    "println(\"That's a \", round(cpu_time / gpu_time, digits=2), \"× speedup\")"
   ]
  }
 ],
 "metadata": {
  "kernelspec": {
   "display_name": "Julia 1.6.0",
   "language": "julia",
   "name": "julia-1.6"
  },
  "language_info": {
   "file_extension": ".jl",
   "mimetype": "application/julia",
   "name": "julia",
   "version": "1.6.0"
  }
 },
 "nbformat": 4,
 "nbformat_minor": 4
}
