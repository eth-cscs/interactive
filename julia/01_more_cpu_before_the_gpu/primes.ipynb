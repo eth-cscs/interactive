{
 "cells": [
  {
   "cell_type": "markdown",
   "metadata": {},
   "source": [
    "## Okay, just one more neat Julia language feature: generating code with code\n",
    "\n",
    "(depending on how fast I run through these slides)\n",
    "\n",
    "At some point I developed an interest in sieving prime numbers, and got particularly interested in what is probably the fastest implementation of the Sieve of Erathostenes:\n",
    "\n",
    "https://github.com/kimwalisch/primesieve/\n",
    "\n",
    "It implements this:\n",
    "\n",
    "![Prime sieve](https://upload.wikimedia.org/wikipedia/commons/b/b9/Sieve_of_Eratosthenes_animation.gif)\n",
    "\n",
    "but skips multiples of 2, 3, and 5, does something cache efficient, and has some ingenious code to unroll the \"inner sieving loop\". It's great but it's quite something to look at:\n",
    "\n",
    "https://github.com/kimwalisch/primesieve/blob/master/src/EratSmall.cpp#L93-L314\n",
    "\n",
    "Writing this code is extremely tedious, but writing the code that generates the code is much easier!\n",
    "\n",
    "So I tried that: https://github.com/haampie/FastPrimeSieve.jl/blob/master/src/generate_sieving_loop.jl#L108 -- although still very difficult to follow, and it could potentially be used to generalize the loops"
   ]
  },
  {
   "cell_type": "code",
   "execution_count": 1,
   "metadata": {},
   "outputs": [
    {
     "name": "stderr",
     "output_type": "stream",
     "text": [
      "\u001b[32m\u001b[1m  Activating\u001b[22m\u001b[39m environment at `~/tutorial_julia_interactive/01_more_cpu_before_the_gpu/Project.toml`\n"
     ]
    }
   ],
   "source": [
    "] activate ."
   ]
  },
  {
   "cell_type": "code",
   "execution_count": 2,
   "metadata": {},
   "outputs": [
    {
     "name": "stderr",
     "output_type": "stream",
     "text": [
      "\u001b[32m\u001b[1m     Cloning\u001b[22m\u001b[39m git-repo `https://github.com/haampie/FastPrimeSieve.jl`\n",
      "Path `/scratch/snx3000/hstoppel/julia_dev/FastPrimeSieve` exists and looks like the correct repo. Using existing path.\n",
      "\u001b[32m\u001b[1m   Resolving\u001b[22m\u001b[39m package versions...\n",
      "\u001b[32m\u001b[1m  No Changes\u001b[22m\u001b[39m to `~/tutorial_julia_interactive/01_more_cpu_before_the_gpu/Project.toml`\n",
      "\u001b[32m\u001b[1m  No Changes\u001b[22m\u001b[39m to `~/tutorial_julia_interactive/01_more_cpu_before_the_gpu/Manifest.toml`\n"
     ]
    }
   ],
   "source": [
    "] dev https://github.com/haampie/FastPrimeSieve.jl"
   ]
  },
  {
   "cell_type": "code",
   "execution_count": 3,
   "metadata": {},
   "outputs": [
    {
     "data": {
      "text/plain": [
       "how_many_prime_numbers_less_than_or_equal_to (generic function with 1 method)"
      ]
     },
     "execution_count": 3,
     "metadata": {},
     "output_type": "execute_result"
    }
   ],
   "source": [
    "function how_many_prime_numbers_less_than_or_equal_to(n)\n",
    "    is_prime = trues(n)\n",
    "    is_prime[1] = false\n",
    "    @inbounds for i=2:isqrt(n)\n",
    "        if is_prime[i]\n",
    "            for j=i^2:i:n\n",
    "                is_prime[j] = false\n",
    "            end\n",
    "        end\n",
    "    end\n",
    "    return count(is_prime)\n",
    "end"
   ]
  },
  {
   "cell_type": "code",
   "execution_count": 4,
   "metadata": {},
   "outputs": [
    {
     "name": "stdout",
     "output_type": "stream",
     "text": [
      " 90.219791 seconds (3 allocations: 1.164 GiB, 0.01% gc time)\n"
     ]
    },
    {
     "data": {
      "text/plain": [
       "455052511"
      ]
     },
     "execution_count": 4,
     "metadata": {},
     "output_type": "execute_result"
    }
   ],
   "source": [
    "@time how_many_prime_numbers_less_than_or_equal_to(10^10)"
   ]
  },
  {
   "cell_type": "code",
   "execution_count": 5,
   "metadata": {},
   "outputs": [],
   "source": [
    "using FastPrimeSieve: countprimes, pcountprimes"
   ]
  },
  {
   "cell_type": "code",
   "execution_count": 14,
   "metadata": {},
   "outputs": [
    {
     "name": "stdout",
     "output_type": "stream",
     "text": [
      "  2.944059 seconds (7 allocations: 277.109 KiB)\n"
     ]
    },
    {
     "data": {
      "text/plain": [
       "455052511"
      ]
     },
     "execution_count": 14,
     "metadata": {},
     "output_type": "execute_result"
    }
   ],
   "source": [
    "@time countprimes(10^10, segment_length=32*1024)"
   ]
  },
  {
   "cell_type": "code",
   "execution_count": 7,
   "metadata": {},
   "outputs": [
    {
     "name": "stderr",
     "output_type": "stream",
     "text": [
      "Cloning into 'primesieve'...\n",
      "Note: switching to 'da47d8259f2dbab7e0852eb8ed849bde45bdbe65'.\n",
      "\n",
      "You are in 'detached HEAD' state. You can look around, make experimental\n",
      "changes and commit them, and you can discard any commits you make in this\n",
      "state without impacting any branches by switching back to a branch.\n",
      "\n",
      "If you want to create a new branch to retain commits you create, you may\n",
      "do so (now or later) by using -c with the switch command. Example:\n",
      "\n",
      "  git switch -c <new-branch-name>\n",
      "\n",
      "Or undo this operation with:\n",
      "\n",
      "  git switch -\n",
      "\n",
      "Turn off this advice by setting config variable advice.detachedHead to false\n",
      "\n",
      "HEAD is now at da47d825 Use future-proof CMake\n"
     ]
    },
    {
     "name": "stdout",
     "output_type": "stream",
     "text": [
      "-- The CXX compiler identification is GNU 9.3.0\n",
      "-- Cray Programming Environment 2.7.3 CXX\n",
      "-- Check for working CXX compiler: /opt/cray/pe/craype/2.7.3/bin/CC\n",
      "-- Check for working CXX compiler: /opt/cray/pe/craype/2.7.3/bin/CC -- works\n",
      "-- Detecting CXX compiler ABI info\n",
      "-- Detecting CXX compiler ABI info - done\n",
      "-- Detecting CXX compile features\n",
      "-- Detecting CXX compile features - done\n",
      "-- Performing Test atomic64\n",
      "-- Performing Test atomic64 - Success\n",
      "-- Configuring done\n",
      "-- Generating done\n",
      "-- Build files have been written to: /scratch/snx3000/hstoppel/primesieve/build\n",
      "Scanning dependencies of target libprimesieve\n",
      "[ 17%] Building CXX object CMakeFiles/libprimesieve.dir/src/EratSmall.cpp.o\n",
      "[ 19%] Building CXX object CMakeFiles/libprimesieve.dir/src/EratMedium.cpp.o\n",
      "[ 21%] Building CXX object CMakeFiles/libprimesieve.dir/src/EratBig.cpp.o\n",
      "[ 23%] Building CXX object CMakeFiles/libprimesieve.dir/src/iterator-c.cpp.o\n",
      "[ 23%] Building CXX object CMakeFiles/libprimesieve.dir/src/Erat.cpp.o\n",
      "[ 23%] Building CXX object CMakeFiles/libprimesieve.dir/src/IteratorHelper.cpp.o\n",
      "[ 23%] Building CXX object CMakeFiles/libprimesieve.dir/src/LookupTables.cpp.o\n",
      "[ 29%] Building CXX object CMakeFiles/libprimesieve.dir/src/CpuInfo.cpp.o\n",
      "[ 29%] Building CXX object CMakeFiles/libprimesieve.dir/src/api.cpp.o\n",
      "[ 23%] Building CXX object CMakeFiles/libprimesieve.dir/src/iterator.cpp.o\n",
      "[ 29%] Building CXX object CMakeFiles/libprimesieve.dir/src/api-c.cpp.o\n",
      "[ 31%] Building CXX object CMakeFiles/libprimesieve.dir/src/PrimeGenerator.cpp.o\n",
      "[ 31%] Building CXX object CMakeFiles/libprimesieve.dir/src/MemoryPool.cpp.o\n",
      "[ 31%] Building CXX object CMakeFiles/libprimesieve.dir/src/nthPrime.cpp.o\n",
      "[ 31%] Building CXX object CMakeFiles/libprimesieve.dir/src/popcount.cpp.o\n",
      "[ 34%] Building CXX object CMakeFiles/libprimesieve.dir/src/ParallelSieve.cpp.o\n",
      "[ 40%] Building CXX object CMakeFiles/libprimesieve.dir/src/PrintPrimes.cpp.o\n",
      "[ 42%] Building CXX object CMakeFiles/libprimesieve.dir/src/PreSieve.cpp.o\n",
      "[ 42%] Building CXX object CMakeFiles/libprimesieve.dir/src/PrimeSieve.cpp.o\n",
      "[ 42%] Building CXX object CMakeFiles/libprimesieve.dir/src/SievingPrimes.cpp.o\n",
      "[ 44%] Linking CXX shared library libprimesieve.so\n",
      "[ 44%] Built target libprimesieve\n",
      "Scanning dependencies of target libprimesieve-static\n",
      "[ 46%] Building CXX object CMakeFiles/libprimesieve-static.dir/src/api-c.cpp.o\n",
      "[ 48%] Building CXX object CMakeFiles/libprimesieve-static.dir/src/api.cpp.o\n",
      "[ 57%] Building CXX object CMakeFiles/libprimesieve-static.dir/src/CpuInfo.cpp.o\n",
      "[ 65%] Building CXX object CMakeFiles/libprimesieve-static.dir/src/EratBig.cpp.o\n",
      "[ 65%] Building CXX object CMakeFiles/libprimesieve-static.dir/src/Erat.cpp.o\n",
      "[ 65%] Building CXX object CMakeFiles/libprimesieve-static.dir/src/EratSmall.cpp.o\n",
      "[ 65%] Building CXX object CMakeFiles/libprimesieve-static.dir/src/iterator-c.cpp.o\n",
      "[ 65%] Building CXX object CMakeFiles/libprimesieve-static.dir/src/IteratorHelper.cpp.o\n",
      "[ 65%] Building CXX object CMakeFiles/libprimesieve-static.dir/src/EratMedium.cpp.o\n",
      "[ 65%] Building CXX object CMakeFiles/libprimesieve-static.dir/src/iterator.cpp.o\n",
      "[ 70%] Building CXX object CMakeFiles/libprimesieve-static.dir/src/LookupTables.cpp.o\n",
      "[ 70%] Building CXX object CMakeFiles/libprimesieve-static.dir/src/MemoryPool.cpp.o\n",
      "[ 82%] Building CXX object CMakeFiles/libprimesieve-static.dir/src/popcount.cpp.o\n",
      "[ 82%] Building CXX object CMakeFiles/libprimesieve-static.dir/src/ParallelSieve.cpp.o\n",
      "[ 80%] Building CXX object CMakeFiles/libprimesieve-static.dir/src/PrimeGenerator.cpp.o\n",
      "[ 82%] Building CXX object CMakeFiles/libprimesieve-static.dir/src/nthPrime.cpp.o\n",
      "[ 85%] Building CXX object CMakeFiles/libprimesieve-static.dir/src/PreSieve.cpp.o\n",
      "[ 85%] Building CXX object CMakeFiles/libprimesieve-static.dir/src/PrimeSieve.cpp.o\n",
      "[ 87%] Building CXX object CMakeFiles/libprimesieve-static.dir/src/SievingPrimes.cpp.o\n",
      "[ 87%] Building CXX object CMakeFiles/libprimesieve-static.dir/src/PrintPrimes.cpp.o\n",
      "[ 89%] Linking CXX static library libprimesieve.a\n",
      "[ 89%] Built target libprimesieve-static\n",
      "Scanning dependencies of target primesieve\n",
      "[ 97%] Building CXX object CMakeFiles/primesieve.dir/src/app/cmdoptions.cpp.o\n",
      "[ 97%] Building CXX object CMakeFiles/primesieve.dir/src/app/help.cpp.o\n",
      "[ 97%] Building CXX object CMakeFiles/primesieve.dir/src/app/main.cpp.o\n",
      "[ 97%] Building CXX object CMakeFiles/primesieve.dir/src/app/test.cpp.o\n",
      "[100%] Linking CXX executable primesieve\n",
      "[100%] Built target primesieve\n"
     ]
    },
    {
     "data": {
      "text/plain": [
       "Process(`\u001b[4mmake\u001b[24m \u001b[4m-j\u001b[24m`, ProcessExited(0))"
      ]
     },
     "execution_count": 7,
     "metadata": {},
     "output_type": "execute_result"
    }
   ],
   "source": [
    "# Build with Cray's GNU GCC programming environment\n",
    "cd(ENV[\"SCRATCH\"]) do\n",
    "    rm(\"primesieve\", force=true, recursive=true)\n",
    "    run(`git clone https://github.com/kimwalisch/primesieve.git`)\n",
    "    cd(\"primesieve\") do\n",
    "        # latest release\n",
    "        run(`git checkout da47d8259f2dbab7e0852eb8ed849bde45bdbe65`)\n",
    "        mkdir(\"build\")\n",
    "        cd(\"build\") do\n",
    "            run(`cmake .. -DCMAKE_BUILD_TYPE=Release -DCMAKE_CXX_COMPILER=CC -DCMAKE_CXX_FLAGS=\"-march=native\"`)\n",
    "            run(`make -j`)\n",
    "        end\n",
    "    end\n",
    "end"
   ]
  },
  {
   "cell_type": "code",
   "execution_count": 12,
   "metadata": {},
   "outputs": [
    {
     "name": "stdout",
     "output_type": "stream",
     "text": [
      "Sieve size = 32 KiB\n",
      "Threads = 12\n",
      "100%\n",
      "Seconds: 0.199\n",
      "Primes: 455052511\n"
     ]
    }
   ],
   "source": [
    "primesieve = joinpath(ENV[\"SCRATCH\"], \"primesieve\", \"build\", \"primesieve\")\n",
    "cmd = `$(primesieve) 1e10 -t 12 -s 32`\n",
    "\n",
    "run(cmd);"
   ]
  },
  {
   "cell_type": "code",
   "execution_count": 13,
   "metadata": {},
   "outputs": [
    {
     "name": "stdout",
     "output_type": "stream",
     "text": [
      "  0.304542 seconds (185 allocations: 2.518 MiB)\n"
     ]
    },
    {
     "data": {
      "text/plain": [
       "455052511"
      ]
     },
     "execution_count": 13,
     "metadata": {},
     "output_type": "execute_result"
    }
   ],
   "source": [
    "@time pcountprimes(10^10, segment_length=32*1024)"
   ]
  },
  {
   "cell_type": "markdown",
   "metadata": {},
   "source": [
    "Clearly `primesieve` is still quite a bit faster (0.2s vs 0.3s) and it will easily win in the $2^{32}$ to $2^{64}$ where you have to switch strategies! But then again, I definitely did not spent the same amount of time on writing it."
   ]
  },
  {
   "cell_type": "markdown",
   "metadata": {},
   "source": [
    "If you go down the rabbithole and run\n",
    "\n",
    "```julia\n",
    "using FastPrimeSieve: SmallSieve\n",
    "\n",
    "@code_native debuginfo=:none SmallSieve(10^10)\n",
    "```\n",
    "\n",
    "you will in fact see the same \"Highly optimized inner loop\" as advertized in https://github.com/kimwalisch/primesieve/blob/master/doc/ALGORITHMS.md#highly-optimized-inner-loop:"
   ]
  },
  {
   "cell_type": "markdown",
   "metadata": {},
   "source": [
    "```asm\n",
    "L6688:\n",
    "    andb    $-65, -1(%rcx,%rax)\n",
    "    andb    $-5, (%r8,%rax)\n",
    "    andb    $-9, (%r9,%rax)\n",
    "    andb    $127, (%r11,%rax)\n",
    "    andb    $-2, (%rbp,%rax)\n",
    "    andb    $-17, (%rbx,%rax)\n",
    "    andb    $-33, (%rsi,%rax)\n",
    "    andb    $-3, (%rdx,%rax)\n",
    "    addq    %r10, %rax\n",
    "    cmpq    %rax, %rdi\n",
    "    jge    L6688\n",
    "\n",
    "```"
   ]
  }
 ],
 "metadata": {
  "kernelspec": {
   "display_name": "Julia 1.6.0",
   "language": "julia",
   "name": "julia-1.6"
  },
  "language_info": {
   "file_extension": ".jl",
   "mimetype": "application/julia",
   "name": "julia",
   "version": "1.6.0"
  }
 },
 "nbformat": 4,
 "nbformat_minor": 4
}
