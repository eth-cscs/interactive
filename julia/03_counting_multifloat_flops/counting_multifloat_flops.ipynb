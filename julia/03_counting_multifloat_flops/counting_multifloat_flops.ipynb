{
 "cells": [
  {
   "cell_type": "code",
   "execution_count": null,
   "metadata": {},
   "outputs": [],
   "source": [
    "] instantiate"
   ]
  },
  {
   "cell_type": "markdown",
   "metadata": {},
   "source": [
    "## What does MultiFloat do approximately?\n",
    "\n",
    "MultiFloats.jl is mostly code to generate julia code:"
   ]
  },
  {
   "cell_type": "code",
   "execution_count": 1,
   "metadata": {},
   "outputs": [
    {
     "data": {
      "text/plain": [
       ":(function multifloat_mul(a::MultiFloat{T, 4}, b::MultiFloat{T, 4}) where T\n",
       "      $(Expr(:meta, :inline))\n",
       "      (t0_0, e0_1) = two_prod(a._limbs[1], b._limbs[1])\n",
       "      (t0_1, e0_2) = two_prod(a._limbs[1], b._limbs[2])\n",
       "      (t1_1, e1_2) = two_prod(a._limbs[2], b._limbs[1])\n",
       "      (t0_2, e0_3) = two_prod(a._limbs[1], b._limbs[3])\n",
       "      (t1_2, e1_3) = two_prod(a._limbs[2], b._limbs[2])\n",
       "      (t2_2, e2_3) = two_prod(a._limbs[3], b._limbs[1])\n",
       "      (t0_3, e0_4) = two_prod(a._limbs[1], b._limbs[4])\n",
       "      (t1_3, e1_4) = two_prod(a._limbs[2], b._limbs[3])\n",
       "      (t2_3, e2_4) = two_prod(a._limbs[3], b._limbs[2])\n",
       "      (t3_3, e3_4) = two_prod(a._limbs[4], b._limbs[1])\n",
       "      t0_4 = a._limbs[2] * b._limbs[4]\n",
       "      t1_4 = a._limbs[3] * b._limbs[3]\n",
       "      t2_4 = a._limbs[4] * b._limbs[2]\n",
       "      s0 = t0_0\n",
       "      (s1, m1_2, m1_3) = mpadd_3_3(t0_1, t1_1, e0_1)\n",
       "      (s2, m2_3, m2_4) = mpadd_6_3(t0_2, t1_2, t2_2, e0_2, e1_2, m1_2)\n",
       "      (s3, m3_4) = mpadd_9_2(t0_3, t1_3, t2_3, t3_3, e0_3, e1_3, e2_3, m1_3, m2_3)\n",
       "      s4 = t0_4 + t1_4 + t2_4 + e0_4 + e1_4 + e2_4 + e3_4 + m2_4 + m3_4\n",
       "      MultiFloat{T, 4}(renorm_4(s0, s1, s2, s3, s4))\n",
       "  end)"
      ]
     },
     "execution_count": 1,
     "metadata": {},
     "output_type": "execute_result"
    }
   ],
   "source": [
    "using MultiFloats\n",
    "MultiFloats.multifloat_mul_func(4)"
   ]
  },
  {
   "cell_type": "markdown",
   "metadata": {},
   "source": [
    "This top-level function for multiplication calls into further generated functions. But how many flop is it actually doing?"
   ]
  },
  {
   "cell_type": "markdown",
   "metadata": {},
   "source": [
    " ## Counting flop by hooking into the compiler\n",
    " \n",
    " GFlops is a magical package that hooks into the compiler through Cassette.jl, allowing it to contextually/temporarily \"overdub\" low-level add, sub, mul, div, fma functions and wrap them with a counter"
   ]
  },
  {
   "cell_type": "code",
   "execution_count": 2,
   "metadata": {},
   "outputs": [],
   "source": [
    "import GFlops: @count_ops, flop\n",
    "using MultiFloats"
   ]
  },
  {
   "cell_type": "code",
   "execution_count": 3,
   "metadata": {},
   "outputs": [
    {
     "name": "stdout",
     "output_type": "stream",
     "text": [
      "N = 2: Flop Counter: 36 flop\n",
      "┌─────┬─────────┐\n",
      "│\u001b[1m     \u001b[0m│\u001b[1m Float64 \u001b[0m│\n",
      "├─────┼─────────┤\n",
      "│\u001b[1m fma \u001b[0m│       1 │\n",
      "│\u001b[1m add \u001b[0m│      13 │\n",
      "│\u001b[1m sub \u001b[0m│      18 │\n",
      "│\u001b[1m mul \u001b[0m│       3 │\n",
      "└─────┴─────────┘\n",
      "──────────────────────────────\n",
      "N = 3: Flop Counter: 90 flop\n",
      "┌─────┬─────────┐\n",
      "│\u001b[1m     \u001b[0m│\u001b[1m Float64 \u001b[0m│\n",
      "├─────┼─────────┤\n",
      "│\u001b[1m fma \u001b[0m│       3 │\n",
      "│\u001b[1m add \u001b[0m│      32 │\n",
      "│\u001b[1m sub \u001b[0m│      46 │\n",
      "│\u001b[1m mul \u001b[0m│       6 │\n",
      "└─────┴─────────┘\n",
      "──────────────────────────────\n",
      "N = 4: Flop Counter: 179 flop\n",
      "┌─────┬─────────┐\n",
      "│\u001b[1m     \u001b[0m│\u001b[1m Float64 \u001b[0m│\n",
      "├─────┼─────────┤\n",
      "│\u001b[1m fma \u001b[0m│       6 │\n",
      "│\u001b[1m add \u001b[0m│      63 │\n",
      "│\u001b[1m sub \u001b[0m│      94 │\n",
      "│\u001b[1m mul \u001b[0m│      10 │\n",
      "└─────┴─────────┘\n",
      "──────────────────────────────\n",
      "N = 5: Flop Counter: 315 flop\n",
      "┌─────┬─────────┐\n",
      "│\u001b[1m     \u001b[0m│\u001b[1m Float64 \u001b[0m│\n",
      "├─────┼─────────┤\n",
      "│\u001b[1m fma \u001b[0m│      10 │\n",
      "│\u001b[1m add \u001b[0m│     110 │\n",
      "│\u001b[1m sub \u001b[0m│     170 │\n",
      "│\u001b[1m mul \u001b[0m│      15 │\n",
      "└─────┴─────────┘\n",
      "──────────────────────────────\n",
      "N = 6: Flop Counter: 510 flop\n",
      "┌─────┬─────────┐\n",
      "│\u001b[1m     \u001b[0m│\u001b[1m Float64 \u001b[0m│\n",
      "├─────┼─────────┤\n",
      "│\u001b[1m fma \u001b[0m│      15 │\n",
      "│\u001b[1m add \u001b[0m│     177 │\n",
      "│\u001b[1m sub \u001b[0m│     282 │\n",
      "│\u001b[1m mul \u001b[0m│      21 │\n",
      "└─────┴─────────┘\n",
      "──────────────────────────────\n",
      "N = 7: Flop Counter: 776 flop\n",
      "┌─────┬─────────┐\n",
      "│\u001b[1m     \u001b[0m│\u001b[1m Float64 \u001b[0m│\n",
      "├─────┼─────────┤\n",
      "│\u001b[1m fma \u001b[0m│      21 │\n",
      "│\u001b[1m add \u001b[0m│     268 │\n",
      "│\u001b[1m sub \u001b[0m│     438 │\n",
      "│\u001b[1m mul \u001b[0m│      28 │\n",
      "└─────┴─────────┘\n",
      "──────────────────────────────\n",
      "N = 8: Flop Counter: 1125 flop\n",
      "┌─────┬─────────┐\n",
      "│\u001b[1m     \u001b[0m│\u001b[1m Float64 \u001b[0m│\n",
      "├─────┼─────────┤\n",
      "│\u001b[1m fma \u001b[0m│      28 │\n",
      "│\u001b[1m add \u001b[0m│     387 │\n",
      "│\u001b[1m sub \u001b[0m│     646 │\n",
      "│\u001b[1m mul \u001b[0m│      36 │\n",
      "└─────┴─────────┘\n",
      "──────────────────────────────\n"
     ]
    }
   ],
   "source": [
    "flop_per_N = Int[]\n",
    "\n",
    "for N = 2:8\n",
    "    F = Float64x{N}\n",
    "    stats = @count_ops F(1) * F(2) + F(3)\n",
    "    push!(flop_per_N, flop(stats))\n",
    "    println(\"N = \", N, \": \", stats, \"\\n\", \"─\"^30)\n",
    "end"
   ]
  },
  {
   "cell_type": "code",
   "execution_count": 4,
   "metadata": {},
   "outputs": [
    {
     "data": {
      "text/plain": [
       "7-element Vector{Int64}:\n",
       "   36\n",
       "   90\n",
       "  179\n",
       "  315\n",
       "  510\n",
       "  776\n",
       " 1125"
      ]
     },
     "execution_count": 4,
     "metadata": {},
     "output_type": "execute_result"
    }
   ],
   "source": [
    "flop_per_N"
   ]
  },
  {
   "cell_type": "markdown",
   "metadata": {},
   "source": [
    "## Fitting the data\n",
    "\n",
    "Polynomials is a useful package to fit a ... polynomial through our data"
   ]
  },
  {
   "cell_type": "code",
   "execution_count": 5,
   "metadata": {},
   "outputs": [],
   "source": [
    "using Polynomials: fit"
   ]
  },
  {
   "cell_type": "code",
   "execution_count": 6,
   "metadata": {},
   "outputs": [
    {
     "data": {
      "text/html": [
       "&#45;15.0 &#43; 18.5&#8729;x &#45; 0.5&#8729;x<sup>2</sup> &#43; 2.0&#8729;x<sup>3</sup>"
      ],
      "text/latex": [
       "$-15.0 + 18.5\\cdot x - 0.5\\cdot x^{2} + 2.0\\cdot x^{3}$"
      ],
      "text/plain": [
       "Polynomials.Polynomial(-15.0 + 18.5*x - 0.5*x^2 + 2.0*x^3)"
      ]
     },
     "execution_count": 6,
     "metadata": {},
     "output_type": "execute_result"
    }
   ],
   "source": [
    "f = fit(2:8, flop_per_N)"
   ]
  },
  {
   "cell_type": "markdown",
   "metadata": {},
   "source": [
    "So one fused-multiply-add for a MultiFloat is $O(2N^3)$ flop -- it's quite expensive"
   ]
  }
 ],
 "metadata": {
  "kernelspec": {
   "display_name": "Julia 1.6.0",
   "language": "julia",
   "name": "julia-1.6"
  },
  "language_info": {
   "file_extension": ".jl",
   "mimetype": "application/julia",
   "name": "julia",
   "version": "1.6.0"
  }
 },
 "nbformat": 4,
 "nbformat_minor": 4
}
